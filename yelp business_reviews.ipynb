{
 "cells": [
  {
   "cell_type": "code",
   "execution_count": 1,
   "metadata": {},
   "outputs": [],
   "source": [
    "import glob\n",
    "import matplotlib.pyplot as plt\n",
    "import numpy as np\n",
    "import os\n",
    "import pandas as pd\n",
    "import seaborn as sns\n",
    "import warnings\n",
    "warnings.filterwarnings(\"ignore\")"
   ]
  },
  {
   "cell_type": "code",
   "execution_count": null,
   "metadata": {},
   "outputs": [],
   "source": [
    "# Obtener la lista de archivos JSON en carpeta\n",
    "#archivos_json = glob.glob(os.path.join(\"datos/yelp\", \"*.json\"))"
   ]
  },
  {
   "cell_type": "code",
   "execution_count": 4,
   "metadata": {},
   "outputs": [
    {
     "ename": "MemoryError",
     "evalue": "",
     "output_type": "error",
     "traceback": [
      "\u001b[1;31m---------------------------------------------------------------------------\u001b[0m",
      "\u001b[1;31mMemoryError\u001b[0m                               Traceback (most recent call last)",
      "Cell \u001b[1;32mIn[4], line 5\u001b[0m\n\u001b[0;32m      1\u001b[0m \u001b[38;5;66;03m# Se guardará archivos JSON en formato pickle (binario) el cual es más rápido para futuras consultas\u001b[39;00m\n\u001b[0;32m      2\u001b[0m \u001b[38;5;66;03m# for archivo in archivos_json:\u001b[39;00m\n\u001b[0;32m      4\u001b[0m archivo \u001b[38;5;241m=\u001b[39m \u001b[38;5;124m'\u001b[39m\u001b[38;5;124mdatos/yelp_yelp/yelp_academic_dataset_review.json\u001b[39m\u001b[38;5;124m'\u001b[39m\n\u001b[1;32m----> 5\u001b[0m df \u001b[38;5;241m=\u001b[39m \u001b[43mpd\u001b[49m\u001b[38;5;241;43m.\u001b[39;49m\u001b[43mread_json\u001b[49m\u001b[43m(\u001b[49m\u001b[43marchivo\u001b[49m\u001b[43m,\u001b[49m\u001b[43m \u001b[49m\u001b[43mlines\u001b[49m\u001b[38;5;241;43m=\u001b[39;49m\u001b[38;5;28;43;01mTrue\u001b[39;49;00m\u001b[43m)\u001b[49m\n\u001b[0;32m      6\u001b[0m df\u001b[38;5;241m.\u001b[39mto_pickle(archivo\u001b[38;5;241m.\u001b[39mreplace(\u001b[38;5;124m\"\u001b[39m\u001b[38;5;124m.json\u001b[39m\u001b[38;5;124m\"\u001b[39m, \u001b[38;5;124m\"\u001b[39m\u001b[38;5;124m.pkl\u001b[39m\u001b[38;5;124m\"\u001b[39m))  \u001b[38;5;66;03m# Guardar como .pkl\u001b[39;00m\n\u001b[0;32m      7\u001b[0m business \u001b[38;5;241m=\u001b[39m pd\u001b[38;5;241m.\u001b[39mread_pickle(\u001b[38;5;124m\"\u001b[39m\u001b[38;5;124mdatos/yelp_yelp/yelp_academic_dataset_review.pkl\u001b[39m\u001b[38;5;124m\"\u001b[39m)\n",
      "File \u001b[1;32mc:\\Users\\victo\\AppData\\Local\\Programs\\Python\\Python312\\Lib\\site-packages\\pandas\\io\\json\\_json.py:815\u001b[0m, in \u001b[0;36mread_json\u001b[1;34m(path_or_buf, orient, typ, dtype, convert_axes, convert_dates, keep_default_dates, precise_float, date_unit, encoding, encoding_errors, lines, chunksize, compression, nrows, storage_options, dtype_backend, engine)\u001b[0m\n\u001b[0;32m    813\u001b[0m     \u001b[38;5;28;01mreturn\u001b[39;00m json_reader\n\u001b[0;32m    814\u001b[0m \u001b[38;5;28;01melse\u001b[39;00m:\n\u001b[1;32m--> 815\u001b[0m     \u001b[38;5;28;01mreturn\u001b[39;00m \u001b[43mjson_reader\u001b[49m\u001b[38;5;241;43m.\u001b[39;49m\u001b[43mread\u001b[49m\u001b[43m(\u001b[49m\u001b[43m)\u001b[49m\n",
      "File \u001b[1;32mc:\\Users\\victo\\AppData\\Local\\Programs\\Python\\Python312\\Lib\\site-packages\\pandas\\io\\json\\_json.py:1023\u001b[0m, in \u001b[0;36mJsonReader.read\u001b[1;34m(self)\u001b[0m\n\u001b[0;32m   1021\u001b[0m         data \u001b[38;5;241m=\u001b[39m ensure_str(\u001b[38;5;28mself\u001b[39m\u001b[38;5;241m.\u001b[39mdata)\n\u001b[0;32m   1022\u001b[0m         data_lines \u001b[38;5;241m=\u001b[39m data\u001b[38;5;241m.\u001b[39msplit(\u001b[38;5;124m\"\u001b[39m\u001b[38;5;130;01m\\n\u001b[39;00m\u001b[38;5;124m\"\u001b[39m)\n\u001b[1;32m-> 1023\u001b[0m         obj \u001b[38;5;241m=\u001b[39m \u001b[38;5;28mself\u001b[39m\u001b[38;5;241m.\u001b[39m_get_object_parser(\u001b[38;5;28;43mself\u001b[39;49m\u001b[38;5;241;43m.\u001b[39;49m\u001b[43m_combine_lines\u001b[49m\u001b[43m(\u001b[49m\u001b[43mdata_lines\u001b[49m\u001b[43m)\u001b[49m)\n\u001b[0;32m   1024\u001b[0m \u001b[38;5;28;01melse\u001b[39;00m:\n\u001b[0;32m   1025\u001b[0m     obj \u001b[38;5;241m=\u001b[39m \u001b[38;5;28mself\u001b[39m\u001b[38;5;241m.\u001b[39m_get_object_parser(\u001b[38;5;28mself\u001b[39m\u001b[38;5;241m.\u001b[39mdata)\n",
      "File \u001b[1;32mc:\\Users\\victo\\AppData\\Local\\Programs\\Python\\Python312\\Lib\\site-packages\\pandas\\io\\json\\_json.py:976\u001b[0m, in \u001b[0;36mJsonReader._combine_lines\u001b[1;34m(self, lines)\u001b[0m\n\u001b[0;32m    971\u001b[0m \u001b[38;5;28;01mdef\u001b[39;00m \u001b[38;5;21m_combine_lines\u001b[39m(\u001b[38;5;28mself\u001b[39m, lines) \u001b[38;5;241m-\u001b[39m\u001b[38;5;241m>\u001b[39m \u001b[38;5;28mstr\u001b[39m:\n\u001b[0;32m    972\u001b[0m \u001b[38;5;250m    \u001b[39m\u001b[38;5;124;03m\"\"\"\u001b[39;00m\n\u001b[0;32m    973\u001b[0m \u001b[38;5;124;03m    Combines a list of JSON objects into one JSON object.\u001b[39;00m\n\u001b[0;32m    974\u001b[0m \u001b[38;5;124;03m    \"\"\"\u001b[39;00m\n\u001b[0;32m    975\u001b[0m     \u001b[38;5;28;01mreturn\u001b[39;00m (\n\u001b[1;32m--> 976\u001b[0m         \u001b[38;5;124;43mf\u001b[39;49m\u001b[38;5;124;43m'\u001b[39;49m\u001b[38;5;124;43m[\u001b[39;49m\u001b[38;5;132;43;01m{\u001b[39;49;00m\u001b[38;5;124;43m\"\u001b[39;49m\u001b[38;5;124;43m,\u001b[39;49m\u001b[38;5;124;43m\"\u001b[39;49m\u001b[38;5;241;43m.\u001b[39;49m\u001b[43mjoin\u001b[49m\u001b[43m(\u001b[49m\u001b[43m[\u001b[49m\u001b[43mline\u001b[49m\u001b[38;5;250;43m \u001b[39;49m\u001b[38;5;28;43;01mfor\u001b[39;49;00m\u001b[38;5;250;43m \u001b[39;49m\u001b[43mline\u001b[49m\u001b[38;5;250;43m \u001b[39;49m\u001b[38;5;129;43;01min\u001b[39;49;00m\u001b[38;5;250;43m \u001b[39;49m\u001b[43m(\u001b[49m\u001b[43mline\u001b[49m\u001b[38;5;241;43m.\u001b[39;49m\u001b[43mstrip\u001b[49m\u001b[43m(\u001b[49m\u001b[43m)\u001b[49m\u001b[38;5;250;43m \u001b[39;49m\u001b[38;5;28;43;01mfor\u001b[39;49;00m\u001b[38;5;250;43m \u001b[39;49m\u001b[43mline\u001b[49m\u001b[38;5;250;43m \u001b[39;49m\u001b[38;5;129;43;01min\u001b[39;49;00m\u001b[38;5;250;43m \u001b[39;49m\u001b[43mlines\u001b[49m\u001b[43m)\u001b[49m\u001b[38;5;250;43m \u001b[39;49m\u001b[38;5;28;43;01mif\u001b[39;49;00m\u001b[38;5;250;43m \u001b[39;49m\u001b[43mline\u001b[49m\u001b[43m]\u001b[49m\u001b[43m)\u001b[49m\u001b[38;5;132;43;01m}\u001b[39;49;00m\u001b[38;5;124;43m]\u001b[39;49m\u001b[38;5;124;43m'\u001b[39;49m\n\u001b[0;32m    977\u001b[0m     )\n",
      "\u001b[1;31mMemoryError\u001b[0m: "
     ]
    }
   ],
   "source": [
    "# Se guardará archivos JSON en formato pickle (binario) el cual es más rápido para futuras consultas\n",
    "# for archivo in archivos_json:\n",
    "\n",
    "archivo = 'datos/yelp_yelp/yelp_academic_dataset_review.json'\n",
    "df = pd.read_json(archivo, lines=True)\n",
    "df.to_pickle(archivo.replace(\".json\", \".pkl\"))  # Guardar como .pkl\n",
    "business = pd.read_pickle(\"datos/yelp_yelp/yelp_academic_dataset_review.pkl\")\n",
    "\n",
    "business.head()"
   ]
  },
  {
   "cell_type": "code",
   "execution_count": 5,
   "metadata": {},
   "outputs": [
    {
     "name": "stdout",
     "output_type": "stream",
     "text": [
      "Chunk 0 guardado.\n",
      "Chunk 1 guardado.\n",
      "Chunk 2 guardado.\n",
      "Chunk 3 guardado.\n",
      "Chunk 4 guardado.\n",
      "Chunk 5 guardado.\n",
      "Chunk 6 guardado.\n",
      "Chunk 7 guardado.\n",
      "Chunk 8 guardado.\n",
      "Chunk 9 guardado.\n",
      "Chunk 10 guardado.\n",
      "Chunk 11 guardado.\n",
      "Chunk 12 guardado.\n",
      "Chunk 13 guardado.\n",
      "Chunk 14 guardado.\n",
      "Chunk 15 guardado.\n",
      "Chunk 16 guardado.\n",
      "Chunk 17 guardado.\n",
      "Chunk 18 guardado.\n",
      "Chunk 19 guardado.\n",
      "Chunk 20 guardado.\n",
      "Chunk 21 guardado.\n",
      "Chunk 22 guardado.\n",
      "Chunk 23 guardado.\n",
      "Chunk 24 guardado.\n",
      "Chunk 25 guardado.\n",
      "Chunk 26 guardado.\n",
      "Chunk 27 guardado.\n",
      "Chunk 28 guardado.\n",
      "Chunk 29 guardado.\n",
      "Chunk 30 guardado.\n",
      "Chunk 31 guardado.\n",
      "Chunk 32 guardado.\n",
      "Chunk 33 guardado.\n",
      "Chunk 34 guardado.\n",
      "Chunk 35 guardado.\n",
      "Chunk 36 guardado.\n",
      "Chunk 37 guardado.\n",
      "Chunk 38 guardado.\n",
      "Chunk 39 guardado.\n",
      "Chunk 40 guardado.\n",
      "Chunk 41 guardado.\n",
      "Chunk 42 guardado.\n",
      "Chunk 43 guardado.\n",
      "Chunk 44 guardado.\n",
      "Chunk 45 guardado.\n",
      "Chunk 46 guardado.\n",
      "Chunk 47 guardado.\n",
      "Chunk 48 guardado.\n",
      "Chunk 49 guardado.\n",
      "Chunk 50 guardado.\n",
      "Chunk 51 guardado.\n",
      "Chunk 52 guardado.\n",
      "Chunk 53 guardado.\n",
      "Chunk 54 guardado.\n",
      "Chunk 55 guardado.\n",
      "Chunk 56 guardado.\n",
      "Chunk 57 guardado.\n",
      "Chunk 58 guardado.\n",
      "Chunk 59 guardado.\n",
      "Chunk 60 guardado.\n",
      "Chunk 61 guardado.\n",
      "Chunk 62 guardado.\n",
      "Chunk 63 guardado.\n",
      "Chunk 64 guardado.\n",
      "Chunk 65 guardado.\n",
      "Chunk 66 guardado.\n",
      "Chunk 67 guardado.\n",
      "Chunk 68 guardado.\n",
      "Chunk 69 guardado.\n"
     ]
    }
   ],
   "source": [
    "archivo = 'datos/yelp_yelp/yelp_academic_dataset_review.json'\n",
    "chunks = pd.read_json(archivo, lines=True, chunksize=100000)  # Leer en bloques de 100,000 filas\n",
    "\n",
    "# Guardar cada chunk en un archivo pickle\n",
    "# Esto evita que la memoria se llene al procesar el JSON por partes.\n",
    "for i, chunk in enumerate(chunks):\n",
    "    chunk.to_pickle(f'datos/yelp_yelp/review_part_{i}.pkl')  # Guarda en archivos más pequeños\n",
    "    print(f'Chunk {i} guardado.')"
   ]
  },
  {
   "cell_type": "code",
   "execution_count": 6,
   "metadata": {},
   "outputs": [
    {
     "name": "stdout",
     "output_type": "stream",
     "text": [
      "                review_id                 user_id             business_id  \\\n",
      "0  KU_O5udG6zpxOg-VcAEodg  mh_-eMZ6K5RLWhZyISBhwA  XQfwVwDr-v0ZS3_CbbE5Xw   \n",
      "1  BiTunyQ73aT9WBnpR9DZGw  OyoGAe7OKpv6SyGZT5g77Q  7ATYjTIgM3jUlt4UM3IypQ   \n",
      "2  saUsX_uimxRlCVr67Z4Jig  8g_iMtfSiwikVnbP2etR0A  YjUWPpI6HXG530lwP-fb2A   \n",
      "3  AqPFMleE6RsU23_auESxiA  _7bHUi9Uuf5__HHc_Q8guQ  kxX2SOes4o-D3ZQBkiMRfA   \n",
      "4  Sx8TMOWLNuJBWer-0pcmoA  bcjbaE6dDog4jkNY91ncLQ  e4Vwtrqf-wpJfwesgvdgxQ   \n",
      "\n",
      "   stars  useful  funny  cool  \\\n",
      "0      3       0      0     0   \n",
      "1      5       1      0     1   \n",
      "2      3       0      0     0   \n",
      "3      5       1      0     1   \n",
      "4      4       1      0     1   \n",
      "\n",
      "                                                text                date  \n",
      "0  If you decide to eat here, just be aware it is... 2018-07-07 22:09:11  \n",
      "1  I've taken a lot of spin classes over the year... 2012-01-03 15:28:18  \n",
      "2  Family diner. Had the buffet. Eclectic assortm... 2014-02-05 20:30:30  \n",
      "3  Wow!  Yummy, different,  delicious.   Our favo... 2015-01-04 00:01:03  \n",
      "4  Cute interior and owner (?) gave us tour of up... 2017-01-14 20:54:15  \n"
     ]
    }
   ],
   "source": [
    "import glob\n",
    "\n",
    "# Obtener lista de archivos .pkl guardados\n",
    "archivos_pkl = glob.glob('datos/yelp_yelp/review_part_*.pkl')\n",
    "\n",
    "# Leer y concatenar los DataFrames\n",
    "df_reviews = pd.concat([pd.read_pickle(f) for f in archivos_pkl])\n",
    "\n",
    "print(df_reviews.head())"
   ]
  },
  {
   "cell_type": "code",
   "execution_count": 7,
   "metadata": {},
   "outputs": [
    {
     "name": "stdout",
     "output_type": "stream",
     "text": [
      "<class 'pandas.core.frame.DataFrame'>\n",
      "Index: 6990280 entries, 0 to 999999\n",
      "Data columns (total 9 columns):\n",
      " #   Column       Dtype         \n",
      "---  ------       -----         \n",
      " 0   review_id    object        \n",
      " 1   user_id      object        \n",
      " 2   business_id  object        \n",
      " 3   stars        int64         \n",
      " 4   useful       int64         \n",
      " 5   funny        int64         \n",
      " 6   cool         int64         \n",
      " 7   text         object        \n",
      " 8   date         datetime64[ns]\n",
      "dtypes: datetime64[ns](1), int64(4), object(4)\n",
      "memory usage: 533.3+ MB\n"
     ]
    }
   ],
   "source": [
    "df_reviews.info()"
   ]
  },
  {
   "cell_type": "code",
   "execution_count": 8,
   "metadata": {},
   "outputs": [
    {
     "name": "stdout",
     "output_type": "stream",
     "text": [
      "text NaN 0\n",
      "stars NaN 0\n"
     ]
    }
   ],
   "source": [
    "print('text NaN', df_reviews['text'].isna().sum())\n",
    "print('stars NaN', df_reviews['stars'].isna().sum())"
   ]
  },
  {
   "cell_type": "code",
   "execution_count": null,
   "metadata": {},
   "outputs": [],
   "source": [
    "# Convertir la columna a tipo datetime\n",
    "# Vamos a asegurarnos de que la columna \"date\" esté en el formato correcto:\n",
    "df_reviews['date'] = pd.to_datetime(df_reviews['date'], errors='coerce')"
   ]
  },
  {
   "cell_type": "code",
   "execution_count": 9,
   "metadata": {},
   "outputs": [],
   "source": [
    "# df_rev.to_parquet('datos/yelp/reviews.parquet' , engine='fastparquet')\n",
    "# El motor pyarrow maneja mejor archivos grandes y evita problemas de compresión:\n",
    "df_reviews.to_parquet('datos/yelp/reviews.parquet', engine='pyarrow', compression='snappy')"
   ]
  },
  {
   "cell_type": "code",
   "execution_count": 3,
   "metadata": {},
   "outputs": [],
   "source": [
    "# leo el archivo de las reviews de yelp\n",
    "# How to read a Parquet file into Pandas DataFrame?\n",
    "df_rev = pd.read_parquet('datos/yelp/reviews.parquet' , engine='pyarrow')"
   ]
  },
  {
   "cell_type": "code",
   "execution_count": 10,
   "metadata": {},
   "outputs": [],
   "source": [
    "df_dup = df_reviews[df_reviews.duplicated(subset=['business_id',  'date', 'review_id', 'user_id'], keep=False)]\n",
    "df_dup = df_reviews.sort_values([])"
   ]
  },
  {
   "cell_type": "code",
   "execution_count": 11,
   "metadata": {},
   "outputs": [
    {
     "name": "stdout",
     "output_type": "stream",
     "text": [
      "                     review_id                 user_id  \\\n",
      "0       KU_O5udG6zpxOg-VcAEodg  mh_-eMZ6K5RLWhZyISBhwA   \n",
      "1       BiTunyQ73aT9WBnpR9DZGw  OyoGAe7OKpv6SyGZT5g77Q   \n",
      "2       saUsX_uimxRlCVr67Z4Jig  8g_iMtfSiwikVnbP2etR0A   \n",
      "3       AqPFMleE6RsU23_auESxiA  _7bHUi9Uuf5__HHc_Q8guQ   \n",
      "4       Sx8TMOWLNuJBWer-0pcmoA  bcjbaE6dDog4jkNY91ncLQ   \n",
      "...                        ...                     ...   \n",
      "999995  t-2o35kr7Q9DSaeuKhaDuQ  oX7o1TH0PHUWp9r9ry9_vw   \n",
      "999996  fLIwWCvdul9PNWYfJt5QWA  v8wlapFKVLs2qTYCGhCdiw   \n",
      "999997  ETAiy6wEM-r9ve4SKDhBpg  rLlYc1RzIBnOmnX3AbpEYw   \n",
      "999998  8OgvSXuc6KjAt2fSz9LuzA  eEH-8CEPU5ndPxDGzVfHiQ   \n",
      "999999  TQoVzNXqDkiDXgzlw8cyaQ  HYmGwYXvcYmW7dDjuWKJfw   \n",
      "\n",
      "                   business_id  stars  useful  funny  cool  \\\n",
      "0       XQfwVwDr-v0ZS3_CbbE5Xw      3       0      0     0   \n",
      "1       7ATYjTIgM3jUlt4UM3IypQ      5       1      0     1   \n",
      "2       YjUWPpI6HXG530lwP-fb2A      3       0      0     0   \n",
      "3       kxX2SOes4o-D3ZQBkiMRfA      5       1      0     1   \n",
      "4       e4Vwtrqf-wpJfwesgvdgxQ      4       1      0     1   \n",
      "...                        ...    ...     ...    ...   ...   \n",
      "999995  jLn69WQupjsDKrbPw_nlGQ      3       0      1     0   \n",
      "999996  t6v8g8UeNiq3O2GoEc7R4Q      4       0      0     0   \n",
      "999997  ZYRul0i1bhOjirHED6Kd0w      3       0      0     0   \n",
      "999998  onGXKwnxPLtKnO8yqQMPSA      1       1      0     1   \n",
      "999999  54vEFcAri3Wj6cdM4ljDBA      4       2      1     0   \n",
      "\n",
      "                                                     text                date  \n",
      "0       If you decide to eat here, just be aware it is... 2018-07-07 22:09:11  \n",
      "1       I've taken a lot of spin classes over the year... 2012-01-03 15:28:18  \n",
      "2       Family diner. Had the buffet. Eclectic assortm... 2014-02-05 20:30:30  \n",
      "3       Wow!  Yummy, different,  delicious.   Our favo... 2015-01-04 00:01:03  \n",
      "4       Cute interior and owner (?) gave us tour of up... 2017-01-14 20:54:15  \n",
      "...                                                   ...                 ...  \n",
      "999995  Never really had any issues here other than th... 2017-11-15 09:43:07  \n",
      "999996  Fish recently moved a couple of doors down the... 2014-09-03 18:27:33  \n",
      "999997  I've been to South House around a dozen or so ... 2016-02-20 22:25:29  \n",
      "999998  Wow! I am shocked at these reviews. I have tri... 2010-06-27 02:17:30  \n",
      "999999  headed to St. Louis for a little getaway with ... 2012-11-05 03:25:02  \n",
      "\n",
      "[6990280 rows x 9 columns]\n"
     ]
    }
   ],
   "source": [
    "print(df_dup)"
   ]
  },
  {
   "cell_type": "code",
   "execution_count": 12,
   "metadata": {},
   "outputs": [],
   "source": [
    "# eliminar los duplicados manteniendo la primera instancia\n",
    "df_rev_sindup = df_reviews.drop_duplicates(subset=['business_id',  'date', 'review_id', 'user_id'], keep='first')"
   ]
  },
  {
   "cell_type": "code",
   "execution_count": 13,
   "metadata": {},
   "outputs": [],
   "source": [
    "# leo el archivo de las pizzerias mt_pizza_NJNY para hacer join con este\n",
    "# How to read a Parquet file into Pandas DataFrame?\n",
    "business_pizza_NJNY = pd.read_parquet('datos/yelp_yelp/business_pizza_NJNY.parquet' , engine='fastparquet')"
   ]
  },
  {
   "cell_type": "code",
   "execution_count": 14,
   "metadata": {},
   "outputs": [
    {
     "name": "stdout",
     "output_type": "stream",
     "text": [
      "<class 'pandas.core.frame.DataFrame'>\n",
      "Index: 717 entries, 764 to 150236\n",
      "Data columns (total 11 columns):\n",
      " #   Column        Non-Null Count  Dtype  \n",
      "---  ------        --------------  -----  \n",
      " 0   business_id   717 non-null    object \n",
      " 1   name          717 non-null    object \n",
      " 2   address       717 non-null    object \n",
      " 3   city          717 non-null    object \n",
      " 4   state         717 non-null    object \n",
      " 5   postal_code   717 non-null    object \n",
      " 6   latitude      717 non-null    float64\n",
      " 7   longitude     717 non-null    float64\n",
      " 8   stars         717 non-null    float64\n",
      " 9   review_count  717 non-null    int64  \n",
      " 10  categories    717 non-null    object \n",
      "dtypes: float64(3), int64(1), object(7)\n",
      "memory usage: 67.2+ KB\n"
     ]
    }
   ],
   "source": [
    "business_pizza_NJNY.info()"
   ]
  },
  {
   "cell_type": "code",
   "execution_count": 15,
   "metadata": {},
   "outputs": [],
   "source": [
    "# creo que no hay columnas para eliminar. Guardo el archivo de reviews sin dup\n",
    "df_rev_sindup.to_parquet('datos/yelp_yelp/rev_sindup.parquet', engine='pyarrow', compression='snappy')"
   ]
  },
  {
   "cell_type": "code",
   "execution_count": 16,
   "metadata": {},
   "outputs": [
    {
     "data": {
      "text/html": [
       "<div>\n",
       "<style scoped>\n",
       "    .dataframe tbody tr th:only-of-type {\n",
       "        vertical-align: middle;\n",
       "    }\n",
       "\n",
       "    .dataframe tbody tr th {\n",
       "        vertical-align: top;\n",
       "    }\n",
       "\n",
       "    .dataframe thead th {\n",
       "        text-align: right;\n",
       "    }\n",
       "</style>\n",
       "<table border=\"1\" class=\"dataframe\">\n",
       "  <thead>\n",
       "    <tr style=\"text-align: right;\">\n",
       "      <th></th>\n",
       "      <th>name</th>\n",
       "    </tr>\n",
       "    <tr>\n",
       "      <th>state</th>\n",
       "      <th></th>\n",
       "    </tr>\n",
       "  </thead>\n",
       "  <tbody>\n",
       "    <tr>\n",
       "      <th>NJ</th>\n",
       "      <td>717</td>\n",
       "    </tr>\n",
       "  </tbody>\n",
       "</table>\n",
       "</div>"
      ],
      "text/plain": [
       "       name\n",
       "state      \n",
       "NJ      717"
      ]
     },
     "execution_count": 16,
     "metadata": {},
     "output_type": "execute_result"
    }
   ],
   "source": [
    "# cuento la cantidad de pizzerias en cada estado / nopuedo contar con una sola columna\n",
    "business_pizza_NJNY[['state', 'name' ]].groupby('state').count()"
   ]
  },
  {
   "cell_type": "code",
   "execution_count": 17,
   "metadata": {},
   "outputs": [],
   "source": [
    "business_pizza_NJ_rev = pd.merge(business_pizza_NJNY, df_rev_sindup, how='left', on='business_id') # tengo que hacer left join"
   ]
  },
  {
   "cell_type": "code",
   "execution_count": 18,
   "metadata": {},
   "outputs": [
    {
     "name": "stdout",
     "output_type": "stream",
     "text": [
      "<class 'pandas.core.frame.DataFrame'>\n",
      "RangeIndex: 28766 entries, 0 to 28765\n",
      "Data columns (total 19 columns):\n",
      " #   Column        Non-Null Count  Dtype         \n",
      "---  ------        --------------  -----         \n",
      " 0   business_id   28766 non-null  object        \n",
      " 1   name          28766 non-null  object        \n",
      " 2   address       28766 non-null  object        \n",
      " 3   city          28766 non-null  object        \n",
      " 4   state         28766 non-null  object        \n",
      " 5   postal_code   28766 non-null  object        \n",
      " 6   latitude      28766 non-null  float64       \n",
      " 7   longitude     28766 non-null  float64       \n",
      " 8   stars_x       28766 non-null  float64       \n",
      " 9   review_count  28766 non-null  int64         \n",
      " 10  categories    28766 non-null  object        \n",
      " 11  review_id     28766 non-null  object        \n",
      " 12  user_id       28766 non-null  object        \n",
      " 13  stars_y       28766 non-null  int64         \n",
      " 14  useful        28766 non-null  int64         \n",
      " 15  funny         28766 non-null  int64         \n",
      " 16  cool          28766 non-null  int64         \n",
      " 17  text          28766 non-null  object        \n",
      " 18  date          28766 non-null  datetime64[ns]\n",
      "dtypes: datetime64[ns](1), float64(3), int64(5), object(10)\n",
      "memory usage: 4.2+ MB\n"
     ]
    }
   ],
   "source": [
    "business_pizza_NJ_rev.info()"
   ]
  },
  {
   "cell_type": "code",
   "execution_count": 19,
   "metadata": {},
   "outputs": [],
   "source": [
    "# rename column name to user_name\n",
    "business_pizza_NJ_rev.rename(columns={'stars_x': 'stars_business', 'stars_y': 'stars_by_user'}, inplace=True)"
   ]
  },
  {
   "cell_type": "code",
   "execution_count": 20,
   "metadata": {},
   "outputs": [
    {
     "data": {
      "text/html": [
       "<div>\n",
       "<style scoped>\n",
       "    .dataframe tbody tr th:only-of-type {\n",
       "        vertical-align: middle;\n",
       "    }\n",
       "\n",
       "    .dataframe tbody tr th {\n",
       "        vertical-align: top;\n",
       "    }\n",
       "\n",
       "    .dataframe thead th {\n",
       "        text-align: right;\n",
       "    }\n",
       "</style>\n",
       "<table border=\"1\" class=\"dataframe\">\n",
       "  <thead>\n",
       "    <tr style=\"text-align: right;\">\n",
       "      <th></th>\n",
       "      <th>business_id</th>\n",
       "      <th>name</th>\n",
       "      <th>address</th>\n",
       "      <th>city</th>\n",
       "      <th>state</th>\n",
       "      <th>postal_code</th>\n",
       "      <th>latitude</th>\n",
       "      <th>longitude</th>\n",
       "      <th>stars_business</th>\n",
       "      <th>review_count</th>\n",
       "      <th>categories</th>\n",
       "      <th>review_id</th>\n",
       "      <th>user_id</th>\n",
       "      <th>stars_by_user</th>\n",
       "      <th>useful</th>\n",
       "      <th>funny</th>\n",
       "      <th>cool</th>\n",
       "      <th>text</th>\n",
       "      <th>date</th>\n",
       "    </tr>\n",
       "  </thead>\n",
       "  <tbody>\n",
       "    <tr>\n",
       "      <th>0</th>\n",
       "      <td>Mt1FB8hM4XTi3Tk4i0q5gQ</td>\n",
       "      <td>Nicola's Pizza</td>\n",
       "      <td>8 N Franklin St</td>\n",
       "      <td>Lambertville</td>\n",
       "      <td>NJ</td>\n",
       "      <td>08530</td>\n",
       "      <td>40.366418</td>\n",
       "      <td>-74.941678</td>\n",
       "      <td>4.0</td>\n",
       "      <td>54</td>\n",
       "      <td>Restaurants, Pizza, Salad</td>\n",
       "      <td>SunZmQqZ51UeOMwlKoupUQ</td>\n",
       "      <td>6jUggSkt0X01p2JytyMfjw</td>\n",
       "      <td>5</td>\n",
       "      <td>0</td>\n",
       "      <td>0</td>\n",
       "      <td>0</td>\n",
       "      <td>It's a great place close to new hope across th...</td>\n",
       "      <td>2015-10-24 22:24:32</td>\n",
       "    </tr>\n",
       "    <tr>\n",
       "      <th>1</th>\n",
       "      <td>Mt1FB8hM4XTi3Tk4i0q5gQ</td>\n",
       "      <td>Nicola's Pizza</td>\n",
       "      <td>8 N Franklin St</td>\n",
       "      <td>Lambertville</td>\n",
       "      <td>NJ</td>\n",
       "      <td>08530</td>\n",
       "      <td>40.366418</td>\n",
       "      <td>-74.941678</td>\n",
       "      <td>4.0</td>\n",
       "      <td>54</td>\n",
       "      <td>Restaurants, Pizza, Salad</td>\n",
       "      <td>HHEr1cX_mxrFoq2vGJwHyg</td>\n",
       "      <td>Ad20gaFq7_wy7BrOf8WXsQ</td>\n",
       "      <td>4</td>\n",
       "      <td>0</td>\n",
       "      <td>0</td>\n",
       "      <td>0</td>\n",
       "      <td>Great Jersey pizza here....thin with a great c...</td>\n",
       "      <td>2018-04-05 18:40:53</td>\n",
       "    </tr>\n",
       "    <tr>\n",
       "      <th>2</th>\n",
       "      <td>Mt1FB8hM4XTi3Tk4i0q5gQ</td>\n",
       "      <td>Nicola's Pizza</td>\n",
       "      <td>8 N Franklin St</td>\n",
       "      <td>Lambertville</td>\n",
       "      <td>NJ</td>\n",
       "      <td>08530</td>\n",
       "      <td>40.366418</td>\n",
       "      <td>-74.941678</td>\n",
       "      <td>4.0</td>\n",
       "      <td>54</td>\n",
       "      <td>Restaurants, Pizza, Salad</td>\n",
       "      <td>GmZBkO3re-zWFY0JFXCsBQ</td>\n",
       "      <td>PGkMTm3hiermfR6TE498bw</td>\n",
       "      <td>4</td>\n",
       "      <td>0</td>\n",
       "      <td>0</td>\n",
       "      <td>0</td>\n",
       "      <td>I would say that this is the best pizza I've h...</td>\n",
       "      <td>2013-11-16 22:54:48</td>\n",
       "    </tr>\n",
       "    <tr>\n",
       "      <th>3</th>\n",
       "      <td>Mt1FB8hM4XTi3Tk4i0q5gQ</td>\n",
       "      <td>Nicola's Pizza</td>\n",
       "      <td>8 N Franklin St</td>\n",
       "      <td>Lambertville</td>\n",
       "      <td>NJ</td>\n",
       "      <td>08530</td>\n",
       "      <td>40.366418</td>\n",
       "      <td>-74.941678</td>\n",
       "      <td>4.0</td>\n",
       "      <td>54</td>\n",
       "      <td>Restaurants, Pizza, Salad</td>\n",
       "      <td>HNBUtHDGBJRNSlu3I3AuQw</td>\n",
       "      <td>bdtwToDfakvK7pRr6eyQxA</td>\n",
       "      <td>5</td>\n",
       "      <td>1</td>\n",
       "      <td>1</td>\n",
       "      <td>0</td>\n",
       "      <td>may just be the best pizza i've ever had. my h...</td>\n",
       "      <td>2016-10-27 10:13:57</td>\n",
       "    </tr>\n",
       "    <tr>\n",
       "      <th>4</th>\n",
       "      <td>Mt1FB8hM4XTi3Tk4i0q5gQ</td>\n",
       "      <td>Nicola's Pizza</td>\n",
       "      <td>8 N Franklin St</td>\n",
       "      <td>Lambertville</td>\n",
       "      <td>NJ</td>\n",
       "      <td>08530</td>\n",
       "      <td>40.366418</td>\n",
       "      <td>-74.941678</td>\n",
       "      <td>4.0</td>\n",
       "      <td>54</td>\n",
       "      <td>Restaurants, Pizza, Salad</td>\n",
       "      <td>3ZgbLNfqjKX9Ea61AL7vYg</td>\n",
       "      <td>2DHpnFd1pdmRZD8TaDpXaw</td>\n",
       "      <td>5</td>\n",
       "      <td>0</td>\n",
       "      <td>0</td>\n",
       "      <td>0</td>\n",
       "      <td>Love Nicola's! The pizza is consistently great...</td>\n",
       "      <td>2015-05-02 23:13:51</td>\n",
       "    </tr>\n",
       "  </tbody>\n",
       "</table>\n",
       "</div>"
      ],
      "text/plain": [
       "              business_id            name          address          city  \\\n",
       "0  Mt1FB8hM4XTi3Tk4i0q5gQ  Nicola's Pizza  8 N Franklin St  Lambertville   \n",
       "1  Mt1FB8hM4XTi3Tk4i0q5gQ  Nicola's Pizza  8 N Franklin St  Lambertville   \n",
       "2  Mt1FB8hM4XTi3Tk4i0q5gQ  Nicola's Pizza  8 N Franklin St  Lambertville   \n",
       "3  Mt1FB8hM4XTi3Tk4i0q5gQ  Nicola's Pizza  8 N Franklin St  Lambertville   \n",
       "4  Mt1FB8hM4XTi3Tk4i0q5gQ  Nicola's Pizza  8 N Franklin St  Lambertville   \n",
       "\n",
       "  state postal_code   latitude  longitude  stars_business  review_count  \\\n",
       "0    NJ       08530  40.366418 -74.941678             4.0            54   \n",
       "1    NJ       08530  40.366418 -74.941678             4.0            54   \n",
       "2    NJ       08530  40.366418 -74.941678             4.0            54   \n",
       "3    NJ       08530  40.366418 -74.941678             4.0            54   \n",
       "4    NJ       08530  40.366418 -74.941678             4.0            54   \n",
       "\n",
       "                  categories               review_id                 user_id  \\\n",
       "0  Restaurants, Pizza, Salad  SunZmQqZ51UeOMwlKoupUQ  6jUggSkt0X01p2JytyMfjw   \n",
       "1  Restaurants, Pizza, Salad  HHEr1cX_mxrFoq2vGJwHyg  Ad20gaFq7_wy7BrOf8WXsQ   \n",
       "2  Restaurants, Pizza, Salad  GmZBkO3re-zWFY0JFXCsBQ  PGkMTm3hiermfR6TE498bw   \n",
       "3  Restaurants, Pizza, Salad  HNBUtHDGBJRNSlu3I3AuQw  bdtwToDfakvK7pRr6eyQxA   \n",
       "4  Restaurants, Pizza, Salad  3ZgbLNfqjKX9Ea61AL7vYg  2DHpnFd1pdmRZD8TaDpXaw   \n",
       "\n",
       "   stars_by_user  useful  funny  cool  \\\n",
       "0              5       0      0     0   \n",
       "1              4       0      0     0   \n",
       "2              4       0      0     0   \n",
       "3              5       1      1     0   \n",
       "4              5       0      0     0   \n",
       "\n",
       "                                                text                date  \n",
       "0  It's a great place close to new hope across th... 2015-10-24 22:24:32  \n",
       "1  Great Jersey pizza here....thin with a great c... 2018-04-05 18:40:53  \n",
       "2  I would say that this is the best pizza I've h... 2013-11-16 22:54:48  \n",
       "3  may just be the best pizza i've ever had. my h... 2016-10-27 10:13:57  \n",
       "4  Love Nicola's! The pizza is consistently great... 2015-05-02 23:13:51  "
      ]
     },
     "execution_count": 20,
     "metadata": {},
     "output_type": "execute_result"
    }
   ],
   "source": [
    "business_pizza_NJ_rev.head()"
   ]
  },
  {
   "cell_type": "code",
   "execution_count": 21,
   "metadata": {},
   "outputs": [
    {
     "name": "stdout",
     "output_type": "stream",
     "text": [
      "              business_id            name          address          city  \\\n",
      "0  Mt1FB8hM4XTi3Tk4i0q5gQ  Nicola's Pizza  8 N Franklin St  Lambertville   \n",
      "\n",
      "  state postal_code   latitude  longitude  stars_business  review_count  \\\n",
      "0    NJ       08530  40.366418 -74.941678             4.0            54   \n",
      "\n",
      "                  categories               review_id                 user_id  \\\n",
      "0  Restaurants, Pizza, Salad  SunZmQqZ51UeOMwlKoupUQ  6jUggSkt0X01p2JytyMfjw   \n",
      "\n",
      "   stars_by_user  useful  funny  cool  \\\n",
      "0              5       0      0     0   \n",
      "\n",
      "                                                text                date  \n",
      "0  It's a great place close to new hope across th... 2015-10-24 22:24:32  \n"
     ]
    }
   ],
   "source": [
    "print(business_pizza_NJ_rev.iloc[[0]])"
   ]
  },
  {
   "cell_type": "code",
   "execution_count": 22,
   "metadata": {},
   "outputs": [],
   "source": [
    "# quiero contar la cantidad de reseñas que tiene cada negocio \n",
    "df_reviews_count = business_pizza_NJ_rev.groupby(['business_id', 'name', 'address',  'city', 'state', 'postal_code' , 'review_count'  ]).size().reset_index(name='num_reviews')"
   ]
  },
  {
   "cell_type": "code",
   "execution_count": 23,
   "metadata": {},
   "outputs": [],
   "source": [
    "# ordena los negocios por número de reseñas de mayor a menor.\n",
    "df_reviews_count = df_reviews_count.sort_values(by='num_reviews', ascending=False)"
   ]
  },
  {
   "cell_type": "code",
   "execution_count": 24,
   "metadata": {},
   "outputs": [],
   "source": [
    "# guardo df_pizza_NJNY_rev\n",
    "business_pizza_NJ_rev.to_parquet('datos/yelp_yelp/business_pizza_NJ_rev.parquet' , engine='fastparquet')"
   ]
  },
  {
   "cell_type": "code",
   "execution_count": 25,
   "metadata": {},
   "outputs": [],
   "source": [
    "df_reviews_count.to_excel(\"datos/yelp_yelp/business_pizza_NJ_rev_reviews_counts.xlsx\")"
   ]
  },
  {
   "cell_type": "code",
   "execution_count": 2,
   "metadata": {},
   "outputs": [],
   "source": [
    "# leo business_pizza_NJ_rev\n",
    "# How to read a Parquet file into Pandas DataFrame?\n",
    "business_pizza_NJ_rev = pd.read_parquet('datos/yelp_yelp/reviews.parquet' , engine='fastparquet')"
   ]
  },
  {
   "cell_type": "code",
   "execution_count": 4,
   "metadata": {},
   "outputs": [
    {
     "data": {
      "text/plain": [
       "np.int64(0)"
      ]
     },
     "execution_count": 4,
     "metadata": {},
     "output_type": "execute_result"
    }
   ],
   "source": [
    "# Buscamos NaN en columna 'user_id' \n",
    "# serian los locales que no tienen reviews\n",
    "business_pizza_NJ_rev['review_id'].isna().sum()"
   ]
  },
  {
   "cell_type": "code",
   "execution_count": 5,
   "metadata": {},
   "outputs": [
    {
     "data": {
      "text/html": [
       "<div>\n",
       "<style scoped>\n",
       "    .dataframe tbody tr th:only-of-type {\n",
       "        vertical-align: middle;\n",
       "    }\n",
       "\n",
       "    .dataframe tbody tr th {\n",
       "        vertical-align: top;\n",
       "    }\n",
       "\n",
       "    .dataframe thead th {\n",
       "        text-align: right;\n",
       "    }\n",
       "</style>\n",
       "<table border=\"1\" class=\"dataframe\">\n",
       "  <thead>\n",
       "    <tr style=\"text-align: right;\">\n",
       "      <th></th>\n",
       "      <th>review_id</th>\n",
       "      <th>user_id</th>\n",
       "      <th>business_id</th>\n",
       "      <th>stars</th>\n",
       "      <th>useful</th>\n",
       "      <th>funny</th>\n",
       "      <th>cool</th>\n",
       "      <th>text</th>\n",
       "      <th>date</th>\n",
       "    </tr>\n",
       "  </thead>\n",
       "  <tbody>\n",
       "  </tbody>\n",
       "</table>\n",
       "</div>"
      ],
      "text/plain": [
       "Empty DataFrame\n",
       "Columns: [review_id, user_id, business_id, stars, useful, funny, cool, text, date]\n",
       "Index: []"
      ]
     },
     "execution_count": 5,
     "metadata": {},
     "output_type": "execute_result"
    }
   ],
   "source": [
    "business_pizza_NJ_rev[business_pizza_NJ_rev['user_id'].isna()]"
   ]
  }
 ],
 "metadata": {
  "kernelspec": {
   "display_name": "Python 3",
   "language": "python",
   "name": "python3"
  },
  "language_info": {
   "codemirror_mode": {
    "name": "ipython",
    "version": 3
   },
   "file_extension": ".py",
   "mimetype": "text/x-python",
   "name": "python",
   "nbconvert_exporter": "python",
   "pygments_lexer": "ipython3",
   "version": "3.12.2"
  }
 },
 "nbformat": 4,
 "nbformat_minor": 2
}
