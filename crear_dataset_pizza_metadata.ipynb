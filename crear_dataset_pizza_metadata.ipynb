{
 "cells": [
  {
   "cell_type": "code",
   "execution_count": 10,
   "metadata": {},
   "outputs": [],
   "source": [
    "import glob\n",
    "import os\n",
    "import pandas as pd\n",
    "import warnings\n",
    "warnings.filterwarnings(\"ignore\")"
   ]
  },
  {
   "cell_type": "markdown",
   "metadata": {},
   "source": [
    "# Cargar Dataset"
   ]
  },
  {
   "cell_type": "markdown",
   "metadata": {},
   "source": [
    "El siguiente código itera entre los archivos .pkl que componen metadata_sitios busca filas que contengan \"Pizza restaurant\" y \"Pizza delivery\" en la columna \"category\" y las une a un nuevo dataset con el fin de hacer la carga del dataset de forma más eficiente"
   ]
  },
  {
   "cell_type": "code",
   "execution_count": 12,
   "metadata": {},
   "outputs": [],
   "source": [
    "# Ruta de la carpeta con los archivos .pkl\n",
    "carpeta = r\"C:\\Users\\felip\\Desktop\\Stuff\\Cursos\\SoyHenry\\Clases\\LABS\\PF\\PF_google_yelp\\Proyecto-FInal\\Proyecto-FInal\\venv\\Datasets\\metadata_sitios_pkl\"\n",
    "\n",
    "# Obtener la lista de archivos .pkl en la carpeta\n",
    "archivos_pkl = glob.glob(os.path.join(carpeta, \"*.pkl\"))"
   ]
  },
  {
   "cell_type": "code",
   "execution_count": 14,
   "metadata": {},
   "outputs": [
    {
     "data": {
      "text/html": [
       "<div>\n",
       "<style scoped>\n",
       "    .dataframe tbody tr th:only-of-type {\n",
       "        vertical-align: middle;\n",
       "    }\n",
       "\n",
       "    .dataframe tbody tr th {\n",
       "        vertical-align: top;\n",
       "    }\n",
       "\n",
       "    .dataframe thead th {\n",
       "        text-align: right;\n",
       "    }\n",
       "</style>\n",
       "<table border=\"1\" class=\"dataframe\">\n",
       "  <thead>\n",
       "    <tr style=\"text-align: right;\">\n",
       "      <th></th>\n",
       "      <th>name</th>\n",
       "      <th>address</th>\n",
       "      <th>gmap_id</th>\n",
       "      <th>description</th>\n",
       "      <th>latitude</th>\n",
       "      <th>longitude</th>\n",
       "      <th>category</th>\n",
       "      <th>avg_rating</th>\n",
       "      <th>num_of_reviews</th>\n",
       "      <th>price</th>\n",
       "      <th>hours</th>\n",
       "      <th>MISC</th>\n",
       "      <th>state</th>\n",
       "      <th>relative_results</th>\n",
       "      <th>url</th>\n",
       "    </tr>\n",
       "  </thead>\n",
       "  <tbody>\n",
       "    <tr>\n",
       "      <th>0</th>\n",
       "      <td>Primo Pizza &amp; Subs</td>\n",
       "      <td>Primo Pizza &amp; Subs, 148 W St Joseph St, Easton...</td>\n",
       "      <td>0x89c46d5e4554eae1:0xa2f8b211524ca29a</td>\n",
       "      <td>None</td>\n",
       "      <td>40.682177</td>\n",
       "      <td>-75.209820</td>\n",
       "      <td>['Pizza delivery']</td>\n",
       "      <td>4.5</td>\n",
       "      <td>25</td>\n",
       "      <td>$$</td>\n",
       "      <td>[[Thursday, 11AM–9PM], [Friday, 11AM–10PM], [S...</td>\n",
       "      <td>{'Service options': ['No-contact delivery', 'D...</td>\n",
       "      <td>Open ⋅ Closes 9PM</td>\n",
       "      <td>[0x89c46c56cac9c661:0xdc9d0dd3f2b203ae, 0x89c4...</td>\n",
       "      <td>https://www.google.com/maps/place//data=!4m2!3...</td>\n",
       "    </tr>\n",
       "    <tr>\n",
       "      <th>1</th>\n",
       "      <td>Sir Pizza Xpress</td>\n",
       "      <td>Sir Pizza Xpress, 201 E Broad St, Smithville, ...</td>\n",
       "      <td>0x8866cef69c5737a1:0xbdf838584dca0b9c</td>\n",
       "      <td>None</td>\n",
       "      <td>35.956944</td>\n",
       "      <td>-85.811111</td>\n",
       "      <td>['Pizza restaurant']</td>\n",
       "      <td>4.1</td>\n",
       "      <td>18</td>\n",
       "      <td>None</td>\n",
       "      <td>[[Thursday, 11AM–9PM], [Friday, 11AM–10PM], [S...</td>\n",
       "      <td>{'Service options': ['Delivery']}</td>\n",
       "      <td>Permanently closed</td>\n",
       "      <td>[0x8866cef6ac8ffaf3:0x4ed8b2fb47c1be1a, 0x8866...</td>\n",
       "      <td>https://www.google.com/maps/place//data=!4m2!3...</td>\n",
       "    </tr>\n",
       "    <tr>\n",
       "      <th>2</th>\n",
       "      <td>Bucci's Greek &amp; Italian Specialties</td>\n",
       "      <td>Bucci's Greek &amp; Italian Specialties, 8030 S Ho...</td>\n",
       "      <td>0x876c8410e0d7ec6d:0xb06492857fa9ec9d</td>\n",
       "      <td>Casual restaurant with an eclectic menu of piz...</td>\n",
       "      <td>39.572697</td>\n",
       "      <td>-104.922399</td>\n",
       "      <td>['Italian restaurant', 'Pizza restaurant']</td>\n",
       "      <td>4.7</td>\n",
       "      <td>13</td>\n",
       "      <td>None</td>\n",
       "      <td>[[Thursday, 11AM–9PM], [Friday, 11AM–9PM], [Sa...</td>\n",
       "      <td>{'Service options': ['Delivery'], 'Highlights'...</td>\n",
       "      <td>Permanently closed</td>\n",
       "      <td>None</td>\n",
       "      <td>https://www.google.com/maps/place//data=!4m2!3...</td>\n",
       "    </tr>\n",
       "    <tr>\n",
       "      <th>3</th>\n",
       "      <td>Dynamite Pizza &amp; BBQ</td>\n",
       "      <td>Dynamite Pizza &amp; BBQ, 59069 Gratiot Ave, New H...</td>\n",
       "      <td>0x882518a534093375:0x4333d5f58f7af4c</td>\n",
       "      <td>None</td>\n",
       "      <td>42.735038</td>\n",
       "      <td>-82.785340</td>\n",
       "      <td>['Pizza restaurant']</td>\n",
       "      <td>4.1</td>\n",
       "      <td>8</td>\n",
       "      <td>None</td>\n",
       "      <td>[[Thursday, 10AM–10PM], [Friday, 10AM–11PM], [...</td>\n",
       "      <td>{'Service options': ['Delivery']}</td>\n",
       "      <td>Permanently closed</td>\n",
       "      <td>[0x882521d22bad192b:0x4c9cccde727dadfc]</td>\n",
       "      <td>https://www.google.com/maps/place//data=!4m2!3...</td>\n",
       "    </tr>\n",
       "    <tr>\n",
       "      <th>4</th>\n",
       "      <td>Three Star Pizza</td>\n",
       "      <td>Three Star Pizza, 409 Cabot St #1, Beverly, MA...</td>\n",
       "      <td>0x89e3169821e62d4d:0x14ff0683c1ebca0e</td>\n",
       "      <td>None</td>\n",
       "      <td>42.559072</td>\n",
       "      <td>-70.881542</td>\n",
       "      <td>['Pizza restaurant', 'Italian restaurant', 'De...</td>\n",
       "      <td>3.9</td>\n",
       "      <td>48</td>\n",
       "      <td>$$</td>\n",
       "      <td>[[Thursday, 11AM–8PM], [Friday, 11AM–10PM], [S...</td>\n",
       "      <td>{'Service options': ['Takeout', 'Delivery'], '...</td>\n",
       "      <td>Permanently closed</td>\n",
       "      <td>[0x89e31418f27b6a29:0x2fd2e82a6f96214c, 0x89e3...</td>\n",
       "      <td>https://www.google.com/maps/place//data=!4m2!3...</td>\n",
       "    </tr>\n",
       "  </tbody>\n",
       "</table>\n",
       "</div>"
      ],
      "text/plain": [
       "                                  name  \\\n",
       "0                   Primo Pizza & Subs   \n",
       "1                     Sir Pizza Xpress   \n",
       "2  Bucci's Greek & Italian Specialties   \n",
       "3                 Dynamite Pizza & BBQ   \n",
       "4                     Three Star Pizza   \n",
       "\n",
       "                                             address  \\\n",
       "0  Primo Pizza & Subs, 148 W St Joseph St, Easton...   \n",
       "1  Sir Pizza Xpress, 201 E Broad St, Smithville, ...   \n",
       "2  Bucci's Greek & Italian Specialties, 8030 S Ho...   \n",
       "3  Dynamite Pizza & BBQ, 59069 Gratiot Ave, New H...   \n",
       "4  Three Star Pizza, 409 Cabot St #1, Beverly, MA...   \n",
       "\n",
       "                                 gmap_id  \\\n",
       "0  0x89c46d5e4554eae1:0xa2f8b211524ca29a   \n",
       "1  0x8866cef69c5737a1:0xbdf838584dca0b9c   \n",
       "2  0x876c8410e0d7ec6d:0xb06492857fa9ec9d   \n",
       "3   0x882518a534093375:0x4333d5f58f7af4c   \n",
       "4  0x89e3169821e62d4d:0x14ff0683c1ebca0e   \n",
       "\n",
       "                                         description   latitude   longitude  \\\n",
       "0                                               None  40.682177  -75.209820   \n",
       "1                                               None  35.956944  -85.811111   \n",
       "2  Casual restaurant with an eclectic menu of piz...  39.572697 -104.922399   \n",
       "3                                               None  42.735038  -82.785340   \n",
       "4                                               None  42.559072  -70.881542   \n",
       "\n",
       "                                            category  avg_rating  \\\n",
       "0                                 ['Pizza delivery']         4.5   \n",
       "1                               ['Pizza restaurant']         4.1   \n",
       "2         ['Italian restaurant', 'Pizza restaurant']         4.7   \n",
       "3                               ['Pizza restaurant']         4.1   \n",
       "4  ['Pizza restaurant', 'Italian restaurant', 'De...         3.9   \n",
       "\n",
       "   num_of_reviews price                                              hours  \\\n",
       "0              25    $$  [[Thursday, 11AM–9PM], [Friday, 11AM–10PM], [S...   \n",
       "1              18  None  [[Thursday, 11AM–9PM], [Friday, 11AM–10PM], [S...   \n",
       "2              13  None  [[Thursday, 11AM–9PM], [Friday, 11AM–9PM], [Sa...   \n",
       "3               8  None  [[Thursday, 10AM–10PM], [Friday, 10AM–11PM], [...   \n",
       "4              48    $$  [[Thursday, 11AM–8PM], [Friday, 11AM–10PM], [S...   \n",
       "\n",
       "                                                MISC               state  \\\n",
       "0  {'Service options': ['No-contact delivery', 'D...   Open ⋅ Closes 9PM   \n",
       "1                  {'Service options': ['Delivery']}  Permanently closed   \n",
       "2  {'Service options': ['Delivery'], 'Highlights'...  Permanently closed   \n",
       "3                  {'Service options': ['Delivery']}  Permanently closed   \n",
       "4  {'Service options': ['Takeout', 'Delivery'], '...  Permanently closed   \n",
       "\n",
       "                                    relative_results  \\\n",
       "0  [0x89c46c56cac9c661:0xdc9d0dd3f2b203ae, 0x89c4...   \n",
       "1  [0x8866cef6ac8ffaf3:0x4ed8b2fb47c1be1a, 0x8866...   \n",
       "2                                               None   \n",
       "3            [0x882521d22bad192b:0x4c9cccde727dadfc]   \n",
       "4  [0x89e31418f27b6a29:0x2fd2e82a6f96214c, 0x89e3...   \n",
       "\n",
       "                                                 url  \n",
       "0  https://www.google.com/maps/place//data=!4m2!3...  \n",
       "1  https://www.google.com/maps/place//data=!4m2!3...  \n",
       "2  https://www.google.com/maps/place//data=!4m2!3...  \n",
       "3  https://www.google.com/maps/place//data=!4m2!3...  \n",
       "4  https://www.google.com/maps/place//data=!4m2!3...  "
      ]
     },
     "execution_count": 14,
     "metadata": {},
     "output_type": "execute_result"
    }
   ],
   "source": [
    "# Crear una lista para almacenar los resultados parciales\n",
    "df_pizza_list = []\n",
    "\n",
    "# Filtrar cada archivo por partes para evitar sobrecarga de memoria\n",
    "for archivo in archivos_pkl:\n",
    "    df = pd.read_pickle(archivo)  # Cargar archivo .pkl\n",
    "    \n",
    "    # Filtrar filas donde 'category' contenga \"Pizza restaurant\"\n",
    "    df_pizza = df[df[\"category\"].astype(str).str.contains(\"Pizza restaurant|Pizza delivery\", case=False, na=False)]\n",
    "    \n",
    "    # Agregar los resultados a la lista\n",
    "    df_pizza_list.append(df_pizza)\n",
    "\n",
    "# Concatenar los resultados en un solo DataFrame\n",
    "pizza_metadata = pd.concat(df_pizza_list, ignore_index=True)\n",
    "\n",
    "pizza_metadata.head()"
   ]
  },
  {
   "cell_type": "markdown",
   "metadata": {},
   "source": [
    "Creacion Dataset a usar"
   ]
  },
  {
   "cell_type": "code",
   "execution_count": 18,
   "metadata": {},
   "outputs": [
    {
     "name": "stdout",
     "output_type": "stream",
     "text": [
      "Peso del Parquet: 7.2284746170043945 MB\n"
     ]
    }
   ],
   "source": [
    "# Guardar como Parquet (más eficiente) y obtener su tamaño\n",
    "pizza_metadata.to_parquet(r\"C:\\Users\\felip\\Desktop\\Stuff\\Cursos\\SoyHenry\\Clases\\LABS\\PF\\PF_google_yelp\\Proyecto-FInal\\Proyecto-FInal\\datasets\\S3\\pizza_metadata.parquet\")\n",
    "print(\"Peso del Parquet:\", os.path.getsize(r\"C:\\Users\\felip\\Desktop\\Stuff\\Cursos\\SoyHenry\\Clases\\LABS\\PF\\PF_google_yelp\\Proyecto-FInal\\Proyecto-FInal\\datasets\\S3\\pizza_metadata.parquet\") / (1024 * 1024), \"MB\")"
   ]
  },
  {
   "cell_type": "markdown",
   "metadata": {},
   "source": [
    "# ETL"
   ]
  },
  {
   "cell_type": "code",
   "execution_count": null,
   "metadata": {},
   "outputs": [],
   "source": [
    "# Eliminamos columnas que no serán utilizadas\n",
    "pizza_metadata = pizza_metadata.drop(columns=['price', 'hours', 'MISC', 'state', 'relative_results', 'url', 'description', 'category'])"
   ]
  },
  {
   "cell_type": "code",
   "execution_count": null,
   "metadata": {},
   "outputs": [],
   "source": [
    "# Eliminamos filas con id's duplicados\n",
    "pizza_metadata = pizza_metadata.drop_duplicates(subset=['gmap_id'])\n",
    "\n",
    "pizza_metadata['gmap_id'].duplicated().sum()"
   ]
  }
 ],
 "metadata": {
  "kernelspec": {
   "display_name": "Python 3",
   "language": "python",
   "name": "python3"
  },
  "language_info": {
   "codemirror_mode": {
    "name": "ipython",
    "version": 3
   },
   "file_extension": ".py",
   "mimetype": "text/x-python",
   "name": "python",
   "nbconvert_exporter": "python",
   "pygments_lexer": "ipython3",
   "version": "3.11.0"
  }
 },
 "nbformat": 4,
 "nbformat_minor": 2
}
