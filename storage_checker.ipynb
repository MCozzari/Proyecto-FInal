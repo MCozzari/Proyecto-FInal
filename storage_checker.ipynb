{
 "cells": [
  {
   "cell_type": "code",
   "execution_count": 4,
   "metadata": {},
   "outputs": [],
   "source": [
    "import glob\n",
    "import os\n",
    "import pandas as pd\n",
    "import warnings\n",
    "warnings.filterwarnings(\"ignore\")"
   ]
  },
  {
   "cell_type": "markdown",
   "metadata": {},
   "source": [
    "Chequear los tamaños de los archivos que irán a la nube (Bucket S3 de AWS)"
   ]
  },
  {
   "cell_type": "code",
   "execution_count": 5,
   "metadata": {},
   "outputs": [
    {
     "name": "stdout",
     "output_type": "stream",
     "text": [
      "Tamaño total de los archivos .parquet en la carpeta: 35.80 MB\n"
     ]
    }
   ],
   "source": [
    "# Ruta carpeta con archivos a revisar\n",
    "carpeta = r\"C:\\Users\\felip\\Desktop\\Stuff\\Cursos\\SoyHenry\\Clases\\LABS\\PF\\PF_google_yelp\\Proyecto-FInal\\Proyecto-FInal\\datasets\\Victoria\"\n",
    "\n",
    "# Obtener todos los archivos .parquet en la carpeta\n",
    "archivos_parquet = glob.glob(os.path.join(carpeta,\"*.parquet\"))\n",
    "\n",
    "# Calcular tamaño total\n",
    "tamaño_total_mb = sum(os.path.getsize(f) for f in archivos_parquet) / (1024 * 1024)\n",
    "\n",
    "print(f\"Tamaño total de los archivos .parquet en la carpeta: {tamaño_total_mb:.2f} MB\")"
   ]
  }
 ],
 "metadata": {
  "kernelspec": {
   "display_name": "Python 3",
   "language": "python",
   "name": "python3"
  },
  "language_info": {
   "codemirror_mode": {
    "name": "ipython",
    "version": 3
   },
   "file_extension": ".py",
   "mimetype": "text/x-python",
   "name": "python",
   "nbconvert_exporter": "python",
   "pygments_lexer": "ipython3",
   "version": "3.11.0"
  }
 },
 "nbformat": 4,
 "nbformat_minor": 2
}
