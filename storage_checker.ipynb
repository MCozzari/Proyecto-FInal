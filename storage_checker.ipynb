{
 "cells": [
  {
   "cell_type": "code",
   "execution_count": 4,
   "metadata": {},
   "outputs": [],
   "source": [
    "import glob\n",
    "import os\n",
    "import pandas as pd\n",
    "import warnings\n",
    "warnings.filterwarnings(\"ignore\")"
   ]
  },
  {
   "cell_type": "markdown",
   "metadata": {},
   "source": [
    "Chequear los tamaños de los archivos que irán a la nube (Bucket S3 de AWS)"
   ]
  },
  {
   "cell_type": "code",
   "execution_count": 11,
   "metadata": {},
   "outputs": [
    {
     "name": "stdout",
     "output_type": "stream",
     "text": [
      "Tamaño total de los archivos .parquet en la carpeta: 35.80 MB\n"
     ]
    }
   ],
   "source": [
    "# Ruta carpeta con archivos a revisar\n",
    "carpeta = r\"C:\\Users\\felip\\Desktop\\Stuff\\Cursos\\SoyHenry\\Clases\\LABS\\PF\\PF_google_yelp\\Proyecto-FInal\\Proyecto-FInal\\datasets\\Victoria\"\n",
    "\n",
    "# Obtener todos los archivos .parquet en la carpeta\n",
    "archivos_parquet = glob.glob(os.path.join(carpeta,\"*.parquet\"))\n",
    "\n",
    "# Calcular tamaño total\n",
    "tamaño_total_mb = sum(os.path.getsize(f) for f in archivos_parquet) / (1024 * 1024)\n",
    "\n",
    "print(f\"Tamaño total de los archivos .parquet en la carpeta: {tamaño_total_mb:.2f} MB\")"
   ]
  },
  {
   "cell_type": "markdown",
   "metadata": {},
   "source": [
    "Abrir archivos .pkl"
   ]
  },
  {
   "cell_type": "code",
   "execution_count": null,
   "metadata": {},
   "outputs": [],
   "source": [
    "carpeta = r\"C:\\Users\\felip\\Desktop\\Stuff\\Cursos\\SoyHenry\\Clases\\LABS\\PF\\PF_google_yelp\\Proyecto-FInal\\Proyecto-FInal\\datasets\\metadata_sitios\"\n",
    "\n"
   ]
  },
  {
   "cell_type": "markdown",
   "metadata": {},
   "source": [
    "Chequear el tamaño de los primeros datasets que nos dieron"
   ]
  },
  {
   "cell_type": "markdown",
   "metadata": {},
   "source": [
    "Google_maps - metadata-sitios (YA NO EXISTE, LA BORRE)"
   ]
  },
  {
   "cell_type": "code",
   "execution_count": 7,
   "metadata": {},
   "outputs": [
    {
     "name": "stdout",
     "output_type": "stream",
     "text": [
      "Tamaño total de los archivos .json en la carpeta: 2832.32 MB\n"
     ]
    }
   ],
   "source": [
    "# Ruta carpeta con archivos .json que componen dataset\n",
    "# carpeta = r\"C:\\Users\\felip\\Desktop\\Stuff\\Cursos\\SoyHenry\\Clases\\LABS\\PF\\PF_google_yelp\\Proyecto-FInal\\Proyecto-FInal\\datasets\\Google_maps\\metadata-sitios\"\n",
    "\n",
    "# # Obtener todos los archivos .json en la carpeta\n",
    "# archivos_json = glob.glob(os.path.join(carpeta,\"*.json\"))\n",
    "\n",
    "# # Calcular tamaño total\n",
    "# tamaño_total_mb = sum(os.path.getsize(f) for f in archivos_json) / (1024 * 1024)\n",
    "\n",
    "\n",
    "# print(f\"Tamaño total de los archivos .json en la carpeta: {tamaño_total_mb:.2f} MB\")"
   ]
  },
  {
   "cell_type": "markdown",
   "metadata": {},
   "source": [
    "Chequear los dataset de victoria:"
   ]
  },
  {
   "cell_type": "code",
   "execution_count": 8,
   "metadata": {},
   "outputs": [
    {
     "data": {
      "text/html": [
       "<div>\n",
       "<style scoped>\n",
       "    .dataframe tbody tr th:only-of-type {\n",
       "        vertical-align: middle;\n",
       "    }\n",
       "\n",
       "    .dataframe tbody tr th {\n",
       "        vertical-align: top;\n",
       "    }\n",
       "\n",
       "    .dataframe thead th {\n",
       "        text-align: right;\n",
       "    }\n",
       "</style>\n",
       "<table border=\"1\" class=\"dataframe\">\n",
       "  <thead>\n",
       "    <tr style=\"text-align: right;\">\n",
       "      <th></th>\n",
       "      <th>business_id</th>\n",
       "      <th>name</th>\n",
       "      <th>address</th>\n",
       "      <th>city</th>\n",
       "      <th>state</th>\n",
       "      <th>postal_code</th>\n",
       "      <th>latitude</th>\n",
       "      <th>longitude</th>\n",
       "      <th>stars_business</th>\n",
       "      <th>review_count</th>\n",
       "      <th>review_id</th>\n",
       "      <th>user_id</th>\n",
       "      <th>stars_by_user</th>\n",
       "      <th>useful</th>\n",
       "      <th>funny</th>\n",
       "      <th>cool</th>\n",
       "      <th>text</th>\n",
       "      <th>date</th>\n",
       "    </tr>\n",
       "  </thead>\n",
       "  <tbody>\n",
       "    <tr>\n",
       "      <th>0</th>\n",
       "      <td>Mt1FB8hM4XTi3Tk4i0q5gQ</td>\n",
       "      <td>Nicola's Pizza</td>\n",
       "      <td>8 N Franklin St</td>\n",
       "      <td>Lambertville</td>\n",
       "      <td>NJ</td>\n",
       "      <td>08530</td>\n",
       "      <td>40.366418</td>\n",
       "      <td>-74.941678</td>\n",
       "      <td>4.0</td>\n",
       "      <td>54</td>\n",
       "      <td>SunZmQqZ51UeOMwlKoupUQ</td>\n",
       "      <td>6jUggSkt0X01p2JytyMfjw</td>\n",
       "      <td>5</td>\n",
       "      <td>0</td>\n",
       "      <td>0</td>\n",
       "      <td>0</td>\n",
       "      <td>It's a great place close to new hope across th...</td>\n",
       "      <td>2015-10-24 22:24:32</td>\n",
       "    </tr>\n",
       "    <tr>\n",
       "      <th>1</th>\n",
       "      <td>Mt1FB8hM4XTi3Tk4i0q5gQ</td>\n",
       "      <td>Nicola's Pizza</td>\n",
       "      <td>8 N Franklin St</td>\n",
       "      <td>Lambertville</td>\n",
       "      <td>NJ</td>\n",
       "      <td>08530</td>\n",
       "      <td>40.366418</td>\n",
       "      <td>-74.941678</td>\n",
       "      <td>4.0</td>\n",
       "      <td>54</td>\n",
       "      <td>HHEr1cX_mxrFoq2vGJwHyg</td>\n",
       "      <td>Ad20gaFq7_wy7BrOf8WXsQ</td>\n",
       "      <td>4</td>\n",
       "      <td>0</td>\n",
       "      <td>0</td>\n",
       "      <td>0</td>\n",
       "      <td>Great Jersey pizza here....thin with a great c...</td>\n",
       "      <td>2018-04-05 18:40:53</td>\n",
       "    </tr>\n",
       "    <tr>\n",
       "      <th>2</th>\n",
       "      <td>Mt1FB8hM4XTi3Tk4i0q5gQ</td>\n",
       "      <td>Nicola's Pizza</td>\n",
       "      <td>8 N Franklin St</td>\n",
       "      <td>Lambertville</td>\n",
       "      <td>NJ</td>\n",
       "      <td>08530</td>\n",
       "      <td>40.366418</td>\n",
       "      <td>-74.941678</td>\n",
       "      <td>4.0</td>\n",
       "      <td>54</td>\n",
       "      <td>GmZBkO3re-zWFY0JFXCsBQ</td>\n",
       "      <td>PGkMTm3hiermfR6TE498bw</td>\n",
       "      <td>4</td>\n",
       "      <td>0</td>\n",
       "      <td>0</td>\n",
       "      <td>0</td>\n",
       "      <td>I would say that this is the best pizza I've h...</td>\n",
       "      <td>2013-11-16 22:54:48</td>\n",
       "    </tr>\n",
       "    <tr>\n",
       "      <th>3</th>\n",
       "      <td>Mt1FB8hM4XTi3Tk4i0q5gQ</td>\n",
       "      <td>Nicola's Pizza</td>\n",
       "      <td>8 N Franklin St</td>\n",
       "      <td>Lambertville</td>\n",
       "      <td>NJ</td>\n",
       "      <td>08530</td>\n",
       "      <td>40.366418</td>\n",
       "      <td>-74.941678</td>\n",
       "      <td>4.0</td>\n",
       "      <td>54</td>\n",
       "      <td>HNBUtHDGBJRNSlu3I3AuQw</td>\n",
       "      <td>bdtwToDfakvK7pRr6eyQxA</td>\n",
       "      <td>5</td>\n",
       "      <td>1</td>\n",
       "      <td>1</td>\n",
       "      <td>0</td>\n",
       "      <td>may just be the best pizza i've ever had. my h...</td>\n",
       "      <td>2016-10-27 10:13:57</td>\n",
       "    </tr>\n",
       "    <tr>\n",
       "      <th>4</th>\n",
       "      <td>Mt1FB8hM4XTi3Tk4i0q5gQ</td>\n",
       "      <td>Nicola's Pizza</td>\n",
       "      <td>8 N Franklin St</td>\n",
       "      <td>Lambertville</td>\n",
       "      <td>NJ</td>\n",
       "      <td>08530</td>\n",
       "      <td>40.366418</td>\n",
       "      <td>-74.941678</td>\n",
       "      <td>4.0</td>\n",
       "      <td>54</td>\n",
       "      <td>3ZgbLNfqjKX9Ea61AL7vYg</td>\n",
       "      <td>2DHpnFd1pdmRZD8TaDpXaw</td>\n",
       "      <td>5</td>\n",
       "      <td>0</td>\n",
       "      <td>0</td>\n",
       "      <td>0</td>\n",
       "      <td>Love Nicola's! The pizza is consistently great...</td>\n",
       "      <td>2015-05-02 23:13:51</td>\n",
       "    </tr>\n",
       "  </tbody>\n",
       "</table>\n",
       "</div>"
      ],
      "text/plain": [
       "              business_id            name          address          city  \\\n",
       "0  Mt1FB8hM4XTi3Tk4i0q5gQ  Nicola's Pizza  8 N Franklin St  Lambertville   \n",
       "1  Mt1FB8hM4XTi3Tk4i0q5gQ  Nicola's Pizza  8 N Franklin St  Lambertville   \n",
       "2  Mt1FB8hM4XTi3Tk4i0q5gQ  Nicola's Pizza  8 N Franklin St  Lambertville   \n",
       "3  Mt1FB8hM4XTi3Tk4i0q5gQ  Nicola's Pizza  8 N Franklin St  Lambertville   \n",
       "4  Mt1FB8hM4XTi3Tk4i0q5gQ  Nicola's Pizza  8 N Franklin St  Lambertville   \n",
       "\n",
       "  state postal_code   latitude  longitude  stars_business  review_count  \\\n",
       "0    NJ       08530  40.366418 -74.941678             4.0            54   \n",
       "1    NJ       08530  40.366418 -74.941678             4.0            54   \n",
       "2    NJ       08530  40.366418 -74.941678             4.0            54   \n",
       "3    NJ       08530  40.366418 -74.941678             4.0            54   \n",
       "4    NJ       08530  40.366418 -74.941678             4.0            54   \n",
       "\n",
       "                review_id                 user_id  stars_by_user  useful  \\\n",
       "0  SunZmQqZ51UeOMwlKoupUQ  6jUggSkt0X01p2JytyMfjw              5       0   \n",
       "1  HHEr1cX_mxrFoq2vGJwHyg  Ad20gaFq7_wy7BrOf8WXsQ              4       0   \n",
       "2  GmZBkO3re-zWFY0JFXCsBQ  PGkMTm3hiermfR6TE498bw              4       0   \n",
       "3  HNBUtHDGBJRNSlu3I3AuQw  bdtwToDfakvK7pRr6eyQxA              5       1   \n",
       "4  3ZgbLNfqjKX9Ea61AL7vYg  2DHpnFd1pdmRZD8TaDpXaw              5       0   \n",
       "\n",
       "   funny  cool                                               text  \\\n",
       "0      0     0  It's a great place close to new hope across th...   \n",
       "1      0     0  Great Jersey pizza here....thin with a great c...   \n",
       "2      0     0  I would say that this is the best pizza I've h...   \n",
       "3      1     0  may just be the best pizza i've ever had. my h...   \n",
       "4      0     0  Love Nicola's! The pizza is consistently great...   \n",
       "\n",
       "                 date  \n",
       "0 2015-10-24 22:24:32  \n",
       "1 2018-04-05 18:40:53  \n",
       "2 2013-11-16 22:54:48  \n",
       "3 2016-10-27 10:13:57  \n",
       "4 2015-05-02 23:13:51  "
      ]
     },
     "execution_count": 8,
     "metadata": {},
     "output_type": "execute_result"
    }
   ],
   "source": [
    "business_pizza_NJ = pd.read_parquet(r\"C:\\Users\\felip\\Desktop\\Stuff\\Cursos\\SoyHenry\\Clases\\LABS\\PF\\PF_google_yelp\\Proyecto-FInal\\Proyecto-FInal\\datasets\\Victoria\\business_pizza_NJ_rev202502092150.parquet\")\n",
    "\n",
    "business_pizza_NJ.head()"
   ]
  }
 ],
 "metadata": {
  "kernelspec": {
   "display_name": "Python 3",
   "language": "python",
   "name": "python3"
  },
  "language_info": {
   "codemirror_mode": {
    "name": "ipython",
    "version": 3
   },
   "file_extension": ".py",
   "mimetype": "text/x-python",
   "name": "python",
   "nbconvert_exporter": "python",
   "pygments_lexer": "ipython3",
   "version": "3.11.0"
  }
 },
 "nbformat": 4,
 "nbformat_minor": 2
}
