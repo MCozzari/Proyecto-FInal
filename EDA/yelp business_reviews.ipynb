{
 "cells": [
  {
   "cell_type": "markdown",
   "metadata": {},
   "source": [
    "### DATA PT12 - Proyecto final - Grupo 2\n",
    "#### Control de calidad de los datos del archivo Yelp reviews"
   ]
  },
  {
   "cell_type": "code",
   "execution_count": 22,
   "metadata": {},
   "outputs": [],
   "source": [
    "import glob\n",
    "import matplotlib.pyplot as plt\n",
    "import numpy as np\n",
    "import os\n",
    "import pandas as pd\n",
    "import seaborn as sns\n",
    "import warnings\n",
    "warnings.filterwarnings(\"ignore\")"
   ]
  },
  {
   "cell_type": "code",
   "execution_count": 23,
   "metadata": {},
   "outputs": [],
   "source": [
    "# Obtener la lista de archivos JSON en carpeta\n",
    "#archivos_json = glob.glob(os.path.join(\"datos/yelp\", \"*.json\"))"
   ]
  },
  {
   "cell_type": "code",
   "execution_count": 24,
   "metadata": {},
   "outputs": [
    {
     "name": "stdout",
     "output_type": "stream",
     "text": [
      "Chunk 0 guardado.\n",
      "Chunk 1 guardado.\n",
      "Chunk 2 guardado.\n",
      "Chunk 3 guardado.\n",
      "Chunk 4 guardado.\n",
      "Chunk 5 guardado.\n",
      "Chunk 6 guardado.\n",
      "Chunk 7 guardado.\n",
      "Chunk 8 guardado.\n",
      "Chunk 9 guardado.\n",
      "Chunk 10 guardado.\n",
      "Chunk 11 guardado.\n",
      "Chunk 12 guardado.\n",
      "Chunk 13 guardado.\n",
      "Chunk 14 guardado.\n",
      "Chunk 15 guardado.\n",
      "Chunk 16 guardado.\n",
      "Chunk 17 guardado.\n",
      "Chunk 18 guardado.\n",
      "Chunk 19 guardado.\n",
      "Chunk 20 guardado.\n",
      "Chunk 21 guardado.\n",
      "Chunk 22 guardado.\n",
      "Chunk 23 guardado.\n",
      "Chunk 24 guardado.\n",
      "Chunk 25 guardado.\n",
      "Chunk 26 guardado.\n",
      "Chunk 27 guardado.\n",
      "Chunk 28 guardado.\n",
      "Chunk 29 guardado.\n",
      "Chunk 30 guardado.\n",
      "Chunk 31 guardado.\n",
      "Chunk 32 guardado.\n",
      "Chunk 33 guardado.\n",
      "Chunk 34 guardado.\n",
      "Chunk 35 guardado.\n",
      "Chunk 36 guardado.\n",
      "Chunk 37 guardado.\n",
      "Chunk 38 guardado.\n",
      "Chunk 39 guardado.\n",
      "Chunk 40 guardado.\n",
      "Chunk 41 guardado.\n",
      "Chunk 42 guardado.\n",
      "Chunk 43 guardado.\n",
      "Chunk 44 guardado.\n",
      "Chunk 45 guardado.\n",
      "Chunk 46 guardado.\n",
      "Chunk 47 guardado.\n",
      "Chunk 48 guardado.\n",
      "Chunk 49 guardado.\n",
      "Chunk 50 guardado.\n",
      "Chunk 51 guardado.\n",
      "Chunk 52 guardado.\n",
      "Chunk 53 guardado.\n",
      "Chunk 54 guardado.\n",
      "Chunk 55 guardado.\n",
      "Chunk 56 guardado.\n",
      "Chunk 57 guardado.\n",
      "Chunk 58 guardado.\n",
      "Chunk 59 guardado.\n",
      "Chunk 60 guardado.\n",
      "Chunk 61 guardado.\n",
      "Chunk 62 guardado.\n",
      "Chunk 63 guardado.\n",
      "Chunk 64 guardado.\n",
      "Chunk 65 guardado.\n",
      "Chunk 66 guardado.\n",
      "Chunk 67 guardado.\n",
      "Chunk 68 guardado.\n",
      "Chunk 69 guardado.\n"
     ]
    }
   ],
   "source": [
    "archivo = 'datos/yelp_yelp/yelp_academic_dataset_review.json'\n",
    "chunks = pd.read_json(archivo, lines=True, chunksize=100000)  # Leer en bloques de 100,000 filas\n",
    "\n",
    "# Guardar cada chunk en un archivo pickle\n",
    "# Esto evita que la memoria se llene al procesar el JSON por partes.\n",
    "for i, chunk in enumerate(chunks):\n",
    "    chunk.to_pickle(f'datos/yelp_yelp/review_part_{i}.pkl')  # Guarda en archivos más pequeños\n",
    "    print(f'Chunk {i} guardado.')"
   ]
  },
  {
   "cell_type": "code",
   "execution_count": 27,
   "metadata": {},
   "outputs": [
    {
     "name": "stdout",
     "output_type": "stream",
     "text": [
      "                review_id                 user_id             business_id  \\\n",
      "0  KU_O5udG6zpxOg-VcAEodg  mh_-eMZ6K5RLWhZyISBhwA  XQfwVwDr-v0ZS3_CbbE5Xw   \n",
      "1  BiTunyQ73aT9WBnpR9DZGw  OyoGAe7OKpv6SyGZT5g77Q  7ATYjTIgM3jUlt4UM3IypQ   \n",
      "2  saUsX_uimxRlCVr67Z4Jig  8g_iMtfSiwikVnbP2etR0A  YjUWPpI6HXG530lwP-fb2A   \n",
      "3  AqPFMleE6RsU23_auESxiA  _7bHUi9Uuf5__HHc_Q8guQ  kxX2SOes4o-D3ZQBkiMRfA   \n",
      "4  Sx8TMOWLNuJBWer-0pcmoA  bcjbaE6dDog4jkNY91ncLQ  e4Vwtrqf-wpJfwesgvdgxQ   \n",
      "\n",
      "   stars  useful  funny  cool  \\\n",
      "0      3       0      0     0   \n",
      "1      5       1      0     1   \n",
      "2      3       0      0     0   \n",
      "3      5       1      0     1   \n",
      "4      4       1      0     1   \n",
      "\n",
      "                                                text                date  \n",
      "0  If you decide to eat here, just be aware it is... 2018-07-07 22:09:11  \n",
      "1  I've taken a lot of spin classes over the year... 2012-01-03 15:28:18  \n",
      "2  Family diner. Had the buffet. Eclectic assortm... 2014-02-05 20:30:30  \n",
      "3  Wow!  Yummy, different,  delicious.   Our favo... 2015-01-04 00:01:03  \n",
      "4  Cute interior and owner (?) gave us tour of up... 2017-01-14 20:54:15  \n"
     ]
    }
   ],
   "source": [
    "import glob\n",
    "\n",
    "# Obtener lista de archivos .pkl guardados\n",
    "archivos_pkl = glob.glob('datos/yelp_yelp/review_part_*.pkl')\n",
    "\n",
    "# Leer y concatenar los DataFrames\n",
    "df_reviews = pd.concat([pd.read_pickle(f) for f in archivos_pkl])\n",
    "\n",
    "print(df_reviews.head())"
   ]
  },
  {
   "cell_type": "code",
   "execution_count": null,
   "metadata": {},
   "outputs": [
    {
     "name": "stdout",
     "output_type": "stream",
     "text": [
      "text NaN 0\n",
      "stars NaN 0\n"
     ]
    }
   ],
   "source": [
    "print('text NaN', df_reviews['text'].isna().sum())\n",
    "print('stars NaN', df_reviews['stars'].isna().sum())"
   ]
  },
  {
   "cell_type": "markdown",
   "metadata": {},
   "source": [
    "El dataframe reviews de Yelp no tiene valores nulos para la columna text (con los comentarios de las reseñas) ni para la columna stars (con la calificacion) "
   ]
  },
  {
   "cell_type": "code",
   "execution_count": 29,
   "metadata": {},
   "outputs": [],
   "source": [
    "# Convertir la columna a tipo datetime\n",
    "# Vamos a asegurarnos de que la columna \"date\" esté en el formato correcto:\n",
    "df_reviews['date'] = pd.to_datetime(df_reviews['date'], errors='coerce')"
   ]
  },
  {
   "cell_type": "code",
   "execution_count": 30,
   "metadata": {},
   "outputs": [
    {
     "name": "stdout",
     "output_type": "stream",
     "text": [
      "<class 'pandas.core.frame.DataFrame'>\n",
      "Index: 6990280 entries, 0 to 999999\n",
      "Data columns (total 9 columns):\n",
      " #   Column       Dtype         \n",
      "---  ------       -----         \n",
      " 0   review_id    object        \n",
      " 1   user_id      object        \n",
      " 2   business_id  object        \n",
      " 3   stars        int64         \n",
      " 4   useful       int64         \n",
      " 5   funny        int64         \n",
      " 6   cool         int64         \n",
      " 7   text         object        \n",
      " 8   date         datetime64[ns]\n",
      "dtypes: datetime64[ns](1), int64(4), object(4)\n",
      "memory usage: 533.3+ MB\n"
     ]
    }
   ],
   "source": [
    "df_reviews.info()"
   ]
  },
  {
   "cell_type": "code",
   "execution_count": null,
   "metadata": {},
   "outputs": [
    {
     "data": {
      "text/html": [
       "<div>\n",
       "<style scoped>\n",
       "    .dataframe tbody tr th:only-of-type {\n",
       "        vertical-align: middle;\n",
       "    }\n",
       "\n",
       "    .dataframe tbody tr th {\n",
       "        vertical-align: top;\n",
       "    }\n",
       "\n",
       "    .dataframe thead th {\n",
       "        text-align: right;\n",
       "    }\n",
       "</style>\n",
       "<table border=\"1\" class=\"dataframe\">\n",
       "  <thead>\n",
       "    <tr style=\"text-align: right;\">\n",
       "      <th></th>\n",
       "      <th>review_id</th>\n",
       "      <th>user_id</th>\n",
       "      <th>business_id</th>\n",
       "      <th>stars</th>\n",
       "      <th>useful</th>\n",
       "      <th>funny</th>\n",
       "      <th>cool</th>\n",
       "      <th>text</th>\n",
       "      <th>date</th>\n",
       "    </tr>\n",
       "  </thead>\n",
       "  <tbody>\n",
       "    <tr>\n",
       "      <th>0</th>\n",
       "      <td>KU_O5udG6zpxOg-VcAEodg</td>\n",
       "      <td>mh_-eMZ6K5RLWhZyISBhwA</td>\n",
       "      <td>XQfwVwDr-v0ZS3_CbbE5Xw</td>\n",
       "      <td>3</td>\n",
       "      <td>0</td>\n",
       "      <td>0</td>\n",
       "      <td>0</td>\n",
       "      <td>If you decide to eat here, just be aware it is...</td>\n",
       "      <td>2018-07-07 22:09:11</td>\n",
       "    </tr>\n",
       "    <tr>\n",
       "      <th>1</th>\n",
       "      <td>BiTunyQ73aT9WBnpR9DZGw</td>\n",
       "      <td>OyoGAe7OKpv6SyGZT5g77Q</td>\n",
       "      <td>7ATYjTIgM3jUlt4UM3IypQ</td>\n",
       "      <td>5</td>\n",
       "      <td>1</td>\n",
       "      <td>0</td>\n",
       "      <td>1</td>\n",
       "      <td>I've taken a lot of spin classes over the year...</td>\n",
       "      <td>2012-01-03 15:28:18</td>\n",
       "    </tr>\n",
       "    <tr>\n",
       "      <th>2</th>\n",
       "      <td>saUsX_uimxRlCVr67Z4Jig</td>\n",
       "      <td>8g_iMtfSiwikVnbP2etR0A</td>\n",
       "      <td>YjUWPpI6HXG530lwP-fb2A</td>\n",
       "      <td>3</td>\n",
       "      <td>0</td>\n",
       "      <td>0</td>\n",
       "      <td>0</td>\n",
       "      <td>Family diner. Had the buffet. Eclectic assortm...</td>\n",
       "      <td>2014-02-05 20:30:30</td>\n",
       "    </tr>\n",
       "    <tr>\n",
       "      <th>3</th>\n",
       "      <td>AqPFMleE6RsU23_auESxiA</td>\n",
       "      <td>_7bHUi9Uuf5__HHc_Q8guQ</td>\n",
       "      <td>kxX2SOes4o-D3ZQBkiMRfA</td>\n",
       "      <td>5</td>\n",
       "      <td>1</td>\n",
       "      <td>0</td>\n",
       "      <td>1</td>\n",
       "      <td>Wow!  Yummy, different,  delicious.   Our favo...</td>\n",
       "      <td>2015-01-04 00:01:03</td>\n",
       "    </tr>\n",
       "    <tr>\n",
       "      <th>4</th>\n",
       "      <td>Sx8TMOWLNuJBWer-0pcmoA</td>\n",
       "      <td>bcjbaE6dDog4jkNY91ncLQ</td>\n",
       "      <td>e4Vwtrqf-wpJfwesgvdgxQ</td>\n",
       "      <td>4</td>\n",
       "      <td>1</td>\n",
       "      <td>0</td>\n",
       "      <td>1</td>\n",
       "      <td>Cute interior and owner (?) gave us tour of up...</td>\n",
       "      <td>2017-01-14 20:54:15</td>\n",
       "    </tr>\n",
       "  </tbody>\n",
       "</table>\n",
       "</div>"
      ],
      "text/plain": [
       "                review_id                 user_id             business_id  \\\n",
       "0  KU_O5udG6zpxOg-VcAEodg  mh_-eMZ6K5RLWhZyISBhwA  XQfwVwDr-v0ZS3_CbbE5Xw   \n",
       "1  BiTunyQ73aT9WBnpR9DZGw  OyoGAe7OKpv6SyGZT5g77Q  7ATYjTIgM3jUlt4UM3IypQ   \n",
       "2  saUsX_uimxRlCVr67Z4Jig  8g_iMtfSiwikVnbP2etR0A  YjUWPpI6HXG530lwP-fb2A   \n",
       "3  AqPFMleE6RsU23_auESxiA  _7bHUi9Uuf5__HHc_Q8guQ  kxX2SOes4o-D3ZQBkiMRfA   \n",
       "4  Sx8TMOWLNuJBWer-0pcmoA  bcjbaE6dDog4jkNY91ncLQ  e4Vwtrqf-wpJfwesgvdgxQ   \n",
       "\n",
       "   stars  useful  funny  cool  \\\n",
       "0      3       0      0     0   \n",
       "1      5       1      0     1   \n",
       "2      3       0      0     0   \n",
       "3      5       1      0     1   \n",
       "4      4       1      0     1   \n",
       "\n",
       "                                                text                date  \n",
       "0  If you decide to eat here, just be aware it is... 2018-07-07 22:09:11  \n",
       "1  I've taken a lot of spin classes over the year... 2012-01-03 15:28:18  \n",
       "2  Family diner. Had the buffet. Eclectic assortm... 2014-02-05 20:30:30  \n",
       "3  Wow!  Yummy, different,  delicious.   Our favo... 2015-01-04 00:01:03  \n",
       "4  Cute interior and owner (?) gave us tour of up... 2017-01-14 20:54:15  "
      ]
     },
     "execution_count": 14,
     "metadata": {},
     "output_type": "execute_result"
    }
   ],
   "source": [
    "df_reviews.head()"
   ]
  },
  {
   "cell_type": "markdown",
   "metadata": {},
   "source": [
    "El dataframe tiene 6.990.280 reviews. La columna date esta en formato datetime."
   ]
  },
  {
   "cell_type": "code",
   "execution_count": null,
   "metadata": {},
   "outputs": [],
   "source": [
    "# df_rev.to_parquet('datos/yelp/reviews.parquet' , engine='fastparquet')\n",
    "# El motor pyarrow maneja mejor archivos grandes y evita problemas de compresión:\n",
    "df_reviews.to_parquet('datos/yelp_yelp/yelp_reviews.parquet', engine='pyarrow', compression='snappy')"
   ]
  },
  {
   "cell_type": "code",
   "execution_count": 31,
   "metadata": {},
   "outputs": [],
   "source": [
    "df_dup = df_reviews[df_reviews.duplicated(subset=['business_id',  'date', 'review_id', 'user_id'], keep=False)]\n",
    "df_dup = df_dup.sort_values([])"
   ]
  },
  {
   "cell_type": "code",
   "execution_count": 32,
   "metadata": {},
   "outputs": [
    {
     "name": "stdout",
     "output_type": "stream",
     "text": [
      "Empty DataFrame\n",
      "Columns: [review_id, user_id, business_id, stars, useful, funny, cool, text, date]\n",
      "Index: []\n"
     ]
    }
   ],
   "source": [
    "print(df_dup)"
   ]
  },
  {
   "cell_type": "markdown",
   "metadata": {},
   "source": [
    "No hay filas duplicadas"
   ]
  },
  {
   "cell_type": "code",
   "execution_count": 33,
   "metadata": {},
   "outputs": [
    {
     "name": "stdout",
     "output_type": "stream",
     "text": [
      "<class 'pandas.core.frame.DataFrame'>\n",
      "Index: 6990280 entries, 0 to 999999\n",
      "Data columns (total 9 columns):\n",
      " #   Column       Dtype         \n",
      "---  ------       -----         \n",
      " 0   review_id    object        \n",
      " 1   user_id      object        \n",
      " 2   business_id  object        \n",
      " 3   stars        int64         \n",
      " 4   useful       int64         \n",
      " 5   funny        int64         \n",
      " 6   cool         int64         \n",
      " 7   text         object        \n",
      " 8   date         datetime64[ns]\n",
      "dtypes: datetime64[ns](1), int64(4), object(4)\n",
      "memory usage: 533.3+ MB\n"
     ]
    }
   ],
   "source": [
    "df_reviews.info()"
   ]
  },
  {
   "cell_type": "code",
   "execution_count": 34,
   "metadata": {},
   "outputs": [],
   "source": [
    "# leo el archivo de las pizzerias mt_pizza_NJNY para hacer join con este\n",
    "# How to read a Parquet file into Pandas DataFrame?\n",
    "business_pizza_NJNY = pd.read_parquet('datos/yelp_yelp/yelp_pizza_NJ202502092108.parquet' , engine='fastparquet')"
   ]
  },
  {
   "cell_type": "code",
   "execution_count": 35,
   "metadata": {},
   "outputs": [
    {
     "name": "stdout",
     "output_type": "stream",
     "text": [
      "<class 'pandas.core.frame.DataFrame'>\n",
      "Index: 717 entries, 764 to 150236\n",
      "Data columns (total 10 columns):\n",
      " #   Column        Non-Null Count  Dtype  \n",
      "---  ------        --------------  -----  \n",
      " 0   business_id   717 non-null    object \n",
      " 1   name          717 non-null    object \n",
      " 2   address       717 non-null    object \n",
      " 3   city          717 non-null    object \n",
      " 4   state         717 non-null    object \n",
      " 5   postal_code   717 non-null    object \n",
      " 6   latitude      717 non-null    float64\n",
      " 7   longitude     717 non-null    float64\n",
      " 8   stars         717 non-null    float64\n",
      " 9   review_count  717 non-null    int64  \n",
      "dtypes: float64(3), int64(1), object(6)\n",
      "memory usage: 61.6+ KB\n"
     ]
    }
   ],
   "source": [
    "business_pizza_NJNY.info()"
   ]
  },
  {
   "cell_type": "markdown",
   "metadata": {},
   "source": [
    "Uno el dataframe de datos de pizzerias de NJ en un left join con el de los datos de reviews de NJ para obtener todas las reviews de pizzerias de NJ y agregarle el nombre del local."
   ]
  },
  {
   "cell_type": "code",
   "execution_count": 36,
   "metadata": {},
   "outputs": [],
   "source": [
    "business_pizza_NJ_rev = pd.merge(business_pizza_NJNY, df_reviews, how='left', on='business_id') # tengo que hacer left join"
   ]
  },
  {
   "cell_type": "code",
   "execution_count": 37,
   "metadata": {},
   "outputs": [
    {
     "name": "stdout",
     "output_type": "stream",
     "text": [
      "<class 'pandas.core.frame.DataFrame'>\n",
      "RangeIndex: 28766 entries, 0 to 28765\n",
      "Data columns (total 18 columns):\n",
      " #   Column        Non-Null Count  Dtype         \n",
      "---  ------        --------------  -----         \n",
      " 0   business_id   28766 non-null  object        \n",
      " 1   name          28766 non-null  object        \n",
      " 2   address       28766 non-null  object        \n",
      " 3   city          28766 non-null  object        \n",
      " 4   state         28766 non-null  object        \n",
      " 5   postal_code   28766 non-null  object        \n",
      " 6   latitude      28766 non-null  float64       \n",
      " 7   longitude     28766 non-null  float64       \n",
      " 8   stars_x       28766 non-null  float64       \n",
      " 9   review_count  28766 non-null  int64         \n",
      " 10  review_id     28766 non-null  object        \n",
      " 11  user_id       28766 non-null  object        \n",
      " 12  stars_y       28766 non-null  int64         \n",
      " 13  useful        28766 non-null  int64         \n",
      " 14  funny         28766 non-null  int64         \n",
      " 15  cool          28766 non-null  int64         \n",
      " 16  text          28766 non-null  object        \n",
      " 17  date          28766 non-null  datetime64[ns]\n",
      "dtypes: datetime64[ns](1), float64(3), int64(5), object(9)\n",
      "memory usage: 4.0+ MB\n"
     ]
    }
   ],
   "source": [
    "business_pizza_NJ_rev.info()"
   ]
  },
  {
   "cell_type": "markdown",
   "metadata": {},
   "source": [
    "Hay 28766 reseñas de Yelp para las pizzerias del estado de NJ. No hay filas con user_id nulo por lo que todas las pizzerias tendrían alguna review"
   ]
  },
  {
   "cell_type": "code",
   "execution_count": 38,
   "metadata": {},
   "outputs": [],
   "source": [
    "# Modifico los nombres de las columnas que estan duplicados\n",
    "business_pizza_NJ_rev.rename(columns={'stars_x': 'stars_business', 'stars_y': 'stars_by_user'}, inplace=True)"
   ]
  },
  {
   "cell_type": "code",
   "execution_count": 39,
   "metadata": {},
   "outputs": [
    {
     "data": {
      "text/html": [
       "<div>\n",
       "<style scoped>\n",
       "    .dataframe tbody tr th:only-of-type {\n",
       "        vertical-align: middle;\n",
       "    }\n",
       "\n",
       "    .dataframe tbody tr th {\n",
       "        vertical-align: top;\n",
       "    }\n",
       "\n",
       "    .dataframe thead th {\n",
       "        text-align: right;\n",
       "    }\n",
       "</style>\n",
       "<table border=\"1\" class=\"dataframe\">\n",
       "  <thead>\n",
       "    <tr style=\"text-align: right;\">\n",
       "      <th></th>\n",
       "      <th>business_id</th>\n",
       "      <th>name</th>\n",
       "      <th>address</th>\n",
       "      <th>city</th>\n",
       "      <th>state</th>\n",
       "      <th>postal_code</th>\n",
       "      <th>latitude</th>\n",
       "      <th>longitude</th>\n",
       "      <th>stars_business</th>\n",
       "      <th>review_count</th>\n",
       "      <th>review_id</th>\n",
       "      <th>user_id</th>\n",
       "      <th>stars_by_user</th>\n",
       "      <th>useful</th>\n",
       "      <th>funny</th>\n",
       "      <th>cool</th>\n",
       "      <th>text</th>\n",
       "      <th>date</th>\n",
       "    </tr>\n",
       "  </thead>\n",
       "  <tbody>\n",
       "    <tr>\n",
       "      <th>0</th>\n",
       "      <td>Mt1FB8hM4XTi3Tk4i0q5gQ</td>\n",
       "      <td>Nicola's Pizza</td>\n",
       "      <td>8 N Franklin St</td>\n",
       "      <td>Lambertville</td>\n",
       "      <td>NJ</td>\n",
       "      <td>08530</td>\n",
       "      <td>40.366418</td>\n",
       "      <td>-74.941678</td>\n",
       "      <td>4.0</td>\n",
       "      <td>54</td>\n",
       "      <td>SunZmQqZ51UeOMwlKoupUQ</td>\n",
       "      <td>6jUggSkt0X01p2JytyMfjw</td>\n",
       "      <td>5</td>\n",
       "      <td>0</td>\n",
       "      <td>0</td>\n",
       "      <td>0</td>\n",
       "      <td>It's a great place close to new hope across th...</td>\n",
       "      <td>2015-10-24 22:24:32</td>\n",
       "    </tr>\n",
       "    <tr>\n",
       "      <th>1</th>\n",
       "      <td>Mt1FB8hM4XTi3Tk4i0q5gQ</td>\n",
       "      <td>Nicola's Pizza</td>\n",
       "      <td>8 N Franklin St</td>\n",
       "      <td>Lambertville</td>\n",
       "      <td>NJ</td>\n",
       "      <td>08530</td>\n",
       "      <td>40.366418</td>\n",
       "      <td>-74.941678</td>\n",
       "      <td>4.0</td>\n",
       "      <td>54</td>\n",
       "      <td>HHEr1cX_mxrFoq2vGJwHyg</td>\n",
       "      <td>Ad20gaFq7_wy7BrOf8WXsQ</td>\n",
       "      <td>4</td>\n",
       "      <td>0</td>\n",
       "      <td>0</td>\n",
       "      <td>0</td>\n",
       "      <td>Great Jersey pizza here....thin with a great c...</td>\n",
       "      <td>2018-04-05 18:40:53</td>\n",
       "    </tr>\n",
       "    <tr>\n",
       "      <th>2</th>\n",
       "      <td>Mt1FB8hM4XTi3Tk4i0q5gQ</td>\n",
       "      <td>Nicola's Pizza</td>\n",
       "      <td>8 N Franklin St</td>\n",
       "      <td>Lambertville</td>\n",
       "      <td>NJ</td>\n",
       "      <td>08530</td>\n",
       "      <td>40.366418</td>\n",
       "      <td>-74.941678</td>\n",
       "      <td>4.0</td>\n",
       "      <td>54</td>\n",
       "      <td>GmZBkO3re-zWFY0JFXCsBQ</td>\n",
       "      <td>PGkMTm3hiermfR6TE498bw</td>\n",
       "      <td>4</td>\n",
       "      <td>0</td>\n",
       "      <td>0</td>\n",
       "      <td>0</td>\n",
       "      <td>I would say that this is the best pizza I've h...</td>\n",
       "      <td>2013-11-16 22:54:48</td>\n",
       "    </tr>\n",
       "    <tr>\n",
       "      <th>3</th>\n",
       "      <td>Mt1FB8hM4XTi3Tk4i0q5gQ</td>\n",
       "      <td>Nicola's Pizza</td>\n",
       "      <td>8 N Franklin St</td>\n",
       "      <td>Lambertville</td>\n",
       "      <td>NJ</td>\n",
       "      <td>08530</td>\n",
       "      <td>40.366418</td>\n",
       "      <td>-74.941678</td>\n",
       "      <td>4.0</td>\n",
       "      <td>54</td>\n",
       "      <td>HNBUtHDGBJRNSlu3I3AuQw</td>\n",
       "      <td>bdtwToDfakvK7pRr6eyQxA</td>\n",
       "      <td>5</td>\n",
       "      <td>1</td>\n",
       "      <td>1</td>\n",
       "      <td>0</td>\n",
       "      <td>may just be the best pizza i've ever had. my h...</td>\n",
       "      <td>2016-10-27 10:13:57</td>\n",
       "    </tr>\n",
       "    <tr>\n",
       "      <th>4</th>\n",
       "      <td>Mt1FB8hM4XTi3Tk4i0q5gQ</td>\n",
       "      <td>Nicola's Pizza</td>\n",
       "      <td>8 N Franklin St</td>\n",
       "      <td>Lambertville</td>\n",
       "      <td>NJ</td>\n",
       "      <td>08530</td>\n",
       "      <td>40.366418</td>\n",
       "      <td>-74.941678</td>\n",
       "      <td>4.0</td>\n",
       "      <td>54</td>\n",
       "      <td>3ZgbLNfqjKX9Ea61AL7vYg</td>\n",
       "      <td>2DHpnFd1pdmRZD8TaDpXaw</td>\n",
       "      <td>5</td>\n",
       "      <td>0</td>\n",
       "      <td>0</td>\n",
       "      <td>0</td>\n",
       "      <td>Love Nicola's! The pizza is consistently great...</td>\n",
       "      <td>2015-05-02 23:13:51</td>\n",
       "    </tr>\n",
       "  </tbody>\n",
       "</table>\n",
       "</div>"
      ],
      "text/plain": [
       "              business_id            name          address          city  \\\n",
       "0  Mt1FB8hM4XTi3Tk4i0q5gQ  Nicola's Pizza  8 N Franklin St  Lambertville   \n",
       "1  Mt1FB8hM4XTi3Tk4i0q5gQ  Nicola's Pizza  8 N Franklin St  Lambertville   \n",
       "2  Mt1FB8hM4XTi3Tk4i0q5gQ  Nicola's Pizza  8 N Franklin St  Lambertville   \n",
       "3  Mt1FB8hM4XTi3Tk4i0q5gQ  Nicola's Pizza  8 N Franklin St  Lambertville   \n",
       "4  Mt1FB8hM4XTi3Tk4i0q5gQ  Nicola's Pizza  8 N Franklin St  Lambertville   \n",
       "\n",
       "  state postal_code   latitude  longitude  stars_business  review_count  \\\n",
       "0    NJ       08530  40.366418 -74.941678             4.0            54   \n",
       "1    NJ       08530  40.366418 -74.941678             4.0            54   \n",
       "2    NJ       08530  40.366418 -74.941678             4.0            54   \n",
       "3    NJ       08530  40.366418 -74.941678             4.0            54   \n",
       "4    NJ       08530  40.366418 -74.941678             4.0            54   \n",
       "\n",
       "                review_id                 user_id  stars_by_user  useful  \\\n",
       "0  SunZmQqZ51UeOMwlKoupUQ  6jUggSkt0X01p2JytyMfjw              5       0   \n",
       "1  HHEr1cX_mxrFoq2vGJwHyg  Ad20gaFq7_wy7BrOf8WXsQ              4       0   \n",
       "2  GmZBkO3re-zWFY0JFXCsBQ  PGkMTm3hiermfR6TE498bw              4       0   \n",
       "3  HNBUtHDGBJRNSlu3I3AuQw  bdtwToDfakvK7pRr6eyQxA              5       1   \n",
       "4  3ZgbLNfqjKX9Ea61AL7vYg  2DHpnFd1pdmRZD8TaDpXaw              5       0   \n",
       "\n",
       "   funny  cool                                               text  \\\n",
       "0      0     0  It's a great place close to new hope across th...   \n",
       "1      0     0  Great Jersey pizza here....thin with a great c...   \n",
       "2      0     0  I would say that this is the best pizza I've h...   \n",
       "3      1     0  may just be the best pizza i've ever had. my h...   \n",
       "4      0     0  Love Nicola's! The pizza is consistently great...   \n",
       "\n",
       "                 date  \n",
       "0 2015-10-24 22:24:32  \n",
       "1 2018-04-05 18:40:53  \n",
       "2 2013-11-16 22:54:48  \n",
       "3 2016-10-27 10:13:57  \n",
       "4 2015-05-02 23:13:51  "
      ]
     },
     "execution_count": 39,
     "metadata": {},
     "output_type": "execute_result"
    }
   ],
   "source": [
    "business_pizza_NJ_rev.head()"
   ]
  },
  {
   "cell_type": "code",
   "execution_count": 21,
   "metadata": {},
   "outputs": [
    {
     "name": "stdout",
     "output_type": "stream",
     "text": [
      "              business_id            name          address          city  \\\n",
      "0  Mt1FB8hM4XTi3Tk4i0q5gQ  Nicola's Pizza  8 N Franklin St  Lambertville   \n",
      "\n",
      "  state postal_code   latitude  longitude  stars_business  review_count  \\\n",
      "0    NJ       08530  40.366418 -74.941678             4.0            54   \n",
      "\n",
      "                  categories               review_id                 user_id  \\\n",
      "0  Restaurants, Pizza, Salad  SunZmQqZ51UeOMwlKoupUQ  6jUggSkt0X01p2JytyMfjw   \n",
      "\n",
      "   stars_by_user  useful  funny  cool  \\\n",
      "0              5       0      0     0   \n",
      "\n",
      "                                                text                date  \n",
      "0  It's a great place close to new hope across th... 2015-10-24 22:24:32  \n"
     ]
    }
   ],
   "source": [
    "print(business_pizza_NJ_rev.iloc[[0]])"
   ]
  },
  {
   "cell_type": "code",
   "execution_count": 40,
   "metadata": {},
   "outputs": [],
   "source": [
    "# guardo df_pizza_NJNY_rev\n",
    "business_pizza_NJ_rev.to_parquet('datos/yelp_yelp/business_pizza_NJ_rev202502092150.parquet' , engine='fastparquet')"
   ]
  }
 ],
 "metadata": {
  "kernelspec": {
   "display_name": "Python 3",
   "language": "python",
   "name": "python3"
  },
  "language_info": {
   "codemirror_mode": {
    "name": "ipython",
    "version": 3
   },
   "file_extension": ".py",
   "mimetype": "text/x-python",
   "name": "python",
   "nbconvert_exporter": "python",
   "pygments_lexer": "ipython3",
   "version": "3.12.2"
  }
 },
 "nbformat": 4,
 "nbformat_minor": 2
}
