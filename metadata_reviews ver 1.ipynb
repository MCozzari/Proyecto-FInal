{
 "cells": [
  {
   "cell_type": "markdown",
   "metadata": {},
   "source": [
    "### DATA PT12 - Proyecto final - Grupo 2\n",
    "#### Control de calidad de los datos del archivo Google Maps review de los estados de New Jersey (NJ) y New York (NY)"
   ]
  },
  {
   "cell_type": "code",
   "execution_count": 1,
   "metadata": {},
   "outputs": [],
   "source": [
    "import glob\n",
    "import matplotlib.pyplot as plt\n",
    "import numpy as np\n",
    "import os\n",
    "import pandas as pd\n",
    "import seaborn as sns\n",
    "import warnings\n",
    "warnings.filterwarnings(\"ignore\")"
   ]
  },
  {
   "cell_type": "code",
   "execution_count": 3,
   "metadata": {},
   "outputs": [],
   "source": [
    "# Obtener la lista de archivos JSON en carpeta\n",
    "archivos_json = glob.glob(os.path.join(\"datos/googlemaps/New_Jersey\", \"*.json\"))"
   ]
  },
  {
   "cell_type": "code",
   "execution_count": 22,
   "metadata": {},
   "outputs": [],
   "source": [
    "# Se guardará archivos JSON en formato pickle (binario) el cual es más rápido para futuras consultas\n",
    "for archivo in archivos_json:\n",
    "    df = pd.read_json(archivo, lines=True)\n",
    "    df.to_pickle(archivo.replace(\".json\", \".pkl\"))  # Guardar como .pkl"
   ]
  },
  {
   "cell_type": "code",
   "execution_count": 18,
   "metadata": {},
   "outputs": [
    {
     "data": {
      "text/html": [
       "<div>\n",
       "<style scoped>\n",
       "    .dataframe tbody tr th:only-of-type {\n",
       "        vertical-align: middle;\n",
       "    }\n",
       "\n",
       "    .dataframe tbody tr th {\n",
       "        vertical-align: top;\n",
       "    }\n",
       "\n",
       "    .dataframe thead th {\n",
       "        text-align: right;\n",
       "    }\n",
       "</style>\n",
       "<table border=\"1\" class=\"dataframe\">\n",
       "  <thead>\n",
       "    <tr style=\"text-align: right;\">\n",
       "      <th></th>\n",
       "      <th>user_id</th>\n",
       "      <th>name</th>\n",
       "      <th>time</th>\n",
       "      <th>rating</th>\n",
       "      <th>text</th>\n",
       "      <th>pics</th>\n",
       "      <th>resp</th>\n",
       "      <th>gmap_id</th>\n",
       "    </tr>\n",
       "  </thead>\n",
       "  <tbody>\n",
       "    <tr>\n",
       "      <th>0</th>\n",
       "      <td>1.011903e+20</td>\n",
       "      <td>Monica Zobbi</td>\n",
       "      <td>1614634731992</td>\n",
       "      <td>5</td>\n",
       "      <td>Viktoriya is always very professional and atte...</td>\n",
       "      <td>None</td>\n",
       "      <td>None</td>\n",
       "      <td>0x89c2fb42465dd457:0x437fc2232abf899</td>\n",
       "    </tr>\n",
       "    <tr>\n",
       "      <th>1</th>\n",
       "      <td>1.172699e+20</td>\n",
       "      <td>Vitaliia Stefurak</td>\n",
       "      <td>1572974792541</td>\n",
       "      <td>5</td>\n",
       "      <td>If I could leave them 10 starts I would , unbe...</td>\n",
       "      <td>None</td>\n",
       "      <td>None</td>\n",
       "      <td>0x89c2fb42465dd457:0x437fc2232abf899</td>\n",
       "    </tr>\n",
       "    <tr>\n",
       "      <th>2</th>\n",
       "      <td>1.152270e+20</td>\n",
       "      <td>Maria Guzman</td>\n",
       "      <td>1578525387607</td>\n",
       "      <td>5</td>\n",
       "      <td>Laura took her time to know my hair and what s...</td>\n",
       "      <td>None</td>\n",
       "      <td>None</td>\n",
       "      <td>0x89c2fb42465dd457:0x437fc2232abf899</td>\n",
       "    </tr>\n",
       "    <tr>\n",
       "      <th>3</th>\n",
       "      <td>1.161828e+20</td>\n",
       "      <td>Jo Rad</td>\n",
       "      <td>1602103279588</td>\n",
       "      <td>5</td>\n",
       "      <td>Wow, what an experience! Haircut by Victoria! ...</td>\n",
       "      <td>None</td>\n",
       "      <td>{'time': 1576097102614, 'text': 'Thank you! Th...</td>\n",
       "      <td>0x89c2fb42465dd457:0x437fc2232abf899</td>\n",
       "    </tr>\n",
       "    <tr>\n",
       "      <th>4</th>\n",
       "      <td>1.010712e+20</td>\n",
       "      <td>Kimberly Hults</td>\n",
       "      <td>1593034107348</td>\n",
       "      <td>5</td>\n",
       "      <td>Love this salon! The great experience starts o...</td>\n",
       "      <td>None</td>\n",
       "      <td>{'time': 1575147680996, 'text': 'Thanks for th...</td>\n",
       "      <td>0x89c2fb42465dd457:0x437fc2232abf899</td>\n",
       "    </tr>\n",
       "  </tbody>\n",
       "</table>\n",
       "</div>"
      ],
      "text/plain": [
       "        user_id               name           time  rating  \\\n",
       "0  1.011903e+20       Monica Zobbi  1614634731992       5   \n",
       "1  1.172699e+20  Vitaliia Stefurak  1572974792541       5   \n",
       "2  1.152270e+20       Maria Guzman  1578525387607       5   \n",
       "3  1.161828e+20             Jo Rad  1602103279588       5   \n",
       "4  1.010712e+20     Kimberly Hults  1593034107348       5   \n",
       "\n",
       "                                                text  pics  \\\n",
       "0  Viktoriya is always very professional and atte...  None   \n",
       "1  If I could leave them 10 starts I would , unbe...  None   \n",
       "2  Laura took her time to know my hair and what s...  None   \n",
       "3  Wow, what an experience! Haircut by Victoria! ...  None   \n",
       "4  Love this salon! The great experience starts o...  None   \n",
       "\n",
       "                                                resp  \\\n",
       "0                                               None   \n",
       "1                                               None   \n",
       "2                                               None   \n",
       "3  {'time': 1576097102614, 'text': 'Thank you! Th...   \n",
       "4  {'time': 1575147680996, 'text': 'Thanks for th...   \n",
       "\n",
       "                                gmap_id  \n",
       "0  0x89c2fb42465dd457:0x437fc2232abf899  \n",
       "1  0x89c2fb42465dd457:0x437fc2232abf899  \n",
       "2  0x89c2fb42465dd457:0x437fc2232abf899  \n",
       "3  0x89c2fb42465dd457:0x437fc2232abf899  \n",
       "4  0x89c2fb42465dd457:0x437fc2232abf899  "
      ]
     },
     "execution_count": 18,
     "metadata": {},
     "output_type": "execute_result"
    }
   ],
   "source": [
    "# Carga los archivos Pickle generados y los combina en un solo DataFrame.\n",
    "df_list = [pd.read_pickle(archivo.replace(\".json\", \".pkl\")) for archivo in archivos_json] # convierte el nombre de cada archivo de .json a .pkl para cargarlo correctamente.\n",
    "df_rev_NJ = pd.concat(df_list, ignore_index=True)\n",
    "\n",
    "df_rev_NJ.head()"
   ]
  },
  {
   "cell_type": "code",
   "execution_count": 19,
   "metadata": {},
   "outputs": [
    {
     "name": "stdout",
     "output_type": "stream",
     "text": [
      "<class 'pandas.core.frame.DataFrame'>\n",
      "RangeIndex: 1950000 entries, 0 to 1949999\n",
      "Data columns (total 8 columns):\n",
      " #   Column   Dtype  \n",
      "---  ------   -----  \n",
      " 0   user_id  float64\n",
      " 1   name     object \n",
      " 2   time     int64  \n",
      " 3   rating   int64  \n",
      " 4   text     object \n",
      " 5   pics     object \n",
      " 6   resp     object \n",
      " 7   gmap_id  object \n",
      "dtypes: float64(1), int64(2), object(5)\n",
      "memory usage: 119.0+ MB\n"
     ]
    }
   ],
   "source": [
    "df_rev_NJ.info()"
   ]
  },
  {
   "cell_type": "code",
   "execution_count": 20,
   "metadata": {},
   "outputs": [],
   "source": [
    "# Eliminamos, por ahora, pics y resp. no usaremos esas columnas\n",
    "df_rev_NJ = df_rev_NJ.drop(columns=['pics', 'resp'])"
   ]
  },
  {
   "cell_type": "code",
   "execution_count": 21,
   "metadata": {},
   "outputs": [
    {
     "name": "stdout",
     "output_type": "stream",
     "text": [
      "              user_id             name           time  rating  \\\n",
      "1135631  1.000011e+20       Paul Falzo  1571439140777       5   \n",
      "1135644  1.000011e+20       Paul Falzo  1571439140777       5   \n",
      "1280946  1.000034e+20      Scuba Steve  1519592599394       4   \n",
      "1280955  1.000034e+20      Scuba Steve  1519592599394       4   \n",
      "1351283  1.000034e+20     Joshua Cohen  1484612006694       4   \n",
      "...               ...              ...            ...     ...   \n",
      "879607   1.184462e+20    Michael Bloom  1595261023187       5   \n",
      "939359   1.184467e+20  Brandon Tedesco  1486004605968       3   \n",
      "939368   1.184467e+20  Brandon Tedesco  1486004605968       3   \n",
      "1675824  1.184467e+20  Brandon Tedesco  1486005838053       3   \n",
      "1675845  1.184467e+20  Brandon Tedesco  1486005838053       3   \n",
      "\n",
      "                                                      text  \\\n",
      "1135631                       All good stuff and pricing..   \n",
      "1135644                       All good stuff and pricing..   \n",
      "1280946       Beautiful mall. Always clean. Always crowded   \n",
      "1280955       Beautiful mall. Always clean. Always crowded   \n",
      "1351283  A loots of outlet stores hard to find somethin...   \n",
      "...                                                    ...   \n",
      "879607   Love love love this place. The gelato is top n...   \n",
      "939359           Average gym. Affordable, but gets crowded   \n",
      "939368           Average gym. Affordable, but gets crowded   \n",
      "1675824  I'm not in that area too much but it's kind of...   \n",
      "1675845  I'm not in that area too much but it's kind of...   \n",
      "\n",
      "                                       gmap_id  \n",
      "1135631  0x89c2fadc27bffae7:0x8c6f62e43f816112  \n",
      "1135644  0x89c2fadc27bffae7:0x8c6f62e43f816112  \n",
      "1280946  0x89c6ca52a20dcb4f:0xe54f63759dcf55a6  \n",
      "1280955  0x89c6ca52a20dcb4f:0xe54f63759dcf55a6  \n",
      "1351283  0x89c24d80341e148b:0x342ea3cb57d4d522  \n",
      "...                                        ...  \n",
      "879607   0x89c3ab3bcfeff039:0xb4f892f0c1b1d306  \n",
      "939359   0x89c3c388b200a131:0x90a238b902233dfa  \n",
      "939368   0x89c3c388b200a131:0x90a238b902233dfa  \n",
      "1675824  0x89c3dca50b75d511:0xb7c4af2ef7187c9d  \n",
      "1675845  0x89c3dca50b75d511:0xb7c4af2ef7187c9d  \n",
      "\n",
      "[59684 rows x 6 columns]\n"
     ]
    }
   ],
   "source": [
    "# # reviso si hay reviews duplicadas\n",
    "df_dup = df_rev_NJ[df_rev_NJ.duplicated(subset=['user_id', 'gmap_id', 'time'], keep=False)]\n",
    "df_dup = df_dup.sort_values(['user_id', 'gmap_id', 'time'])\n",
    "\n",
    "print(df_dup)"
   ]
  },
  {
   "cell_type": "markdown",
   "metadata": {},
   "source": [
    "Hay 29842 reviews duplicadas por las columnas 'user_id', 'gmap_id', 'time' para el estado de NJ. Las elimino"
   ]
  },
  {
   "cell_type": "code",
   "execution_count": 22,
   "metadata": {},
   "outputs": [],
   "source": [
    "# eliminar los duplicados manteniendo la primera instancia\n",
    "df_rev_NJ_sindup = df_rev_NJ.drop_duplicates(subset=['user_id', 'gmap_id', 'time'], keep='first')"
   ]
  },
  {
   "cell_type": "code",
   "execution_count": 23,
   "metadata": {},
   "outputs": [],
   "source": [
    "# rename column name to user_name\n",
    "df_rev_NJ_sindup.rename(columns={'name': 'user_name'}, inplace=True)"
   ]
  },
  {
   "cell_type": "code",
   "execution_count": 24,
   "metadata": {},
   "outputs": [],
   "source": [
    "# convertir columna time en int64 a datetime\n",
    "df_rev_NJ_sindup['date'] = pd.to_datetime(df_rev_NJ_sindup['time'], unit='ms')"
   ]
  },
  {
   "cell_type": "code",
   "execution_count": 25,
   "metadata": {},
   "outputs": [
    {
     "name": "stdout",
     "output_type": "stream",
     "text": [
      "<class 'pandas.core.frame.DataFrame'>\n",
      "Index: 1919845 entries, 0 to 1949914\n",
      "Data columns (total 6 columns):\n",
      " #   Column     Dtype         \n",
      "---  ------     -----         \n",
      " 0   user_id    float64       \n",
      " 1   user_name  object        \n",
      " 2   rating     int64         \n",
      " 3   text       object        \n",
      " 4   gmap_id    object        \n",
      " 5   date       datetime64[ns]\n",
      "dtypes: datetime64[ns](1), float64(1), int64(1), object(3)\n",
      "memory usage: 102.5+ MB\n"
     ]
    }
   ],
   "source": [
    "# Eliminamos la columan time\n",
    "df_rev_NJ_sindup = df_rev_NJ_sindup.drop(columns=['time'])\n",
    "df_rev_NJ_sindup.info()"
   ]
  },
  {
   "cell_type": "code",
   "execution_count": 26,
   "metadata": {},
   "outputs": [],
   "source": [
    "# guardo df_rev_NJ_sindup\n",
    "df_rev_NJ_sindup.to_parquet('datos/googlemaps/df_rev_NJ_sindup202502110757.parquet' , engine='fastparquet')"
   ]
  },
  {
   "cell_type": "code",
   "execution_count": 27,
   "metadata": {},
   "outputs": [],
   "source": [
    "# leo el archivo de las pizzerias mt_pizza_NJNY para hacer join con este\n",
    "# How to read a Parquet file into Pandas DataFrame?\n",
    "df_mt_pizza_NJNY = pd.read_parquet('datos/googlemaps/df_mt_pizza_NJNY_202502081554.parquet' , engine='fastparquet')"
   ]
  },
  {
   "cell_type": "code",
   "execution_count": 38,
   "metadata": {},
   "outputs": [
    {
     "name": "stdout",
     "output_type": "stream",
     "text": [
      "<class 'pandas.core.frame.DataFrame'>\n",
      "RangeIndex: 3252 entries, 0 to 3251\n",
      "Data columns (total 10 columns):\n",
      " #   Column          Non-Null Count  Dtype  \n",
      "---  ------          --------------  -----  \n",
      " 0   gmap_id         3252 non-null   object \n",
      " 1   business_name   3252 non-null   object \n",
      " 2   address         3239 non-null   object \n",
      " 3   city            3252 non-null   object \n",
      " 4   state           3252 non-null   object \n",
      " 5   zip_code        3252 non-null   object \n",
      " 6   latitude        3252 non-null   float64\n",
      " 7   longitude       3252 non-null   float64\n",
      " 8   avg_rating      3252 non-null   float64\n",
      " 9   num_of_reviews  3252 non-null   int64  \n",
      "dtypes: float64(3), int64(1), object(6)\n",
      "memory usage: 254.2+ KB\n"
     ]
    }
   ],
   "source": [
    "df_mt_pizza_NJNY.info()"
   ]
  },
  {
   "cell_type": "code",
   "execution_count": 39,
   "metadata": {},
   "outputs": [],
   "source": [
    "df_mt_pizza_NJNY.to_excel(\"datos/googlemaps/df_mt_pizza_NJNY.xlsx\")"
   ]
  },
  {
   "cell_type": "code",
   "execution_count": 28,
   "metadata": {},
   "outputs": [
    {
     "data": {
      "text/html": [
       "<div>\n",
       "<style scoped>\n",
       "    .dataframe tbody tr th:only-of-type {\n",
       "        vertical-align: middle;\n",
       "    }\n",
       "\n",
       "    .dataframe tbody tr th {\n",
       "        vertical-align: top;\n",
       "    }\n",
       "\n",
       "    .dataframe thead th {\n",
       "        text-align: right;\n",
       "    }\n",
       "</style>\n",
       "<table border=\"1\" class=\"dataframe\">\n",
       "  <thead>\n",
       "    <tr style=\"text-align: right;\">\n",
       "      <th></th>\n",
       "      <th>business_name</th>\n",
       "    </tr>\n",
       "    <tr>\n",
       "      <th>state</th>\n",
       "      <th></th>\n",
       "    </tr>\n",
       "  </thead>\n",
       "  <tbody>\n",
       "    <tr>\n",
       "      <th>NJ</th>\n",
       "      <td>1134</td>\n",
       "    </tr>\n",
       "    <tr>\n",
       "      <th>NY</th>\n",
       "      <td>2118</td>\n",
       "    </tr>\n",
       "  </tbody>\n",
       "</table>\n",
       "</div>"
      ],
      "text/plain": [
       "       business_name\n",
       "state               \n",
       "NJ              1134\n",
       "NY              2118"
      ]
     },
     "execution_count": 28,
     "metadata": {},
     "output_type": "execute_result"
    }
   ],
   "source": [
    "# cuento la cantidad de pizzerias en cada estado / no puedo contar con una sola columna\n",
    "df_mt_pizza_NJNY[['state', 'business_name' ]].groupby('state').count()"
   ]
  },
  {
   "cell_type": "markdown",
   "metadata": {},
   "source": [
    "Googlemaps tiene datos de 1134 pizzerias en NJ y 2118 pizzerias en NY"
   ]
  },
  {
   "cell_type": "code",
   "execution_count": 29,
   "metadata": {},
   "outputs": [
    {
     "name": "stdout",
     "output_type": "stream",
     "text": [
      "<class 'pandas.core.frame.DataFrame'>\n",
      "Index: 1134 entries, 6 to 3247\n",
      "Data columns (total 10 columns):\n",
      " #   Column          Non-Null Count  Dtype  \n",
      "---  ------          --------------  -----  \n",
      " 0   gmap_id         1134 non-null   object \n",
      " 1   business_name   1134 non-null   object \n",
      " 2   address         1130 non-null   object \n",
      " 3   city            1134 non-null   object \n",
      " 4   state           1134 non-null   object \n",
      " 5   zip_code        1134 non-null   object \n",
      " 6   latitude        1134 non-null   float64\n",
      " 7   longitude       1134 non-null   float64\n",
      " 8   avg_rating      1134 non-null   float64\n",
      " 9   num_of_reviews  1134 non-null   int64  \n",
      "dtypes: float64(3), int64(1), object(6)\n",
      "memory usage: 97.5+ KB\n"
     ]
    }
   ],
   "source": [
    "# separo las pizzerias de NY de las de NJ. Luego hago left join con las reviews y vuelvo a unir los dataframe\n",
    "df_mt_pizza_NJ = df_mt_pizza_NJNY[df_mt_pizza_NJNY['state'] == 'NJ']\n",
    "df_mt_pizza_NJ.info()"
   ]
  },
  {
   "cell_type": "code",
   "execution_count": 30,
   "metadata": {},
   "outputs": [
    {
     "name": "stdout",
     "output_type": "stream",
     "text": [
      "<class 'pandas.core.frame.DataFrame'>\n",
      "Index: 2118 entries, 0 to 3251\n",
      "Data columns (total 10 columns):\n",
      " #   Column          Non-Null Count  Dtype  \n",
      "---  ------          --------------  -----  \n",
      " 0   gmap_id         2118 non-null   object \n",
      " 1   business_name   2118 non-null   object \n",
      " 2   address         2109 non-null   object \n",
      " 3   city            2118 non-null   object \n",
      " 4   state           2118 non-null   object \n",
      " 5   zip_code        2118 non-null   object \n",
      " 6   latitude        2118 non-null   float64\n",
      " 7   longitude       2118 non-null   float64\n",
      " 8   avg_rating      2118 non-null   float64\n",
      " 9   num_of_reviews  2118 non-null   int64  \n",
      "dtypes: float64(3), int64(1), object(6)\n",
      "memory usage: 182.0+ KB\n"
     ]
    }
   ],
   "source": [
    "df_mt_pizza_NY = df_mt_pizza_NJNY[df_mt_pizza_NJNY['state'] == 'NY']\n",
    "df_mt_pizza_NY.info()"
   ]
  },
  {
   "cell_type": "markdown",
   "metadata": {},
   "source": [
    "Uno el dataframe de datos de pizzerias de NJ en un left join con el de los datos de reviews de NJ para obtener todas las reviews de pizzerias de NJ y agregarle el nombre del local. Mas adelante hare los mismo para los locales de NY. Y luego unire los dos dataframes"
   ]
  },
  {
   "cell_type": "code",
   "execution_count": 31,
   "metadata": {},
   "outputs": [],
   "source": [
    "df_pizza_NJ_rev = pd.merge(df_mt_pizza_NJ, df_rev_NJ_sindup, how='left', on='gmap_id') # tengo que hacer left join"
   ]
  },
  {
   "cell_type": "code",
   "execution_count": 32,
   "metadata": {},
   "outputs": [
    {
     "name": "stdout",
     "output_type": "stream",
     "text": [
      "<class 'pandas.core.frame.DataFrame'>\n",
      "RangeIndex: 54275 entries, 0 to 54274\n",
      "Data columns (total 15 columns):\n",
      " #   Column          Non-Null Count  Dtype         \n",
      "---  ------          --------------  -----         \n",
      " 0   gmap_id         54275 non-null  object        \n",
      " 1   business_name   54275 non-null  object        \n",
      " 2   address         54237 non-null  object        \n",
      " 3   city            54275 non-null  object        \n",
      " 4   state           54275 non-null  object        \n",
      " 5   zip_code        54275 non-null  object        \n",
      " 6   latitude        54275 non-null  float64       \n",
      " 7   longitude       54275 non-null  float64       \n",
      " 8   avg_rating      54275 non-null  float64       \n",
      " 9   num_of_reviews  54275 non-null  int64         \n",
      " 10  user_id         54045 non-null  float64       \n",
      " 11  user_name       54045 non-null  object        \n",
      " 12  rating          54045 non-null  float64       \n",
      " 13  text            32794 non-null  object        \n",
      " 14  date            54045 non-null  datetime64[ns]\n",
      "dtypes: datetime64[ns](1), float64(5), int64(1), object(8)\n",
      "memory usage: 6.2+ MB\n"
     ]
    }
   ],
   "source": [
    "df_pizza_NJ_rev.info()"
   ]
  },
  {
   "cell_type": "markdown",
   "metadata": {},
   "source": [
    "Hay 230 pizzerias del NJ que no tienen reviews en el archivo usado. Se eliminaran con las de los locales de NY que tampoco tengan reseñas. </br>"
   ]
  },
  {
   "cell_type": "code",
   "execution_count": null,
   "metadata": {},
   "outputs": [],
   "source": [
    "# preparo lo de NY"
   ]
  },
  {
   "cell_type": "code",
   "execution_count": 33,
   "metadata": {},
   "outputs": [],
   "source": [
    "# Obtener la lista de archivos JSON en carpeta\n",
    "archivos_json = glob.glob(os.path.join(\"datos/googlemaps/New_York\", \"*.json\"))"
   ]
  },
  {
   "cell_type": "code",
   "execution_count": 47,
   "metadata": {},
   "outputs": [],
   "source": [
    "# Se guardará archivos JSON en formato pickle (binario) el cual es más rápido para futuras consultas\n",
    "for archivo in archivos_json:\n",
    "    df = pd.read_json(archivo, lines=True)\n",
    "    df.to_pickle(archivo.replace(\".json\", \".pkl\"))  # Guardar como .pkl"
   ]
  },
  {
   "cell_type": "code",
   "execution_count": 34,
   "metadata": {},
   "outputs": [
    {
     "data": {
      "text/html": [
       "<div>\n",
       "<style scoped>\n",
       "    .dataframe tbody tr th:only-of-type {\n",
       "        vertical-align: middle;\n",
       "    }\n",
       "\n",
       "    .dataframe tbody tr th {\n",
       "        vertical-align: top;\n",
       "    }\n",
       "\n",
       "    .dataframe thead th {\n",
       "        text-align: right;\n",
       "    }\n",
       "</style>\n",
       "<table border=\"1\" class=\"dataframe\">\n",
       "  <thead>\n",
       "    <tr style=\"text-align: right;\">\n",
       "      <th></th>\n",
       "      <th>user_id</th>\n",
       "      <th>name</th>\n",
       "      <th>time</th>\n",
       "      <th>rating</th>\n",
       "      <th>text</th>\n",
       "      <th>pics</th>\n",
       "      <th>resp</th>\n",
       "      <th>gmap_id</th>\n",
       "    </tr>\n",
       "  </thead>\n",
       "  <tbody>\n",
       "    <tr>\n",
       "      <th>0</th>\n",
       "      <td>1.137221e+20</td>\n",
       "      <td>Alvin Martinez</td>\n",
       "      <td>1603494795361</td>\n",
       "      <td>5</td>\n",
       "      <td>I'm late to posting this but this store especi...</td>\n",
       "      <td>[{'url': ['https://lh5.googleusercontent.com/p...</td>\n",
       "      <td>None</td>\n",
       "      <td>0x89c25fc9494dce47:0x6d63c807b59a55</td>\n",
       "    </tr>\n",
       "    <tr>\n",
       "      <th>1</th>\n",
       "      <td>1.072934e+20</td>\n",
       "      <td>Johnnie Jackson</td>\n",
       "      <td>1620157037403</td>\n",
       "      <td>1</td>\n",
       "      <td>Very dissatisfied I did not get my phone the p...</td>\n",
       "      <td>None</td>\n",
       "      <td>{'time': 1620268360920, 'text': 'We pride ours...</td>\n",
       "      <td>0x89c25fc9494dce47:0x6d63c807b59a55</td>\n",
       "    </tr>\n",
       "    <tr>\n",
       "      <th>2</th>\n",
       "      <td>1.003786e+20</td>\n",
       "      <td>Manie Blazer</td>\n",
       "      <td>1597431662039</td>\n",
       "      <td>5</td>\n",
       "      <td>Excellent very well done with professional car...</td>\n",
       "      <td>None</td>\n",
       "      <td>None</td>\n",
       "      <td>0x89c25fc9494dce47:0x6d63c807b59a55</td>\n",
       "    </tr>\n",
       "    <tr>\n",
       "      <th>3</th>\n",
       "      <td>1.149982e+20</td>\n",
       "      <td>Fashion Fiinds</td>\n",
       "      <td>1543773862044</td>\n",
       "      <td>5</td>\n",
       "      <td>Basing my review strictly on the service I rec...</td>\n",
       "      <td>None</td>\n",
       "      <td>{'time': 1543855317372, 'text': 'Thanks for th...</td>\n",
       "      <td>0x89c25fc9494dce47:0x6d63c807b59a55</td>\n",
       "    </tr>\n",
       "    <tr>\n",
       "      <th>4</th>\n",
       "      <td>1.171782e+20</td>\n",
       "      <td>Andres Rieloff</td>\n",
       "      <td>1597279097718</td>\n",
       "      <td>1</td>\n",
       "      <td>Bad! Disorganized. I'm being totally honest. I...</td>\n",
       "      <td>None</td>\n",
       "      <td>None</td>\n",
       "      <td>0x89c25fc9494dce47:0x6d63c807b59a55</td>\n",
       "    </tr>\n",
       "  </tbody>\n",
       "</table>\n",
       "</div>"
      ],
      "text/plain": [
       "        user_id             name           time  rating  \\\n",
       "0  1.137221e+20   Alvin Martinez  1603494795361       5   \n",
       "1  1.072934e+20  Johnnie Jackson  1620157037403       1   \n",
       "2  1.003786e+20     Manie Blazer  1597431662039       5   \n",
       "3  1.149982e+20   Fashion Fiinds  1543773862044       5   \n",
       "4  1.171782e+20   Andres Rieloff  1597279097718       1   \n",
       "\n",
       "                                                text  \\\n",
       "0  I'm late to posting this but this store especi...   \n",
       "1  Very dissatisfied I did not get my phone the p...   \n",
       "2  Excellent very well done with professional car...   \n",
       "3  Basing my review strictly on the service I rec...   \n",
       "4  Bad! Disorganized. I'm being totally honest. I...   \n",
       "\n",
       "                                                pics  \\\n",
       "0  [{'url': ['https://lh5.googleusercontent.com/p...   \n",
       "1                                               None   \n",
       "2                                               None   \n",
       "3                                               None   \n",
       "4                                               None   \n",
       "\n",
       "                                                resp  \\\n",
       "0                                               None   \n",
       "1  {'time': 1620268360920, 'text': 'We pride ours...   \n",
       "2                                               None   \n",
       "3  {'time': 1543855317372, 'text': 'Thanks for th...   \n",
       "4                                               None   \n",
       "\n",
       "                               gmap_id  \n",
       "0  0x89c25fc9494dce47:0x6d63c807b59a55  \n",
       "1  0x89c25fc9494dce47:0x6d63c807b59a55  \n",
       "2  0x89c25fc9494dce47:0x6d63c807b59a55  \n",
       "3  0x89c25fc9494dce47:0x6d63c807b59a55  \n",
       "4  0x89c25fc9494dce47:0x6d63c807b59a55  "
      ]
     },
     "execution_count": 34,
     "metadata": {},
     "output_type": "execute_result"
    }
   ],
   "source": [
    "# Carga los archivos Pickle generados y los combina en un solo DataFrame.\n",
    "df_list = [pd.read_pickle(archivo.replace(\".json\", \".pkl\")) for archivo in archivos_json] # convierte el nombre de cada archivo de .json a .pkl para cargarlo correctamente.\n",
    "df_rev_NY = pd.concat(df_list, ignore_index=True)\n",
    "\n",
    "df_rev_NY.head()"
   ]
  },
  {
   "cell_type": "code",
   "execution_count": 35,
   "metadata": {},
   "outputs": [
    {
     "name": "stdout",
     "output_type": "stream",
     "text": [
      "<class 'pandas.core.frame.DataFrame'>\n",
      "RangeIndex: 2700000 entries, 0 to 2699999\n",
      "Data columns (total 8 columns):\n",
      " #   Column   Dtype  \n",
      "---  ------   -----  \n",
      " 0   user_id  float64\n",
      " 1   name     object \n",
      " 2   time     int64  \n",
      " 3   rating   int64  \n",
      " 4   text     object \n",
      " 5   pics     object \n",
      " 6   resp     object \n",
      " 7   gmap_id  object \n",
      "dtypes: float64(1), int64(2), object(5)\n",
      "memory usage: 164.8+ MB\n"
     ]
    }
   ],
   "source": [
    "df_rev_NY.info()"
   ]
  },
  {
   "cell_type": "code",
   "execution_count": 36,
   "metadata": {},
   "outputs": [
    {
     "name": "stdout",
     "output_type": "stream",
     "text": [
      "              user_id             name           time  rating  \\\n",
      "433190   1.000013e+20   Daisy Crawford  1562613047637       5   \n",
      "433191   1.000013e+20   Daisy Crawford  1562613047637       5   \n",
      "519864   1.000014e+20     Matt Solomon  1502904476201       5   \n",
      "519873   1.000014e+20     Matt Solomon  1502904476201       5   \n",
      "2417594  1.000015e+20  Anthony Puglisi  1550149671999       4   \n",
      "...               ...              ...            ...     ...   \n",
      "357900   1.184462e+20    Jonathan Fung  1569217448412       5   \n",
      "1201332  1.184465e+20      Chinh Chinh  1529017525510       4   \n",
      "1201335  1.184465e+20      Chinh Chinh  1529017525510       4   \n",
      "1855121  1.184466e+20      Alec Holden  1584810613275       5   \n",
      "1855122  1.184466e+20      Alec Holden  1584810613275       5   \n",
      "\n",
      "                                                      text  \\\n",
      "433190   Close by authentic Chinese food. Place is not ...   \n",
      "433191   Close by authentic Chinese food. Place is not ...   \n",
      "519864                               Good customer service   \n",
      "519873                               Good customer service   \n",
      "2417594  Great overall market place. Produce is fresh& ...   \n",
      "...                                                    ...   \n",
      "357900   Make sure you get a ticket on the way in...and...   \n",
      "1201332  Been wanting to try this place since seeing it...   \n",
      "1201335  Been wanting to try this place since seeing it...   \n",
      "1855121  This spot provides extraordinary service as we...   \n",
      "1855122  This spot provides extraordinary service as we...   \n",
      "\n",
      "                                                      pics  resp  \\\n",
      "433190                                                None  None   \n",
      "433191                                                None  None   \n",
      "519864                                                None  None   \n",
      "519873                                                None  None   \n",
      "2417594                                               None  None   \n",
      "...                                                    ...   ...   \n",
      "357900                                                None  None   \n",
      "1201332  [{'url': ['https://lh5.googleusercontent.com/p...  None   \n",
      "1201335  [{'url': ['https://lh5.googleusercontent.com/p...  None   \n",
      "1855121                                               None  None   \n",
      "1855122                                               None  None   \n",
      "\n",
      "                                       gmap_id  \n",
      "433190   0x89d6d09030435d1b:0x66e801f6778ca788  \n",
      "433191   0x89d6d09030435d1b:0x66e801f6778ca788  \n",
      "519864   0x89d36e7f288e3d55:0xc7916ace6c856b8c  \n",
      "519873   0x89d36e7f288e3d55:0xc7916ace6c856b8c  \n",
      "2417594  0x89dd2dd11fb89ceb:0x529da99f9815687a  \n",
      "...                                        ...  \n",
      "357900   0x89c2598f7ff4aa09:0x313547e757cb8cea  \n",
      "1201332  0x89c25942d18bf5a9:0xb42f37458cc7f089  \n",
      "1201335  0x89c25942d18bf5a9:0xb42f37458cc7f089  \n",
      "1855121  0x89c25a5a7eb54e13:0x4fa646fc6042eb8e  \n",
      "1855122  0x89c25a5a7eb54e13:0x4fa646fc6042eb8e  \n",
      "\n",
      "[118054 rows x 8 columns]\n"
     ]
    }
   ],
   "source": [
    "# # reviso si hay reviews duplicadas\n",
    "df_dup_NY = df_rev_NY[df_rev_NY.duplicated(subset=['user_id', 'gmap_id', 'time'], keep=False)]\n",
    "df_dup_NY = df_dup_NY.sort_values(['user_id', 'gmap_id', 'time'])\n",
    "\n",
    "print(df_dup_NY)"
   ]
  },
  {
   "cell_type": "markdown",
   "metadata": {},
   "source": [
    "Hay 59.027 reseñas duplicadas para NY. Las elimino"
   ]
  },
  {
   "cell_type": "code",
   "execution_count": 37,
   "metadata": {},
   "outputs": [],
   "source": [
    "# eliminar los duplicados manteniendo la primera instancia\n",
    "df_rev_NY_sindup = df_rev_NY.drop_duplicates(subset=['user_id', 'gmap_id', 'time'], keep='first')"
   ]
  },
  {
   "cell_type": "code",
   "execution_count": 39,
   "metadata": {},
   "outputs": [],
   "source": [
    "# convertir columna time en int64 a datetime\n",
    "df_rev_NY_sindup['date'] = pd.to_datetime(df_rev_NY_sindup['time'], unit='ms')"
   ]
  },
  {
   "cell_type": "code",
   "execution_count": 40,
   "metadata": {},
   "outputs": [
    {
     "name": "stdout",
     "output_type": "stream",
     "text": [
      "<class 'pandas.core.frame.DataFrame'>\n",
      "Index: 2640527 entries, 0 to 2699999\n",
      "Data columns (total 8 columns):\n",
      " #   Column   Dtype         \n",
      "---  ------   -----         \n",
      " 0   user_id  float64       \n",
      " 1   name     object        \n",
      " 2   rating   int64         \n",
      " 3   text     object        \n",
      " 4   pics     object        \n",
      " 5   resp     object        \n",
      " 6   gmap_id  object        \n",
      " 7   date     datetime64[ns]\n",
      "dtypes: datetime64[ns](1), float64(1), int64(1), object(5)\n",
      "memory usage: 181.3+ MB\n"
     ]
    }
   ],
   "source": [
    "# Eliminamos la columan time\n",
    "df_rev_NY_sindup = df_rev_NY_sindup.drop(columns=['time'])\n",
    "df_rev_NY_sindup.info()"
   ]
  },
  {
   "cell_type": "code",
   "execution_count": 41,
   "metadata": {},
   "outputs": [],
   "source": [
    "# Eliminamos, por ahora, pics y resp. no usaremos esas columnas\n",
    "df_rev_NY_sindup = df_rev_NY_sindup.drop(columns=['pics', 'resp'])"
   ]
  },
  {
   "cell_type": "code",
   "execution_count": 42,
   "metadata": {},
   "outputs": [],
   "source": [
    "# rename column name to user_name\n",
    "df_rev_NY_sindup.rename(columns={'name': 'user_name'}, inplace=True)"
   ]
  },
  {
   "cell_type": "markdown",
   "metadata": {},
   "source": [
    "Uno el dataframe de datos de pizzerias de NY en un left join con el de los datos de reviews de NY para obtener todas las reviews de pizzerias de NY y agregarle el nombre del local."
   ]
  },
  {
   "cell_type": "code",
   "execution_count": 43,
   "metadata": {},
   "outputs": [],
   "source": [
    "df_pizza_NY_rev = pd.merge(df_mt_pizza_NY, df_rev_NY_sindup, how='left', on='gmap_id') # tengo que hacer left join"
   ]
  },
  {
   "cell_type": "code",
   "execution_count": 44,
   "metadata": {},
   "outputs": [
    {
     "name": "stdout",
     "output_type": "stream",
     "text": [
      "<class 'pandas.core.frame.DataFrame'>\n",
      "RangeIndex: 97120 entries, 0 to 97119\n",
      "Data columns (total 15 columns):\n",
      " #   Column          Non-Null Count  Dtype         \n",
      "---  ------          --------------  -----         \n",
      " 0   gmap_id         97120 non-null  object        \n",
      " 1   business_name   97120 non-null  object        \n",
      " 2   address         97062 non-null  object        \n",
      " 3   city            97120 non-null  object        \n",
      " 4   state           97120 non-null  object        \n",
      " 5   zip_code        97120 non-null  object        \n",
      " 6   latitude        97120 non-null  float64       \n",
      " 7   longitude       97120 non-null  float64       \n",
      " 8   avg_rating      97120 non-null  float64       \n",
      " 9   num_of_reviews  97120 non-null  int64         \n",
      " 10  user_id         96613 non-null  float64       \n",
      " 11  user_name       96613 non-null  object        \n",
      " 12  rating          96613 non-null  float64       \n",
      " 13  text            57918 non-null  object        \n",
      " 14  date            96613 non-null  datetime64[ns]\n",
      "dtypes: datetime64[ns](1), float64(5), int64(1), object(8)\n",
      "memory usage: 11.1+ MB\n"
     ]
    }
   ],
   "source": [
    "df_pizza_NY_rev.info()"
   ]
  },
  {
   "cell_type": "markdown",
   "metadata": {},
   "source": [
    "Hay 507 pizzerias del NY de las que no hay reviews en el archivo usado."
   ]
  },
  {
   "cell_type": "code",
   "execution_count": 45,
   "metadata": {},
   "outputs": [],
   "source": [
    "# concateno las reviews de googlemaps de las pizzerias de NY y NJ\n",
    "df_pizza_NJNY_rev = pd.concat([df_pizza_NJ_rev, df_pizza_NY_rev], ignore_index=True)"
   ]
  },
  {
   "cell_type": "code",
   "execution_count": 58,
   "metadata": {},
   "outputs": [
    {
     "name": "stdout",
     "output_type": "stream",
     "text": [
      "<class 'pandas.core.frame.DataFrame'>\n",
      "RangeIndex: 151395 entries, 0 to 151394\n",
      "Data columns (total 15 columns):\n",
      " #   Column          Non-Null Count   Dtype  \n",
      "---  ------          --------------   -----  \n",
      " 0   gmap_id         151395 non-null  object \n",
      " 1   business_name   151395 non-null  object \n",
      " 2   address         151299 non-null  object \n",
      " 3   city            151395 non-null  object \n",
      " 4   state           151395 non-null  object \n",
      " 5   zip_code        151395 non-null  object \n",
      " 6   latitude        151395 non-null  float64\n",
      " 7   longitude       151395 non-null  float64\n",
      " 8   avg_rating      151395 non-null  float64\n",
      " 9   num_of_reviews  151395 non-null  int64  \n",
      " 10  user_id         150658 non-null  float64\n",
      " 11  user_name       150658 non-null  object \n",
      " 12  time            150658 non-null  float64\n",
      " 13  rating          150658 non-null  float64\n",
      " 14  text            90712 non-null   object \n",
      "dtypes: float64(6), int64(1), object(8)\n",
      "memory usage: 17.3+ MB\n"
     ]
    }
   ],
   "source": [
    "df_pizza_NJNY_rev.info()"
   ]
  },
  {
   "cell_type": "markdown",
   "metadata": {},
   "source": [
    "Hay 737 pizzerias de las que no hay reviews en el archivo usado. Esto se infiere porque hay esa cantidad de user_id nulos. </br>\n",
    "Es decir que al hacer un left join no habia una una fila con datos de review para ese local. </br>\n",
    "Esas reseñas deben corresponder a un periodo anterior al del que tenemos reseñas.\n",
    "\n",
    "Se eliminarán las filas correspondientes a esos locales de este dataframe. </br>\n",
    "Se mantendrán las filas con los datos de esos locales en el dataframe de pizzerias ya que indican cantidad de reseñas y avg_rating. </br>"
   ]
  },
  {
   "cell_type": "code",
   "execution_count": 46,
   "metadata": {},
   "outputs": [],
   "source": [
    "# elimino las filas de los locales sin reseñas\n",
    "df_pizza_NJNY_rev1 = df_pizza_NJNY_rev[df_pizza_NJNY_rev['user_id'].notna()]"
   ]
  },
  {
   "cell_type": "code",
   "execution_count": 47,
   "metadata": {},
   "outputs": [
    {
     "data": {
      "text/html": [
       "<div>\n",
       "<style scoped>\n",
       "    .dataframe tbody tr th:only-of-type {\n",
       "        vertical-align: middle;\n",
       "    }\n",
       "\n",
       "    .dataframe tbody tr th {\n",
       "        vertical-align: top;\n",
       "    }\n",
       "\n",
       "    .dataframe thead th {\n",
       "        text-align: right;\n",
       "    }\n",
       "</style>\n",
       "<table border=\"1\" class=\"dataframe\">\n",
       "  <thead>\n",
       "    <tr style=\"text-align: right;\">\n",
       "      <th></th>\n",
       "      <th>gmap_id</th>\n",
       "      <th>business_name</th>\n",
       "      <th>address</th>\n",
       "      <th>city</th>\n",
       "      <th>state</th>\n",
       "      <th>zip_code</th>\n",
       "      <th>latitude</th>\n",
       "      <th>longitude</th>\n",
       "      <th>avg_rating</th>\n",
       "      <th>num_of_reviews</th>\n",
       "      <th>user_id</th>\n",
       "      <th>user_name</th>\n",
       "      <th>rating</th>\n",
       "      <th>text</th>\n",
       "      <th>date</th>\n",
       "    </tr>\n",
       "  </thead>\n",
       "  <tbody>\n",
       "    <tr>\n",
       "      <th>0</th>\n",
       "      <td>0x89c3acab12c10d5d:0x73285fc4bd781796</td>\n",
       "      <td>Gulistan Pizza</td>\n",
       "      <td>783 S Orange Ave</td>\n",
       "      <td>Newark</td>\n",
       "      <td>NJ</td>\n",
       "      <td>07106</td>\n",
       "      <td>40.745207</td>\n",
       "      <td>-74.220116</td>\n",
       "      <td>3.3</td>\n",
       "      <td>8</td>\n",
       "      <td>1.137158e+20</td>\n",
       "      <td>Creative Builders Llc</td>\n",
       "      <td>1.0</td>\n",
       "      <td>Went in there to pick up my sandwich that I or...</td>\n",
       "      <td>2018-01-24 04:25:16.239</td>\n",
       "    </tr>\n",
       "    <tr>\n",
       "      <th>1</th>\n",
       "      <td>0x89c3acab12c10d5d:0x73285fc4bd781796</td>\n",
       "      <td>Gulistan Pizza</td>\n",
       "      <td>783 S Orange Ave</td>\n",
       "      <td>Newark</td>\n",
       "      <td>NJ</td>\n",
       "      <td>07106</td>\n",
       "      <td>40.745207</td>\n",
       "      <td>-74.220116</td>\n",
       "      <td>3.3</td>\n",
       "      <td>8</td>\n",
       "      <td>1.138407e+20</td>\n",
       "      <td>Alex Sheppard</td>\n",
       "      <td>3.0</td>\n",
       "      <td>This is a chicken shack in the hood,we call it...</td>\n",
       "      <td>2012-10-16 02:39:32.591</td>\n",
       "    </tr>\n",
       "    <tr>\n",
       "      <th>2</th>\n",
       "      <td>0x89c3acab12c10d5d:0x73285fc4bd781796</td>\n",
       "      <td>Gulistan Pizza</td>\n",
       "      <td>783 S Orange Ave</td>\n",
       "      <td>Newark</td>\n",
       "      <td>NJ</td>\n",
       "      <td>07106</td>\n",
       "      <td>40.745207</td>\n",
       "      <td>-74.220116</td>\n",
       "      <td>3.3</td>\n",
       "      <td>8</td>\n",
       "      <td>1.089485e+20</td>\n",
       "      <td>Yolanda Hoffman</td>\n",
       "      <td>5.0</td>\n",
       "      <td>Good food</td>\n",
       "      <td>2018-01-25 04:33:37.207</td>\n",
       "    </tr>\n",
       "    <tr>\n",
       "      <th>3</th>\n",
       "      <td>0x89c3acab12c10d5d:0x73285fc4bd781796</td>\n",
       "      <td>Gulistan Pizza</td>\n",
       "      <td>783 S Orange Ave</td>\n",
       "      <td>Newark</td>\n",
       "      <td>NJ</td>\n",
       "      <td>07106</td>\n",
       "      <td>40.745207</td>\n",
       "      <td>-74.220116</td>\n",
       "      <td>3.3</td>\n",
       "      <td>8</td>\n",
       "      <td>1.151836e+20</td>\n",
       "      <td>The Johnsons</td>\n",
       "      <td>5.0</td>\n",
       "      <td>Great pizza!!!</td>\n",
       "      <td>2016-06-15 01:12:51.022</td>\n",
       "    </tr>\n",
       "    <tr>\n",
       "      <th>4</th>\n",
       "      <td>0x89c3acab12c10d5d:0x73285fc4bd781796</td>\n",
       "      <td>Gulistan Pizza</td>\n",
       "      <td>783 S Orange Ave</td>\n",
       "      <td>Newark</td>\n",
       "      <td>NJ</td>\n",
       "      <td>07106</td>\n",
       "      <td>40.745207</td>\n",
       "      <td>-74.220116</td>\n",
       "      <td>3.3</td>\n",
       "      <td>8</td>\n",
       "      <td>1.131849e+20</td>\n",
       "      <td>Djaliil Sakande</td>\n",
       "      <td>5.0</td>\n",
       "      <td>Close</td>\n",
       "      <td>2018-02-02 00:21:38.584</td>\n",
       "    </tr>\n",
       "  </tbody>\n",
       "</table>\n",
       "</div>"
      ],
      "text/plain": [
       "                                 gmap_id   business_name           address  \\\n",
       "0  0x89c3acab12c10d5d:0x73285fc4bd781796  Gulistan Pizza  783 S Orange Ave   \n",
       "1  0x89c3acab12c10d5d:0x73285fc4bd781796  Gulistan Pizza  783 S Orange Ave   \n",
       "2  0x89c3acab12c10d5d:0x73285fc4bd781796  Gulistan Pizza  783 S Orange Ave   \n",
       "3  0x89c3acab12c10d5d:0x73285fc4bd781796  Gulistan Pizza  783 S Orange Ave   \n",
       "4  0x89c3acab12c10d5d:0x73285fc4bd781796  Gulistan Pizza  783 S Orange Ave   \n",
       "\n",
       "     city state zip_code   latitude  longitude  avg_rating  num_of_reviews  \\\n",
       "0  Newark    NJ    07106  40.745207 -74.220116         3.3               8   \n",
       "1  Newark    NJ    07106  40.745207 -74.220116         3.3               8   \n",
       "2  Newark    NJ    07106  40.745207 -74.220116         3.3               8   \n",
       "3  Newark    NJ    07106  40.745207 -74.220116         3.3               8   \n",
       "4  Newark    NJ    07106  40.745207 -74.220116         3.3               8   \n",
       "\n",
       "        user_id              user_name  rating  \\\n",
       "0  1.137158e+20  Creative Builders Llc     1.0   \n",
       "1  1.138407e+20          Alex Sheppard     3.0   \n",
       "2  1.089485e+20        Yolanda Hoffman     5.0   \n",
       "3  1.151836e+20           The Johnsons     5.0   \n",
       "4  1.131849e+20        Djaliil Sakande     5.0   \n",
       "\n",
       "                                                text                    date  \n",
       "0  Went in there to pick up my sandwich that I or... 2018-01-24 04:25:16.239  \n",
       "1  This is a chicken shack in the hood,we call it... 2012-10-16 02:39:32.591  \n",
       "2                                          Good food 2018-01-25 04:33:37.207  \n",
       "3                                     Great pizza!!! 2016-06-15 01:12:51.022  \n",
       "4                                              Close 2018-02-02 00:21:38.584  "
      ]
     },
     "execution_count": 47,
     "metadata": {},
     "output_type": "execute_result"
    }
   ],
   "source": [
    "df_pizza_NJNY_rev1.head()"
   ]
  },
  {
   "cell_type": "code",
   "execution_count": 48,
   "metadata": {},
   "outputs": [
    {
     "data": {
      "text/html": [
       "<div>\n",
       "<style scoped>\n",
       "    .dataframe tbody tr th:only-of-type {\n",
       "        vertical-align: middle;\n",
       "    }\n",
       "\n",
       "    .dataframe tbody tr th {\n",
       "        vertical-align: top;\n",
       "    }\n",
       "\n",
       "    .dataframe thead th {\n",
       "        text-align: right;\n",
       "    }\n",
       "</style>\n",
       "<table border=\"1\" class=\"dataframe\">\n",
       "  <thead>\n",
       "    <tr style=\"text-align: right;\">\n",
       "      <th></th>\n",
       "      <th>gmap_id</th>\n",
       "    </tr>\n",
       "    <tr>\n",
       "      <th>state</th>\n",
       "      <th></th>\n",
       "    </tr>\n",
       "  </thead>\n",
       "  <tbody>\n",
       "    <tr>\n",
       "      <th>NJ</th>\n",
       "      <td>54045</td>\n",
       "    </tr>\n",
       "    <tr>\n",
       "      <th>NY</th>\n",
       "      <td>96613</td>\n",
       "    </tr>\n",
       "  </tbody>\n",
       "</table>\n",
       "</div>"
      ],
      "text/plain": [
       "       gmap_id\n",
       "state         \n",
       "NJ       54045\n",
       "NY       96613"
      ]
     },
     "execution_count": 48,
     "metadata": {},
     "output_type": "execute_result"
    }
   ],
   "source": [
    "# cuento la cantidad de reseñas de pizzerias en cada estado / no puedo contar con una sola columna\n",
    "df_pizza_NJNY_rev1[['state', 'gmap_id' ]].groupby('state').count()"
   ]
  },
  {
   "cell_type": "markdown",
   "metadata": {},
   "source": [
    "Hay 54045 reseñas para locales del estado de NJ y 96613 reseñas para locales del estado de NY"
   ]
  },
  {
   "cell_type": "code",
   "execution_count": 49,
   "metadata": {},
   "outputs": [],
   "source": [
    "# guardo df_pizza_NJNY_rev\n",
    "df_pizza_NJNY_rev1.to_parquet('datos/googlemaps/df_pizza_NJNY_rev202502110804.parquet' , engine='fastparquet')"
   ]
  }
 ],
 "metadata": {
  "kernelspec": {
   "display_name": "Python 3",
   "language": "python",
   "name": "python3"
  },
  "language_info": {
   "codemirror_mode": {
    "name": "ipython",
    "version": 3
   },
   "file_extension": ".py",
   "mimetype": "text/x-python",
   "name": "python",
   "nbconvert_exporter": "python",
   "pygments_lexer": "ipython3",
   "version": "3.12.2"
  }
 },
 "nbformat": 4,
 "nbformat_minor": 2
}
