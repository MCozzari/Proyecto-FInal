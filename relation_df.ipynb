{
 "cells": [
  {
   "cell_type": "markdown",
   "metadata": {},
   "source": [
    "# relation_df Dataset"
   ]
  },
  {
   "cell_type": "markdown",
   "metadata": {},
   "source": [
    "Creación de dataset relation_df que buscar relacionar los dataset de google maps y yelp mediante las columnas 'latitude' y 'longitude'"
   ]
  },
  {
   "cell_type": "code",
   "execution_count": 427,
   "metadata": {},
   "outputs": [],
   "source": [
    "import pandas as pd\n",
    "import warnings\n",
    "warnings.filterwarnings(\"ignore\")"
   ]
  },
  {
   "cell_type": "code",
   "execution_count": 428,
   "metadata": {},
   "outputs": [],
   "source": [
    "from pathlib import Path\n",
    "\n",
    "# Definir la ruta relativa desde el directorio del script\n",
    "relative_path_business = Path(\"datasets\") / \"business.parquet\"\n",
    "relative_path_pizza = Path(\"datasets\") / \"pizza_metadata.parquet\"\n",
    "\n",
    "# Cargar el archivo\n",
    "business = pd.read_parquet(relative_path_business)\n",
    "pizza_metadata = pd.read_parquet(relative_path_pizza)\n"
   ]
  },
  {
   "cell_type": "code",
   "execution_count": 429,
   "metadata": {},
   "outputs": [
    {
     "data": {
      "text/html": [
       "<div>\n",
       "<style scoped>\n",
       "    .dataframe tbody tr th:only-of-type {\n",
       "        vertical-align: middle;\n",
       "    }\n",
       "\n",
       "    .dataframe tbody tr th {\n",
       "        vertical-align: top;\n",
       "    }\n",
       "\n",
       "    .dataframe thead th {\n",
       "        text-align: right;\n",
       "    }\n",
       "</style>\n",
       "<table border=\"1\" class=\"dataframe\">\n",
       "  <thead>\n",
       "    <tr style=\"text-align: right;\">\n",
       "      <th></th>\n",
       "      <th>business_id</th>\n",
       "      <th>name</th>\n",
       "      <th>address</th>\n",
       "      <th>city</th>\n",
       "      <th>state</th>\n",
       "      <th>postal_code</th>\n",
       "      <th>latitude</th>\n",
       "      <th>longitude</th>\n",
       "      <th>stars</th>\n",
       "      <th>review_count</th>\n",
       "    </tr>\n",
       "  </thead>\n",
       "  <tbody>\n",
       "    <tr>\n",
       "      <th>0</th>\n",
       "      <td>Pns2l4eNsfO8kk83dixA6A</td>\n",
       "      <td>Abby Rappoport, LAC, CMQ</td>\n",
       "      <td>1616 Chapala St, Ste 2</td>\n",
       "      <td>Santa Barbara</td>\n",
       "      <td>None</td>\n",
       "      <td>93101</td>\n",
       "      <td>34.426679</td>\n",
       "      <td>-119.711197</td>\n",
       "      <td>5.0</td>\n",
       "      <td>7</td>\n",
       "    </tr>\n",
       "    <tr>\n",
       "      <th>1</th>\n",
       "      <td>mpf3x-BjTdTEA3yCZrAYPw</td>\n",
       "      <td>The UPS Store</td>\n",
       "      <td>87 Grasso Plaza Shopping Center</td>\n",
       "      <td>Affton</td>\n",
       "      <td>None</td>\n",
       "      <td>63123</td>\n",
       "      <td>38.551126</td>\n",
       "      <td>-90.335695</td>\n",
       "      <td>3.0</td>\n",
       "      <td>15</td>\n",
       "    </tr>\n",
       "    <tr>\n",
       "      <th>2</th>\n",
       "      <td>tUFrWirKiKi_TAnsVWINQQ</td>\n",
       "      <td>Target</td>\n",
       "      <td>5255 E Broadway Blvd</td>\n",
       "      <td>Tucson</td>\n",
       "      <td>None</td>\n",
       "      <td>85711</td>\n",
       "      <td>32.223236</td>\n",
       "      <td>-110.880452</td>\n",
       "      <td>3.5</td>\n",
       "      <td>22</td>\n",
       "    </tr>\n",
       "    <tr>\n",
       "      <th>3</th>\n",
       "      <td>MTSW4McQd7CbVtyjqoe9mw</td>\n",
       "      <td>St Honore Pastries</td>\n",
       "      <td>935 Race St</td>\n",
       "      <td>Philadelphia</td>\n",
       "      <td>CA</td>\n",
       "      <td>19107</td>\n",
       "      <td>39.955505</td>\n",
       "      <td>-75.155564</td>\n",
       "      <td>4.0</td>\n",
       "      <td>80</td>\n",
       "    </tr>\n",
       "    <tr>\n",
       "      <th>4</th>\n",
       "      <td>mWMc6_wTdE0EUBKIGXDVfA</td>\n",
       "      <td>Perkiomen Valley Brewery</td>\n",
       "      <td>101 Walnut St</td>\n",
       "      <td>Green Lane</td>\n",
       "      <td>MO</td>\n",
       "      <td>18054</td>\n",
       "      <td>40.338183</td>\n",
       "      <td>-75.471659</td>\n",
       "      <td>4.5</td>\n",
       "      <td>13</td>\n",
       "    </tr>\n",
       "  </tbody>\n",
       "</table>\n",
       "</div>"
      ],
      "text/plain": [
       "              business_id                      name  \\\n",
       "0  Pns2l4eNsfO8kk83dixA6A  Abby Rappoport, LAC, CMQ   \n",
       "1  mpf3x-BjTdTEA3yCZrAYPw             The UPS Store   \n",
       "2  tUFrWirKiKi_TAnsVWINQQ                    Target   \n",
       "3  MTSW4McQd7CbVtyjqoe9mw        St Honore Pastries   \n",
       "4  mWMc6_wTdE0EUBKIGXDVfA  Perkiomen Valley Brewery   \n",
       "\n",
       "                           address           city state postal_code  \\\n",
       "0           1616 Chapala St, Ste 2  Santa Barbara  None       93101   \n",
       "1  87 Grasso Plaza Shopping Center         Affton  None       63123   \n",
       "2             5255 E Broadway Blvd         Tucson  None       85711   \n",
       "3                      935 Race St   Philadelphia    CA       19107   \n",
       "4                    101 Walnut St     Green Lane    MO       18054   \n",
       "\n",
       "    latitude   longitude  stars  review_count  \n",
       "0  34.426679 -119.711197    5.0             7  \n",
       "1  38.551126  -90.335695    3.0            15  \n",
       "2  32.223236 -110.880452    3.5            22  \n",
       "3  39.955505  -75.155564    4.0            80  \n",
       "4  40.338183  -75.471659    4.5            13  "
      ]
     },
     "execution_count": 429,
     "metadata": {},
     "output_type": "execute_result"
    }
   ],
   "source": [
    "business.head()"
   ]
  },
  {
   "cell_type": "code",
   "execution_count": 430,
   "metadata": {},
   "outputs": [
    {
     "data": {
      "text/html": [
       "<div>\n",
       "<style scoped>\n",
       "    .dataframe tbody tr th:only-of-type {\n",
       "        vertical-align: middle;\n",
       "    }\n",
       "\n",
       "    .dataframe tbody tr th {\n",
       "        vertical-align: top;\n",
       "    }\n",
       "\n",
       "    .dataframe thead th {\n",
       "        text-align: right;\n",
       "    }\n",
       "</style>\n",
       "<table border=\"1\" class=\"dataframe\">\n",
       "  <thead>\n",
       "    <tr style=\"text-align: right;\">\n",
       "      <th></th>\n",
       "      <th>name</th>\n",
       "      <th>address</th>\n",
       "      <th>gmap_id</th>\n",
       "      <th>latitude</th>\n",
       "      <th>longitude</th>\n",
       "      <th>avg_rating</th>\n",
       "      <th>num_of_reviews</th>\n",
       "    </tr>\n",
       "  </thead>\n",
       "  <tbody>\n",
       "    <tr>\n",
       "      <th>0</th>\n",
       "      <td>Primo Pizza &amp; Subs</td>\n",
       "      <td>Primo Pizza &amp; Subs, 148 W St Joseph St, Easton...</td>\n",
       "      <td>0x89c46d5e4554eae1:0xa2f8b211524ca29a</td>\n",
       "      <td>40.682177</td>\n",
       "      <td>-75.209820</td>\n",
       "      <td>4.5</td>\n",
       "      <td>25</td>\n",
       "    </tr>\n",
       "    <tr>\n",
       "      <th>1</th>\n",
       "      <td>Sir Pizza Xpress</td>\n",
       "      <td>Sir Pizza Xpress, 201 E Broad St, Smithville, ...</td>\n",
       "      <td>0x8866cef69c5737a1:0xbdf838584dca0b9c</td>\n",
       "      <td>35.956944</td>\n",
       "      <td>-85.811111</td>\n",
       "      <td>4.1</td>\n",
       "      <td>18</td>\n",
       "    </tr>\n",
       "    <tr>\n",
       "      <th>2</th>\n",
       "      <td>Bucci's Greek &amp; Italian Specialties</td>\n",
       "      <td>Bucci's Greek &amp; Italian Specialties, 8030 S Ho...</td>\n",
       "      <td>0x876c8410e0d7ec6d:0xb06492857fa9ec9d</td>\n",
       "      <td>39.572697</td>\n",
       "      <td>-104.922399</td>\n",
       "      <td>4.7</td>\n",
       "      <td>13</td>\n",
       "    </tr>\n",
       "    <tr>\n",
       "      <th>3</th>\n",
       "      <td>Dynamite Pizza &amp; BBQ</td>\n",
       "      <td>Dynamite Pizza &amp; BBQ, 59069 Gratiot Ave, New H...</td>\n",
       "      <td>0x882518a534093375:0x4333d5f58f7af4c</td>\n",
       "      <td>42.735038</td>\n",
       "      <td>-82.785340</td>\n",
       "      <td>4.1</td>\n",
       "      <td>8</td>\n",
       "    </tr>\n",
       "    <tr>\n",
       "      <th>4</th>\n",
       "      <td>Three Star Pizza</td>\n",
       "      <td>Three Star Pizza, 409 Cabot St #1, Beverly, MA...</td>\n",
       "      <td>0x89e3169821e62d4d:0x14ff0683c1ebca0e</td>\n",
       "      <td>42.559072</td>\n",
       "      <td>-70.881542</td>\n",
       "      <td>3.9</td>\n",
       "      <td>48</td>\n",
       "    </tr>\n",
       "  </tbody>\n",
       "</table>\n",
       "</div>"
      ],
      "text/plain": [
       "                                  name  \\\n",
       "0                   Primo Pizza & Subs   \n",
       "1                     Sir Pizza Xpress   \n",
       "2  Bucci's Greek & Italian Specialties   \n",
       "3                 Dynamite Pizza & BBQ   \n",
       "4                     Three Star Pizza   \n",
       "\n",
       "                                             address  \\\n",
       "0  Primo Pizza & Subs, 148 W St Joseph St, Easton...   \n",
       "1  Sir Pizza Xpress, 201 E Broad St, Smithville, ...   \n",
       "2  Bucci's Greek & Italian Specialties, 8030 S Ho...   \n",
       "3  Dynamite Pizza & BBQ, 59069 Gratiot Ave, New H...   \n",
       "4  Three Star Pizza, 409 Cabot St #1, Beverly, MA...   \n",
       "\n",
       "                                 gmap_id   latitude   longitude  avg_rating  \\\n",
       "0  0x89c46d5e4554eae1:0xa2f8b211524ca29a  40.682177  -75.209820         4.5   \n",
       "1  0x8866cef69c5737a1:0xbdf838584dca0b9c  35.956944  -85.811111         4.1   \n",
       "2  0x876c8410e0d7ec6d:0xb06492857fa9ec9d  39.572697 -104.922399         4.7   \n",
       "3   0x882518a534093375:0x4333d5f58f7af4c  42.735038  -82.785340         4.1   \n",
       "4  0x89e3169821e62d4d:0x14ff0683c1ebca0e  42.559072  -70.881542         3.9   \n",
       "\n",
       "   num_of_reviews  \n",
       "0              25  \n",
       "1              18  \n",
       "2              13  \n",
       "3               8  \n",
       "4              48  "
      ]
     },
     "execution_count": 430,
     "metadata": {},
     "output_type": "execute_result"
    }
   ],
   "source": [
    "pizza_metadata.head()"
   ]
  },
  {
   "cell_type": "markdown",
   "metadata": {},
   "source": [
    "Join mediante 'longitude' y 'latitude'"
   ]
  },
  {
   "cell_type": "code",
   "execution_count": 431,
   "metadata": {},
   "outputs": [
    {
     "data": {
      "text/html": [
       "<div>\n",
       "<style scoped>\n",
       "    .dataframe tbody tr th:only-of-type {\n",
       "        vertical-align: middle;\n",
       "    }\n",
       "\n",
       "    .dataframe tbody tr th {\n",
       "        vertical-align: top;\n",
       "    }\n",
       "\n",
       "    .dataframe thead th {\n",
       "        text-align: right;\n",
       "    }\n",
       "</style>\n",
       "<table border=\"1\" class=\"dataframe\">\n",
       "  <thead>\n",
       "    <tr style=\"text-align: right;\">\n",
       "      <th></th>\n",
       "      <th>name</th>\n",
       "      <th>business_id</th>\n",
       "      <th>gmap_id</th>\n",
       "      <th>latitude</th>\n",
       "      <th>longitude</th>\n",
       "    </tr>\n",
       "  </thead>\n",
       "  <tbody>\n",
       "  </tbody>\n",
       "</table>\n",
       "</div>"
      ],
      "text/plain": [
       "Empty DataFrame\n",
       "Columns: [name, business_id, gmap_id, latitude, longitude]\n",
       "Index: []"
      ]
     },
     "execution_count": 431,
     "metadata": {},
     "output_type": "execute_result"
    }
   ],
   "source": [
    "epsilon = 0.0001  # Margen de tolerancia en coordenadas\n",
    "\n",
    "# Renombrar columnas para evitar conflictos en el merge\n",
    "business = business.rename(columns={\"latitude\": \"latitude_business\", \"longitude\": \"longitude_business\"})\n",
    "pizza_metadata = pizza_metadata.rename(columns={\"latitude\": \"latitude_metadata\", \"longitude\": \"longitude_metadata\"})\n",
    "\n",
    "# Merge manteniendo solo los negocios en el dataset business\n",
    "relation_df = business.merge(\n",
    "    pizza_metadata,\n",
    "    how=\"left\"  # Asegura que solo se mantengan los datos de business\n",
    ")\n",
    "\n",
    "# Filtrar solo las coincidencias dentro del margen epsilon\n",
    "relation_df = relation_df.query(\n",
    "    \"abs(latitude_business - latitude_metadata) <= @epsilon and abs(longitude_business - longitude_metadata) <= @epsilon\"\n",
    ")[[\"name\", \"business_id\", \"gmap_id\", \"latitude_business\", \"longitude_business\"]]\n",
    "\n",
    "# Renombrar las columnas finales\n",
    "relation_df = relation_df.rename(columns={\"latitude_business\": \"latitude\", \"longitude_business\": \"longitude\"})\n",
    "\n",
    "# Mostrar las primeras filas\n",
    "relation_df.head()"
   ]
  },
  {
   "cell_type": "markdown",
   "metadata": {},
   "source": [
    "No hay coincidencias usando 'latitude' y 'longitude'"
   ]
  },
  {
   "cell_type": "code",
   "execution_count": 432,
   "metadata": {},
   "outputs": [
    {
     "name": "stdout",
     "output_type": "stream",
     "text": [
      "   latitude_business  longitude_business\n",
      "0          34.426679         -119.711197\n",
      "1          38.551126          -90.335695\n",
      "2          32.223236         -110.880452\n",
      "3          39.955505          -75.155564\n",
      "4          40.338183          -75.471659\n",
      "   latitude_metadata  longitude_metadata\n",
      "0          40.682177          -75.209820\n",
      "1          35.956944          -85.811111\n",
      "2          39.572697         -104.922399\n",
      "3          42.735038          -82.785340\n",
      "4          42.559072          -70.881542\n"
     ]
    }
   ],
   "source": [
    "print(business[[\"latitude_business\", \"longitude_business\"]].head(5))\n",
    "print(pizza_metadata[[\"latitude_metadata\", \"longitude_metadata\"]].head(5))"
   ]
  },
  {
   "cell_type": "markdown",
   "metadata": {},
   "source": [
    "'address' de pizza_metadata necesita normalización"
   ]
  },
  {
   "cell_type": "code",
   "execution_count": 433,
   "metadata": {},
   "outputs": [
    {
     "name": "stdout",
     "output_type": "stream",
     "text": [
      "0             1616 Chapala St, Ste 2\n",
      "1    87 Grasso Plaza Shopping Center\n",
      "2               5255 E Broadway Blvd\n",
      "3                        935 Race St\n",
      "4                      101 Walnut St\n",
      "Name: address, dtype: object\n",
      "0    Primo Pizza & Subs, 148 W St Joseph St, Easton...\n",
      "1    Sir Pizza Xpress, 201 E Broad St, Smithville, ...\n",
      "2    Bucci's Greek & Italian Specialties, 8030 S Ho...\n",
      "3    Dynamite Pizza & BBQ, 59069 Gratiot Ave, New H...\n",
      "4    Three Star Pizza, 409 Cabot St #1, Beverly, MA...\n",
      "Name: address, dtype: object\n"
     ]
    }
   ],
   "source": [
    "print(business['address'].head(5))\n",
    "print(pizza_metadata['address'].head(5))"
   ]
  },
  {
   "cell_type": "code",
   "execution_count": 434,
   "metadata": {},
   "outputs": [
    {
     "data": {
      "text/plain": [
       "108"
      ]
     },
     "execution_count": 434,
     "metadata": {},
     "output_type": "execute_result"
    }
   ],
   "source": [
    "# Buscar valores NaN en 'address'\n",
    "pizza_metadata['address'].isna().sum()"
   ]
  },
  {
   "cell_type": "code",
   "execution_count": 435,
   "metadata": {},
   "outputs": [
    {
     "name": "stdout",
     "output_type": "stream",
     "text": [
      "name\n",
      "P.Za Kitchen                        4\n",
      "Bite Squad                          2\n",
      "Lorenzo's of New York               2\n",
      "Rickenbacher Pizza                  1\n",
      "Treehouse Deliveries                1\n",
      "                                   ..\n",
      "Da Pizza Dude                       1\n",
      "Bella Rizzo's Pizzeria and Grill    1\n",
      "Harmony Pizza-We Deliver            1\n",
      "The Bike Waiter                     1\n",
      "Closed                              1\n",
      "Name: count, Length: 103, dtype: int64\n"
     ]
    }
   ],
   "source": [
    "print(pizza_metadata[pizza_metadata['address'].isna() == True]['name'].value_counts())"
   ]
  },
  {
   "cell_type": "code",
   "execution_count": 436,
   "metadata": {},
   "outputs": [],
   "source": [
    "# Eliminar filas con valores NaN en columna 'address' \n",
    "pizza_metadata = pizza_metadata.dropna(subset=['address'])"
   ]
  },
  {
   "cell_type": "code",
   "execution_count": 437,
   "metadata": {},
   "outputs": [
    {
     "name": "stdout",
     "output_type": "stream",
     "text": [
      "0      148 W St Joseph St, Easton, PA 18042\n",
      "1      201 E Broad St, Smithville, TN 37166\n",
      "2     8030 S Holly St, Centennial, CO 80122\n",
      "3    59069 Gratiot Ave, New Haven, MI 48048\n",
      "4        409 Cabot St #1, Beverly, MA 01915\n",
      "Name: old_address, dtype: object\n"
     ]
    }
   ],
   "source": [
    "# Normalizar columna 'address' y se cambia nombre a 'old_address'\n",
    "# Se extraer solo la parte de la dirección en pizza_metadata, eliminando el nombre del negocio\n",
    "pizza_metadata[\"old_address\"] = pizza_metadata[\"address\"].str.split(\",\", n=1).str[1].str.strip()\n",
    "\n",
    "print(pizza_metadata['old_address'].head(5))"
   ]
  },
  {
   "cell_type": "markdown",
   "metadata": {},
   "source": [
    "Nota: 'address' de pizza_metadata contienen otra información, tal como la ciudad y el estado"
   ]
  },
  {
   "cell_type": "markdown",
   "metadata": {},
   "source": [
    "El siguiente código separa los componentes de pizza_metadata['address'] en distintas columnas según corresponda"
   ]
  },
  {
   "cell_type": "code",
   "execution_count": 438,
   "metadata": {},
   "outputs": [
    {
     "name": "stdout",
     "output_type": "stream",
     "text": [
      "                              old_address             address         city  \\\n",
      "0    148 W St Joseph St, Easton, PA 18042  148 W St Joseph St       Easton   \n",
      "1    201 E Broad St, Smithville, TN 37166      201 E Broad St   Smithville   \n",
      "2   8030 S Holly St, Centennial, CO 80122     8030 S Holly St   Centennial   \n",
      "3  59069 Gratiot Ave, New Haven, MI 48048   59069 Gratiot Ave    New Haven   \n",
      "4      409 Cabot St #1, Beverly, MA 01915     409 Cabot St #1      Beverly   \n",
      "5    1104 1st St E, Park Rapids, MN 56470       1104 1st St E  Park Rapids   \n",
      "6  2725 Manitowoc Rd, Green Bay, WI 54311   2725 Manitowoc Rd    Green Bay   \n",
      "7   10637 N Tatum Blvd, Phoenix, AZ 85028  10637 N Tatum Blvd      Phoenix   \n",
      "8  790 Washington Ave, Brooklyn, NY 11238  790 Washington Ave     Brooklyn   \n",
      "9     3909 Creek Rd, Youngstown, NY 14174       3909 Creek Rd   Youngstown   \n",
      "\n",
      "  state postal_code  \n",
      "0    PA       18042  \n",
      "1    TN       37166  \n",
      "2    CO       80122  \n",
      "3    MI       48048  \n",
      "4    MA       01915  \n",
      "5    MN       56470  \n",
      "6    WI       54311  \n",
      "7    AZ       85028  \n",
      "8    NY       11238  \n",
      "9    NY       14174  \n"
     ]
    }
   ],
   "source": [
    "# Dividir la dirección en partes\n",
    "split_address = pizza_metadata[\"old_address\"].str.rsplit(\",\", n=2, expand=True)  # Divide desde el final\n",
    "\n",
    "# Asignar cada parte a nuevas columnas\n",
    "pizza_metadata[\"address\"] = split_address[0].str.strip()\n",
    "pizza_metadata[\"city\"] = split_address[1].str.strip()\n",
    "\n",
    "# Separar state y postal_code correctamente\n",
    "state_zip_split = split_address[2].str.strip().str.split(\" \", n=1, expand=True)\n",
    "pizza_metadata[\"state\"] = state_zip_split[0].str.strip()  # Estado (Ej: \"GA\")\n",
    "pizza_metadata[\"postal_code\"] = state_zip_split[1].str.strip()  # Código Postal (Ej: \"31522\")\n",
    "\n",
    "# Mostrar los primeros registros para verificar\n",
    "print(pizza_metadata[[\"old_address\", \"address\", \"city\", \"state\", \"postal_code\"]].head(10))\n"
   ]
  },
  {
   "cell_type": "code",
   "execution_count": 439,
   "metadata": {},
   "outputs": [
    {
     "name": "stdout",
     "output_type": "stream",
     "text": [
      "old_address: 0\n",
      "address: 0\n",
      "city: 1\n",
      "state: 105\n",
      "postal_code: 105\n"
     ]
    }
   ],
   "source": [
    "# Revisar cuantos valores NaN hay en las columnas anteriores\n",
    "for column in [\"old_address\", \"address\", \"city\", \"state\", \"postal_code\"]:\n",
    "    \n",
    "    print(f\"{column}:\", pizza_metadata[column].isna().sum())"
   ]
  },
  {
   "cell_type": "code",
   "execution_count": 440,
   "metadata": {},
   "outputs": [],
   "source": [
    "# Eliminar filas con valores NaN en las columnas 'city' y 'state'\n",
    "pizza_metadata = pizza_metadata.dropna(subset=['city'])\n",
    "pizza_metadata = pizza_metadata.dropna(subset=['state'])"
   ]
  },
  {
   "cell_type": "code",
   "execution_count": 441,
   "metadata": {},
   "outputs": [
    {
     "data": {
      "text/plain": [
       "25175"
      ]
     },
     "execution_count": 441,
     "metadata": {},
     "output_type": "execute_result"
    }
   ],
   "source": [
    "# Revisar número de filas de pizza_metadata\n",
    "pizza_metadata.shape[0]"
   ]
  },
  {
   "cell_type": "code",
   "execution_count": 442,
   "metadata": {},
   "outputs": [
    {
     "data": {
      "text/plain": [
       "Index(['business_id', 'name', 'address', 'city', 'state', 'postal_code',\n",
       "       'latitude_business', 'longitude_business', 'stars', 'review_count'],\n",
       "      dtype='object')"
      ]
     },
     "execution_count": 442,
     "metadata": {},
     "output_type": "execute_result"
    }
   ],
   "source": [
    "business.columns"
   ]
  },
  {
   "cell_type": "code",
   "execution_count": 443,
   "metadata": {},
   "outputs": [
    {
     "data": {
      "text/plain": [
       "0             1616 Chapala St, Ste 2\n",
       "1    87 Grasso Plaza Shopping Center\n",
       "2               5255 E Broadway Blvd\n",
       "3                        935 Race St\n",
       "4                      101 Walnut St\n",
       "Name: address, dtype: object"
      ]
     },
     "execution_count": 443,
     "metadata": {},
     "output_type": "execute_result"
    }
   ],
   "source": [
    "business['address'].head()"
   ]
  },
  {
   "cell_type": "code",
   "execution_count": 444,
   "metadata": {},
   "outputs": [
    {
     "data": {
      "text/plain": [
       "Index(['name', 'address', 'gmap_id', 'latitude_metadata', 'longitude_metadata',\n",
       "       'avg_rating', 'num_of_reviews', 'old_address', 'city', 'state',\n",
       "       'postal_code'],\n",
       "      dtype='object')"
      ]
     },
     "execution_count": 444,
     "metadata": {},
     "output_type": "execute_result"
    }
   ],
   "source": [
    "pizza_metadata.columns"
   ]
  },
  {
   "cell_type": "code",
   "execution_count": 445,
   "metadata": {},
   "outputs": [
    {
     "data": {
      "text/plain": [
       "0    148 W St Joseph St\n",
       "1        201 E Broad St\n",
       "2       8030 S Holly St\n",
       "3     59069 Gratiot Ave\n",
       "4       409 Cabot St #1\n",
       "Name: address, dtype: object"
      ]
     },
     "execution_count": 445,
     "metadata": {},
     "output_type": "execute_result"
    }
   ],
   "source": [
    "pizza_metadata['address'].head()"
   ]
  },
  {
   "cell_type": "markdown",
   "metadata": {},
   "source": [
    "El siguiente código trata de unir ambos datasets mediante la columna 'address'"
   ]
  },
  {
   "cell_type": "code",
   "execution_count": 446,
   "metadata": {},
   "outputs": [],
   "source": [
    "# # Unir business con pizza_metadata usando \"address\" como clave\n",
    "# merged_df = business.merge(\n",
    "#     pizza_metadata,  # Dataset más grande\n",
    "#     on=[\"address\"],  # Unir por dirección\n",
    "#     how=\"left\",  # Mantiene todas las filas de \"business\" y solo une coincidencias en \"pizza_metadata\"\n",
    "#     suffixes=(\"_business\", \"_metadata\")  # Evita nombres duplicados en las columnas\n",
    "# )\n",
    "\n",
    "# # Seleccionar solo las columnas relevantes\n",
    "# # merged_df = merged_df[[\n",
    "# #     \"business_id\", \"name_business\", \"address\", \"gmap_id\", \n",
    "# #     \"latitude_business\", \"longitude_business\", \"latitude_metadata\", \"longitude_metadata\", \n",
    "# #     \"stars\", \"review_count\", \"avg_rating\", \"num_of_reviews\", \"city\", \"state\", \"postal_code\"\n",
    "# # ]]\n",
    "\n",
    "# # Mostrar las primeras filas\n",
    "# merged_df.head()"
   ]
  },
  {
   "cell_type": "code",
   "execution_count": 447,
   "metadata": {},
   "outputs": [
    {
     "data": {
      "text/html": [
       "<div>\n",
       "<style scoped>\n",
       "    .dataframe tbody tr th:only-of-type {\n",
       "        vertical-align: middle;\n",
       "    }\n",
       "\n",
       "    .dataframe tbody tr th {\n",
       "        vertical-align: top;\n",
       "    }\n",
       "\n",
       "    .dataframe thead th {\n",
       "        text-align: right;\n",
       "    }\n",
       "</style>\n",
       "<table border=\"1\" class=\"dataframe\">\n",
       "  <thead>\n",
       "    <tr style=\"text-align: right;\">\n",
       "      <th></th>\n",
       "      <th>business_id</th>\n",
       "      <th>gmap_id</th>\n",
       "      <th>name_yelp</th>\n",
       "      <th>name_google</th>\n",
       "      <th>address_yelp</th>\n",
       "      <th>address_google</th>\n",
       "      <th>city_yelp</th>\n",
       "      <th>city_google</th>\n",
       "      <th>state_yelp</th>\n",
       "      <th>state_google</th>\n",
       "      <th>postal_code_yelp</th>\n",
       "      <th>postal_code_google</th>\n",
       "    </tr>\n",
       "  </thead>\n",
       "  <tbody>\n",
       "    <tr>\n",
       "      <th>0</th>\n",
       "      <td>Pns2l4eNsfO8kk83dixA6A</td>\n",
       "      <td>NaN</td>\n",
       "      <td>Abby Rappoport, LAC, CMQ</td>\n",
       "      <td>NaN</td>\n",
       "      <td>1616 Chapala St, Ste 2</td>\n",
       "      <td>NaN</td>\n",
       "      <td>Santa Barbara</td>\n",
       "      <td>NaN</td>\n",
       "      <td>None</td>\n",
       "      <td>NaN</td>\n",
       "      <td>93101</td>\n",
       "      <td>NaN</td>\n",
       "    </tr>\n",
       "    <tr>\n",
       "      <th>1</th>\n",
       "      <td>mpf3x-BjTdTEA3yCZrAYPw</td>\n",
       "      <td>NaN</td>\n",
       "      <td>The UPS Store</td>\n",
       "      <td>NaN</td>\n",
       "      <td>87 Grasso Plaza Shopping Center</td>\n",
       "      <td>NaN</td>\n",
       "      <td>Affton</td>\n",
       "      <td>NaN</td>\n",
       "      <td>None</td>\n",
       "      <td>NaN</td>\n",
       "      <td>63123</td>\n",
       "      <td>NaN</td>\n",
       "    </tr>\n",
       "    <tr>\n",
       "      <th>2</th>\n",
       "      <td>tUFrWirKiKi_TAnsVWINQQ</td>\n",
       "      <td>0x86d66fc7389c6efb:0xcb778e450955f8bf</td>\n",
       "      <td>Target</td>\n",
       "      <td>Pizza Hut Express</td>\n",
       "      <td>5255 E Broadway Blvd</td>\n",
       "      <td>5255 E Broadway Blvd</td>\n",
       "      <td>Tucson</td>\n",
       "      <td>Tucson</td>\n",
       "      <td>None</td>\n",
       "      <td>AZ</td>\n",
       "      <td>85711</td>\n",
       "      <td>85711</td>\n",
       "    </tr>\n",
       "    <tr>\n",
       "      <th>3</th>\n",
       "      <td>MTSW4McQd7CbVtyjqoe9mw</td>\n",
       "      <td>NaN</td>\n",
       "      <td>St Honore Pastries</td>\n",
       "      <td>NaN</td>\n",
       "      <td>935 Race St</td>\n",
       "      <td>NaN</td>\n",
       "      <td>Philadelphia</td>\n",
       "      <td>NaN</td>\n",
       "      <td>CA</td>\n",
       "      <td>NaN</td>\n",
       "      <td>19107</td>\n",
       "      <td>NaN</td>\n",
       "    </tr>\n",
       "    <tr>\n",
       "      <th>4</th>\n",
       "      <td>mWMc6_wTdE0EUBKIGXDVfA</td>\n",
       "      <td>0x88547dee22d98613:0x4c151868224666ed</td>\n",
       "      <td>Perkiomen Valley Brewery</td>\n",
       "      <td>Steve's Pizza</td>\n",
       "      <td>101 Walnut St</td>\n",
       "      <td>101 Walnut St</td>\n",
       "      <td>Green Lane</td>\n",
       "      <td>Badin</td>\n",
       "      <td>MO</td>\n",
       "      <td>NC</td>\n",
       "      <td>18054</td>\n",
       "      <td>28009</td>\n",
       "    </tr>\n",
       "  </tbody>\n",
       "</table>\n",
       "</div>"
      ],
      "text/plain": [
       "              business_id                                gmap_id  \\\n",
       "0  Pns2l4eNsfO8kk83dixA6A                                    NaN   \n",
       "1  mpf3x-BjTdTEA3yCZrAYPw                                    NaN   \n",
       "2  tUFrWirKiKi_TAnsVWINQQ  0x86d66fc7389c6efb:0xcb778e450955f8bf   \n",
       "3  MTSW4McQd7CbVtyjqoe9mw                                    NaN   \n",
       "4  mWMc6_wTdE0EUBKIGXDVfA  0x88547dee22d98613:0x4c151868224666ed   \n",
       "\n",
       "                  name_yelp        name_google  \\\n",
       "0  Abby Rappoport, LAC, CMQ                NaN   \n",
       "1             The UPS Store                NaN   \n",
       "2                    Target  Pizza Hut Express   \n",
       "3        St Honore Pastries                NaN   \n",
       "4  Perkiomen Valley Brewery      Steve's Pizza   \n",
       "\n",
       "                      address_yelp        address_google      city_yelp  \\\n",
       "0           1616 Chapala St, Ste 2                   NaN  Santa Barbara   \n",
       "1  87 Grasso Plaza Shopping Center                   NaN         Affton   \n",
       "2             5255 E Broadway Blvd  5255 E Broadway Blvd         Tucson   \n",
       "3                      935 Race St                   NaN   Philadelphia   \n",
       "4                    101 Walnut St         101 Walnut St     Green Lane   \n",
       "\n",
       "  city_google state_yelp state_google postal_code_yelp postal_code_google  \n",
       "0         NaN       None          NaN            93101                NaN  \n",
       "1         NaN       None          NaN            63123                NaN  \n",
       "2      Tucson       None           AZ            85711              85711  \n",
       "3         NaN         CA          NaN            19107                NaN  \n",
       "4       Badin         MO           NC            18054              28009  "
      ]
     },
     "execution_count": 447,
     "metadata": {},
     "output_type": "execute_result"
    }
   ],
   "source": [
    "# Renombrar la columna \"address\" en pizza_metadata antes de hacer el merge\n",
    "pizza_metadata = pizza_metadata.rename(columns={\"address\": \"address_google\"})\n",
    "business = business.rename(columns={\"address\" : \"address_yelp\"})\n",
    "\n",
    "# Unir business con pizza_metadata usando \"address\" como clave\n",
    "merged_df = business.merge(\n",
    "    pizza_metadata,  # Dataset más grande\n",
    "    left_on=\"address_yelp\", \n",
    "    right_on=\"address_google\",  # Usamos la dirección renombrada\n",
    "    how=\"left\",  # Mantiene todas las filas de \"business\"\n",
    "    suffixes=(\"_yelp\", \"_google\")  # Evita nombres duplicados\n",
    ")\n",
    "\n",
    "\n",
    "# Seleccionar solo las columnas deseadas, excluyendo latitude y longitude\n",
    "merged_df = merged_df[[\n",
    "    \"business_id\", \"gmap_id\", \"name_yelp\", \"name_google\", \n",
    "    \"address_yelp\", \"address_google\", \"city_yelp\", \"city_google\", \n",
    "    \"state_yelp\", \"state_google\", \"postal_code_yelp\", \"postal_code_google\"\n",
    "]]\n",
    "\n",
    "# Mostrar las primeras filas\n",
    "merged_df.head()"
   ]
  },
  {
   "cell_type": "code",
   "execution_count": 448,
   "metadata": {},
   "outputs": [
    {
     "data": {
      "text/plain": [
       "(150825, 12)"
      ]
     },
     "execution_count": 448,
     "metadata": {},
     "output_type": "execute_result"
    }
   ],
   "source": [
    "merged_df.shape"
   ]
  },
  {
   "cell_type": "code",
   "execution_count": 449,
   "metadata": {},
   "outputs": [
    {
     "data": {
      "text/plain": [
       "(3144, 12)"
      ]
     },
     "execution_count": 449,
     "metadata": {},
     "output_type": "execute_result"
    }
   ],
   "source": [
    "relation_df = merged_df[merged_df['address_google'].isna() == False]\n",
    "\n",
    "relation_df.shape"
   ]
  },
  {
   "cell_type": "code",
   "execution_count": 450,
   "metadata": {},
   "outputs": [
    {
     "data": {
      "text/html": [
       "<div>\n",
       "<style scoped>\n",
       "    .dataframe tbody tr th:only-of-type {\n",
       "        vertical-align: middle;\n",
       "    }\n",
       "\n",
       "    .dataframe tbody tr th {\n",
       "        vertical-align: top;\n",
       "    }\n",
       "\n",
       "    .dataframe thead th {\n",
       "        text-align: right;\n",
       "    }\n",
       "</style>\n",
       "<table border=\"1\" class=\"dataframe\">\n",
       "  <thead>\n",
       "    <tr style=\"text-align: right;\">\n",
       "      <th></th>\n",
       "      <th>business_id</th>\n",
       "      <th>gmap_id</th>\n",
       "      <th>name_yelp</th>\n",
       "      <th>name_google</th>\n",
       "      <th>address_yelp</th>\n",
       "      <th>address_google</th>\n",
       "      <th>city_yelp</th>\n",
       "      <th>city_google</th>\n",
       "      <th>state_yelp</th>\n",
       "      <th>state_google</th>\n",
       "      <th>postal_code_yelp</th>\n",
       "      <th>postal_code_google</th>\n",
       "    </tr>\n",
       "  </thead>\n",
       "  <tbody>\n",
       "    <tr>\n",
       "      <th>2</th>\n",
       "      <td>tUFrWirKiKi_TAnsVWINQQ</td>\n",
       "      <td>0x86d66fc7389c6efb:0xcb778e450955f8bf</td>\n",
       "      <td>Target</td>\n",
       "      <td>Pizza Hut Express</td>\n",
       "      <td>5255 E Broadway Blvd</td>\n",
       "      <td>5255 E Broadway Blvd</td>\n",
       "      <td>Tucson</td>\n",
       "      <td>Tucson</td>\n",
       "      <td>None</td>\n",
       "      <td>AZ</td>\n",
       "      <td>85711</td>\n",
       "      <td>85711</td>\n",
       "    </tr>\n",
       "    <tr>\n",
       "      <th>4</th>\n",
       "      <td>mWMc6_wTdE0EUBKIGXDVfA</td>\n",
       "      <td>0x88547dee22d98613:0x4c151868224666ed</td>\n",
       "      <td>Perkiomen Valley Brewery</td>\n",
       "      <td>Steve's Pizza</td>\n",
       "      <td>101 Walnut St</td>\n",
       "      <td>101 Walnut St</td>\n",
       "      <td>Green Lane</td>\n",
       "      <td>Badin</td>\n",
       "      <td>MO</td>\n",
       "      <td>NC</td>\n",
       "      <td>18054</td>\n",
       "      <td>28009</td>\n",
       "    </tr>\n",
       "    <tr>\n",
       "      <th>31</th>\n",
       "      <td>Mjboz24M9NlBeiOJKLEd_Q</td>\n",
       "      <td>0x89c6b9c7c9fe6a33:0xbd9ddddd88aae695</td>\n",
       "      <td>DeSandro on Main</td>\n",
       "      <td>Pizzeria L’Angolo</td>\n",
       "      <td>4105 Main St</td>\n",
       "      <td>4105 Main St</td>\n",
       "      <td>Philadelphia</td>\n",
       "      <td>Philadelphia</td>\n",
       "      <td>PA</td>\n",
       "      <td>PA</td>\n",
       "      <td>19127</td>\n",
       "      <td>19127</td>\n",
       "    </tr>\n",
       "    <tr>\n",
       "      <th>88</th>\n",
       "      <td>LhpPSrulqVeTyJeK2xydvQ</td>\n",
       "      <td>0x8816d532acf5a675:0xdd4e611f1a57338e</td>\n",
       "      <td>Fresh Fruits &amp; Salads</td>\n",
       "      <td>Third Street Pizzeria</td>\n",
       "      <td>114 N 3rd St</td>\n",
       "      <td>114 N 3rd St</td>\n",
       "      <td>Camden</td>\n",
       "      <td>Niles</td>\n",
       "      <td>CA</td>\n",
       "      <td>MI</td>\n",
       "      <td>08102</td>\n",
       "      <td>49120</td>\n",
       "    </tr>\n",
       "    <tr>\n",
       "      <th>147</th>\n",
       "      <td>uCQqtYW_xc1EJRm7NyakdA</td>\n",
       "      <td>0x80993f4534a09705:0x97a12e051ff8176b</td>\n",
       "      <td>Yogurt Beach</td>\n",
       "      <td>California Pizza Kitchen</td>\n",
       "      <td>2500 E 2nd St</td>\n",
       "      <td>2500 E 2nd St</td>\n",
       "      <td>Reno</td>\n",
       "      <td>Reno</td>\n",
       "      <td>IN</td>\n",
       "      <td>NV</td>\n",
       "      <td>89595</td>\n",
       "      <td>89595</td>\n",
       "    </tr>\n",
       "    <tr>\n",
       "      <th>256</th>\n",
       "      <td>py5aKmlTB2NarfsfcOpHOQ</td>\n",
       "      <td>0x88c2c238bae56661:0xa4684b03a202cf2d</td>\n",
       "      <td>Cafe Con Leche</td>\n",
       "      <td>Bavaro's Pizza Napoletana &amp; Pastaria</td>\n",
       "      <td>4100 George J Bean Pkwy</td>\n",
       "      <td>4100 George J Bean Pkwy</td>\n",
       "      <td>Tampa</td>\n",
       "      <td>Tampa</td>\n",
       "      <td>LA</td>\n",
       "      <td>FL</td>\n",
       "      <td>33607</td>\n",
       "      <td>33607</td>\n",
       "    </tr>\n",
       "    <tr>\n",
       "      <th>292</th>\n",
       "      <td>rZw9O5lJ36m_mXeRKE4G9A</td>\n",
       "      <td>0x89c6f5f2fe557339:0x30b76bb0b1276717</td>\n",
       "      <td>La Sponda</td>\n",
       "      <td>Barra Rossa Ristorante</td>\n",
       "      <td>20 E Lancaster Ave</td>\n",
       "      <td>20 E Lancaster Ave</td>\n",
       "      <td>Downingtown</td>\n",
       "      <td>Downingtown</td>\n",
       "      <td>IN</td>\n",
       "      <td>PA</td>\n",
       "      <td>19335</td>\n",
       "      <td>19335</td>\n",
       "    </tr>\n",
       "    <tr>\n",
       "      <th>431</th>\n",
       "      <td>ifjluUv4VASwmFqEp8cWlQ</td>\n",
       "      <td>0x80e914e976e10c81:0x6eb5ef854c57c0b2</td>\n",
       "      <td>Marty's Pizza</td>\n",
       "      <td>Marty's Pizza</td>\n",
       "      <td>2733 De La Vina St</td>\n",
       "      <td>2733 De La Vina St</td>\n",
       "      <td>Santa Barbara</td>\n",
       "      <td>Santa Barbara</td>\n",
       "      <td>PA</td>\n",
       "      <td>CA</td>\n",
       "      <td>93105</td>\n",
       "      <td>93105</td>\n",
       "    </tr>\n",
       "    <tr>\n",
       "      <th>601</th>\n",
       "      <td>xwSWtJcQkzTF6HNm_IMgcg</td>\n",
       "      <td>0x80e940a57b4bc689:0x576cb9b73973dda0</td>\n",
       "      <td>Rusty's Pizza Parlor</td>\n",
       "      <td>Rusty's Pizza Parlor</td>\n",
       "      <td>270 Storke Rd</td>\n",
       "      <td>270 Storke Rd</td>\n",
       "      <td>Goleta</td>\n",
       "      <td>Goleta</td>\n",
       "      <td>FL</td>\n",
       "      <td>CA</td>\n",
       "      <td>93117</td>\n",
       "      <td>93117</td>\n",
       "    </tr>\n",
       "    <tr>\n",
       "      <th>652</th>\n",
       "      <td>kGjpBqAqG4mIuFSgU2KKEA</td>\n",
       "      <td>0x89c6c639a8ff8b87:0xdfbf6ec28977036c</td>\n",
       "      <td>The Royal Indian Cuisine</td>\n",
       "      <td>The Spot</td>\n",
       "      <td>272 S 20th St</td>\n",
       "      <td>272 S 20th St</td>\n",
       "      <td>Philadelphia</td>\n",
       "      <td>Philadelphia</td>\n",
       "      <td>TN</td>\n",
       "      <td>PA</td>\n",
       "      <td>19103</td>\n",
       "      <td>19103</td>\n",
       "    </tr>\n",
       "  </tbody>\n",
       "</table>\n",
       "</div>"
      ],
      "text/plain": [
       "                business_id                                gmap_id  \\\n",
       "2    tUFrWirKiKi_TAnsVWINQQ  0x86d66fc7389c6efb:0xcb778e450955f8bf   \n",
       "4    mWMc6_wTdE0EUBKIGXDVfA  0x88547dee22d98613:0x4c151868224666ed   \n",
       "31   Mjboz24M9NlBeiOJKLEd_Q  0x89c6b9c7c9fe6a33:0xbd9ddddd88aae695   \n",
       "88   LhpPSrulqVeTyJeK2xydvQ  0x8816d532acf5a675:0xdd4e611f1a57338e   \n",
       "147  uCQqtYW_xc1EJRm7NyakdA  0x80993f4534a09705:0x97a12e051ff8176b   \n",
       "256  py5aKmlTB2NarfsfcOpHOQ  0x88c2c238bae56661:0xa4684b03a202cf2d   \n",
       "292  rZw9O5lJ36m_mXeRKE4G9A  0x89c6f5f2fe557339:0x30b76bb0b1276717   \n",
       "431  ifjluUv4VASwmFqEp8cWlQ  0x80e914e976e10c81:0x6eb5ef854c57c0b2   \n",
       "601  xwSWtJcQkzTF6HNm_IMgcg  0x80e940a57b4bc689:0x576cb9b73973dda0   \n",
       "652  kGjpBqAqG4mIuFSgU2KKEA  0x89c6c639a8ff8b87:0xdfbf6ec28977036c   \n",
       "\n",
       "                    name_yelp                           name_google  \\\n",
       "2                      Target                     Pizza Hut Express   \n",
       "4    Perkiomen Valley Brewery                         Steve's Pizza   \n",
       "31           DeSandro on Main                     Pizzeria L’Angolo   \n",
       "88      Fresh Fruits & Salads                 Third Street Pizzeria   \n",
       "147              Yogurt Beach              California Pizza Kitchen   \n",
       "256            Cafe Con Leche  Bavaro's Pizza Napoletana & Pastaria   \n",
       "292                 La Sponda                Barra Rossa Ristorante   \n",
       "431             Marty's Pizza                         Marty's Pizza   \n",
       "601      Rusty's Pizza Parlor                  Rusty's Pizza Parlor   \n",
       "652  The Royal Indian Cuisine                              The Spot   \n",
       "\n",
       "                address_yelp           address_google      city_yelp  \\\n",
       "2       5255 E Broadway Blvd     5255 E Broadway Blvd         Tucson   \n",
       "4              101 Walnut St            101 Walnut St     Green Lane   \n",
       "31              4105 Main St             4105 Main St   Philadelphia   \n",
       "88              114 N 3rd St             114 N 3rd St         Camden   \n",
       "147            2500 E 2nd St            2500 E 2nd St           Reno   \n",
       "256  4100 George J Bean Pkwy  4100 George J Bean Pkwy          Tampa   \n",
       "292       20 E Lancaster Ave       20 E Lancaster Ave    Downingtown   \n",
       "431       2733 De La Vina St       2733 De La Vina St  Santa Barbara   \n",
       "601            270 Storke Rd            270 Storke Rd         Goleta   \n",
       "652            272 S 20th St            272 S 20th St   Philadelphia   \n",
       "\n",
       "       city_google state_yelp state_google postal_code_yelp postal_code_google  \n",
       "2           Tucson       None           AZ            85711              85711  \n",
       "4            Badin         MO           NC            18054              28009  \n",
       "31    Philadelphia         PA           PA            19127              19127  \n",
       "88           Niles         CA           MI            08102              49120  \n",
       "147           Reno         IN           NV            89595              89595  \n",
       "256          Tampa         LA           FL            33607              33607  \n",
       "292    Downingtown         IN           PA            19335              19335  \n",
       "431  Santa Barbara         PA           CA            93105              93105  \n",
       "601         Goleta         FL           CA            93117              93117  \n",
       "652   Philadelphia         TN           PA            19103              19103  "
      ]
     },
     "execution_count": 450,
     "metadata": {},
     "output_type": "execute_result"
    }
   ],
   "source": [
    "relation_df.head(10)"
   ]
  }
 ],
 "metadata": {
  "kernelspec": {
   "display_name": "Python 3",
   "language": "python",
   "name": "python3"
  },
  "language_info": {
   "codemirror_mode": {
    "name": "ipython",
    "version": 3
   },
   "file_extension": ".py",
   "mimetype": "text/x-python",
   "name": "python",
   "nbconvert_exporter": "python",
   "pygments_lexer": "ipython3",
   "version": "3.11.0"
  }
 },
 "nbformat": 4,
 "nbformat_minor": 2
}
