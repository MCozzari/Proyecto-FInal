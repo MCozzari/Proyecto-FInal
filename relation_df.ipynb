{
 "cells": [
  {
   "cell_type": "markdown",
   "metadata": {},
   "source": [
    "# relation_df Dataset"
   ]
  },
  {
   "cell_type": "markdown",
   "metadata": {},
   "source": [
    "Creación de dataset relation_df que buscar relacionar los dataset de google maps y yelp mediante las columnas 'latitude' y 'longitude'"
   ]
  },
  {
   "cell_type": "code",
   "execution_count": 214,
   "metadata": {},
   "outputs": [],
   "source": [
    "import pandas as pd\n",
    "import warnings\n",
    "warnings.filterwarnings(\"ignore\")"
   ]
  },
  {
   "cell_type": "code",
   "execution_count": 215,
   "metadata": {},
   "outputs": [],
   "source": [
    "from pathlib import Path\n",
    "\n",
    "# Definir la ruta relativa desde el directorio del script\n",
    "relative_path_business = Path(\"datasets\") / \"business.parquet\"\n",
    "relative_path_pizza = Path(\"datasets\") / \"pizza_metadata.parquet\"\n",
    "\n",
    "# Cargar el archivo\n",
    "business = pd.read_parquet(relative_path_business)\n",
    "pizza_metadata = pd.read_parquet(relative_path_pizza)\n"
   ]
  },
  {
   "cell_type": "code",
   "execution_count": 216,
   "metadata": {},
   "outputs": [
    {
     "data": {
      "text/html": [
       "<div>\n",
       "<style scoped>\n",
       "    .dataframe tbody tr th:only-of-type {\n",
       "        vertical-align: middle;\n",
       "    }\n",
       "\n",
       "    .dataframe tbody tr th {\n",
       "        vertical-align: top;\n",
       "    }\n",
       "\n",
       "    .dataframe thead th {\n",
       "        text-align: right;\n",
       "    }\n",
       "</style>\n",
       "<table border=\"1\" class=\"dataframe\">\n",
       "  <thead>\n",
       "    <tr style=\"text-align: right;\">\n",
       "      <th></th>\n",
       "      <th>business_id</th>\n",
       "      <th>name</th>\n",
       "      <th>address</th>\n",
       "      <th>city</th>\n",
       "      <th>state</th>\n",
       "      <th>postal_code</th>\n",
       "      <th>latitude</th>\n",
       "      <th>longitude</th>\n",
       "      <th>stars</th>\n",
       "      <th>review_count</th>\n",
       "    </tr>\n",
       "  </thead>\n",
       "  <tbody>\n",
       "    <tr>\n",
       "      <th>0</th>\n",
       "      <td>Pns2l4eNsfO8kk83dixA6A</td>\n",
       "      <td>Abby Rappoport, LAC, CMQ</td>\n",
       "      <td>1616 Chapala St, Ste 2</td>\n",
       "      <td>Santa Barbara</td>\n",
       "      <td>None</td>\n",
       "      <td>93101</td>\n",
       "      <td>34.426679</td>\n",
       "      <td>-119.711197</td>\n",
       "      <td>5.0</td>\n",
       "      <td>7</td>\n",
       "    </tr>\n",
       "    <tr>\n",
       "      <th>1</th>\n",
       "      <td>mpf3x-BjTdTEA3yCZrAYPw</td>\n",
       "      <td>The UPS Store</td>\n",
       "      <td>87 Grasso Plaza Shopping Center</td>\n",
       "      <td>Affton</td>\n",
       "      <td>None</td>\n",
       "      <td>63123</td>\n",
       "      <td>38.551126</td>\n",
       "      <td>-90.335695</td>\n",
       "      <td>3.0</td>\n",
       "      <td>15</td>\n",
       "    </tr>\n",
       "    <tr>\n",
       "      <th>2</th>\n",
       "      <td>tUFrWirKiKi_TAnsVWINQQ</td>\n",
       "      <td>Target</td>\n",
       "      <td>5255 E Broadway Blvd</td>\n",
       "      <td>Tucson</td>\n",
       "      <td>None</td>\n",
       "      <td>85711</td>\n",
       "      <td>32.223236</td>\n",
       "      <td>-110.880452</td>\n",
       "      <td>3.5</td>\n",
       "      <td>22</td>\n",
       "    </tr>\n",
       "    <tr>\n",
       "      <th>3</th>\n",
       "      <td>MTSW4McQd7CbVtyjqoe9mw</td>\n",
       "      <td>St Honore Pastries</td>\n",
       "      <td>935 Race St</td>\n",
       "      <td>Philadelphia</td>\n",
       "      <td>CA</td>\n",
       "      <td>19107</td>\n",
       "      <td>39.955505</td>\n",
       "      <td>-75.155564</td>\n",
       "      <td>4.0</td>\n",
       "      <td>80</td>\n",
       "    </tr>\n",
       "    <tr>\n",
       "      <th>4</th>\n",
       "      <td>mWMc6_wTdE0EUBKIGXDVfA</td>\n",
       "      <td>Perkiomen Valley Brewery</td>\n",
       "      <td>101 Walnut St</td>\n",
       "      <td>Green Lane</td>\n",
       "      <td>MO</td>\n",
       "      <td>18054</td>\n",
       "      <td>40.338183</td>\n",
       "      <td>-75.471659</td>\n",
       "      <td>4.5</td>\n",
       "      <td>13</td>\n",
       "    </tr>\n",
       "  </tbody>\n",
       "</table>\n",
       "</div>"
      ],
      "text/plain": [
       "              business_id                      name  \\\n",
       "0  Pns2l4eNsfO8kk83dixA6A  Abby Rappoport, LAC, CMQ   \n",
       "1  mpf3x-BjTdTEA3yCZrAYPw             The UPS Store   \n",
       "2  tUFrWirKiKi_TAnsVWINQQ                    Target   \n",
       "3  MTSW4McQd7CbVtyjqoe9mw        St Honore Pastries   \n",
       "4  mWMc6_wTdE0EUBKIGXDVfA  Perkiomen Valley Brewery   \n",
       "\n",
       "                           address           city state postal_code  \\\n",
       "0           1616 Chapala St, Ste 2  Santa Barbara  None       93101   \n",
       "1  87 Grasso Plaza Shopping Center         Affton  None       63123   \n",
       "2             5255 E Broadway Blvd         Tucson  None       85711   \n",
       "3                      935 Race St   Philadelphia    CA       19107   \n",
       "4                    101 Walnut St     Green Lane    MO       18054   \n",
       "\n",
       "    latitude   longitude  stars  review_count  \n",
       "0  34.426679 -119.711197    5.0             7  \n",
       "1  38.551126  -90.335695    3.0            15  \n",
       "2  32.223236 -110.880452    3.5            22  \n",
       "3  39.955505  -75.155564    4.0            80  \n",
       "4  40.338183  -75.471659    4.5            13  "
      ]
     },
     "execution_count": 216,
     "metadata": {},
     "output_type": "execute_result"
    }
   ],
   "source": [
    "business.head()"
   ]
  },
  {
   "cell_type": "code",
   "execution_count": 217,
   "metadata": {},
   "outputs": [
    {
     "data": {
      "text/html": [
       "<div>\n",
       "<style scoped>\n",
       "    .dataframe tbody tr th:only-of-type {\n",
       "        vertical-align: middle;\n",
       "    }\n",
       "\n",
       "    .dataframe tbody tr th {\n",
       "        vertical-align: top;\n",
       "    }\n",
       "\n",
       "    .dataframe thead th {\n",
       "        text-align: right;\n",
       "    }\n",
       "</style>\n",
       "<table border=\"1\" class=\"dataframe\">\n",
       "  <thead>\n",
       "    <tr style=\"text-align: right;\">\n",
       "      <th></th>\n",
       "      <th>name</th>\n",
       "      <th>address</th>\n",
       "      <th>gmap_id</th>\n",
       "      <th>latitude</th>\n",
       "      <th>longitude</th>\n",
       "      <th>avg_rating</th>\n",
       "      <th>num_of_reviews</th>\n",
       "    </tr>\n",
       "  </thead>\n",
       "  <tbody>\n",
       "    <tr>\n",
       "      <th>0</th>\n",
       "      <td>Sir Pizza Xpress</td>\n",
       "      <td>Sir Pizza Xpress, 201 E Broad St, Smithville, ...</td>\n",
       "      <td>0x8866cef69c5737a1:0xbdf838584dca0b9c</td>\n",
       "      <td>35.956944</td>\n",
       "      <td>-85.811111</td>\n",
       "      <td>4.1</td>\n",
       "      <td>18</td>\n",
       "    </tr>\n",
       "    <tr>\n",
       "      <th>1</th>\n",
       "      <td>Bucci's Greek &amp; Italian Specialties</td>\n",
       "      <td>Bucci's Greek &amp; Italian Specialties, 8030 S Ho...</td>\n",
       "      <td>0x876c8410e0d7ec6d:0xb06492857fa9ec9d</td>\n",
       "      <td>39.572697</td>\n",
       "      <td>-104.922399</td>\n",
       "      <td>4.7</td>\n",
       "      <td>13</td>\n",
       "    </tr>\n",
       "    <tr>\n",
       "      <th>2</th>\n",
       "      <td>Dynamite Pizza &amp; BBQ</td>\n",
       "      <td>Dynamite Pizza &amp; BBQ, 59069 Gratiot Ave, New H...</td>\n",
       "      <td>0x882518a534093375:0x4333d5f58f7af4c</td>\n",
       "      <td>42.735038</td>\n",
       "      <td>-82.785340</td>\n",
       "      <td>4.1</td>\n",
       "      <td>8</td>\n",
       "    </tr>\n",
       "    <tr>\n",
       "      <th>3</th>\n",
       "      <td>Three Star Pizza</td>\n",
       "      <td>Three Star Pizza, 409 Cabot St #1, Beverly, MA...</td>\n",
       "      <td>0x89e3169821e62d4d:0x14ff0683c1ebca0e</td>\n",
       "      <td>42.559072</td>\n",
       "      <td>-70.881542</td>\n",
       "      <td>3.9</td>\n",
       "      <td>48</td>\n",
       "    </tr>\n",
       "    <tr>\n",
       "      <th>4</th>\n",
       "      <td>Hot Stuff Pizza</td>\n",
       "      <td>Hot Stuff Pizza, 1104 1st St E, Park Rapids, M...</td>\n",
       "      <td>0x52b7b8e4459a8697:0x81e50b7c06d172df</td>\n",
       "      <td>46.921303</td>\n",
       "      <td>-95.037448</td>\n",
       "      <td>3.3</td>\n",
       "      <td>7</td>\n",
       "    </tr>\n",
       "  </tbody>\n",
       "</table>\n",
       "</div>"
      ],
      "text/plain": [
       "                                  name  \\\n",
       "0                     Sir Pizza Xpress   \n",
       "1  Bucci's Greek & Italian Specialties   \n",
       "2                 Dynamite Pizza & BBQ   \n",
       "3                     Three Star Pizza   \n",
       "4                      Hot Stuff Pizza   \n",
       "\n",
       "                                             address  \\\n",
       "0  Sir Pizza Xpress, 201 E Broad St, Smithville, ...   \n",
       "1  Bucci's Greek & Italian Specialties, 8030 S Ho...   \n",
       "2  Dynamite Pizza & BBQ, 59069 Gratiot Ave, New H...   \n",
       "3  Three Star Pizza, 409 Cabot St #1, Beverly, MA...   \n",
       "4  Hot Stuff Pizza, 1104 1st St E, Park Rapids, M...   \n",
       "\n",
       "                                 gmap_id   latitude   longitude  avg_rating  \\\n",
       "0  0x8866cef69c5737a1:0xbdf838584dca0b9c  35.956944  -85.811111         4.1   \n",
       "1  0x876c8410e0d7ec6d:0xb06492857fa9ec9d  39.572697 -104.922399         4.7   \n",
       "2   0x882518a534093375:0x4333d5f58f7af4c  42.735038  -82.785340         4.1   \n",
       "3  0x89e3169821e62d4d:0x14ff0683c1ebca0e  42.559072  -70.881542         3.9   \n",
       "4  0x52b7b8e4459a8697:0x81e50b7c06d172df  46.921303  -95.037448         3.3   \n",
       "\n",
       "   num_of_reviews  \n",
       "0              18  \n",
       "1              13  \n",
       "2               8  \n",
       "3              48  \n",
       "4               7  "
      ]
     },
     "execution_count": 217,
     "metadata": {},
     "output_type": "execute_result"
    }
   ],
   "source": [
    "pizza_metadata.head()"
   ]
  },
  {
   "cell_type": "markdown",
   "metadata": {},
   "source": [
    "Join mediante 'longitude' y 'latitude'"
   ]
  },
  {
   "cell_type": "code",
   "execution_count": 218,
   "metadata": {},
   "outputs": [
    {
     "data": {
      "text/html": [
       "<div>\n",
       "<style scoped>\n",
       "    .dataframe tbody tr th:only-of-type {\n",
       "        vertical-align: middle;\n",
       "    }\n",
       "\n",
       "    .dataframe tbody tr th {\n",
       "        vertical-align: top;\n",
       "    }\n",
       "\n",
       "    .dataframe thead th {\n",
       "        text-align: right;\n",
       "    }\n",
       "</style>\n",
       "<table border=\"1\" class=\"dataframe\">\n",
       "  <thead>\n",
       "    <tr style=\"text-align: right;\">\n",
       "      <th></th>\n",
       "      <th>name</th>\n",
       "      <th>business_id</th>\n",
       "      <th>gmap_id</th>\n",
       "      <th>latitude</th>\n",
       "      <th>longitude</th>\n",
       "    </tr>\n",
       "  </thead>\n",
       "  <tbody>\n",
       "  </tbody>\n",
       "</table>\n",
       "</div>"
      ],
      "text/plain": [
       "Empty DataFrame\n",
       "Columns: [name, business_id, gmap_id, latitude, longitude]\n",
       "Index: []"
      ]
     },
     "execution_count": 218,
     "metadata": {},
     "output_type": "execute_result"
    }
   ],
   "source": [
    "epsilon = 0.0001  # Margen de tolerancia en coordenadas\n",
    "\n",
    "# Renombrar columnas para evitar conflictos en el merge\n",
    "business = business.rename(columns={\"latitude\": \"latitude_business\", \"longitude\": \"longitude_business\"})\n",
    "pizza_metadata = pizza_metadata.rename(columns={\"latitude\": \"latitude_metadata\", \"longitude\": \"longitude_metadata\"})\n",
    "\n",
    "# Merge manteniendo solo los negocios en el dataset business\n",
    "relation_df = business.merge(\n",
    "    pizza_metadata,\n",
    "    how=\"left\"  # Asegura que solo se mantengan los datos de business\n",
    ")\n",
    "\n",
    "# Filtrar solo las coincidencias dentro del margen epsilon\n",
    "relation_df = relation_df.query(\n",
    "    \"abs(latitude_business - latitude_metadata) <= @epsilon and abs(longitude_business - longitude_metadata) <= @epsilon\"\n",
    ")[[\"name\", \"business_id\", \"gmap_id\", \"latitude_business\", \"longitude_business\"]]\n",
    "\n",
    "# Renombrar las columnas finales\n",
    "relation_df = relation_df.rename(columns={\"latitude_business\": \"latitude\", \"longitude_business\": \"longitude\"})\n",
    "\n",
    "# Mostrar las primeras filas\n",
    "relation_df.head()"
   ]
  },
  {
   "cell_type": "markdown",
   "metadata": {},
   "source": [
    "No hay coincidencias usando 'latitude' y 'longitude'"
   ]
  },
  {
   "cell_type": "code",
   "execution_count": 219,
   "metadata": {},
   "outputs": [
    {
     "name": "stdout",
     "output_type": "stream",
     "text": [
      "   latitude_business  longitude_business\n",
      "0          34.426679         -119.711197\n",
      "1          38.551126          -90.335695\n",
      "2          32.223236         -110.880452\n",
      "3          39.955505          -75.155564\n",
      "4          40.338183          -75.471659\n",
      "   latitude_metadata  longitude_metadata\n",
      "0          35.956944          -85.811111\n",
      "1          39.572697         -104.922399\n",
      "2          42.735038          -82.785340\n",
      "3          42.559072          -70.881542\n",
      "4          46.921303          -95.037448\n"
     ]
    }
   ],
   "source": [
    "print(business[[\"latitude_business\", \"longitude_business\"]].head(5))\n",
    "print(pizza_metadata[[\"latitude_metadata\", \"longitude_metadata\"]].head(5))"
   ]
  },
  {
   "cell_type": "markdown",
   "metadata": {},
   "source": [
    "'address' de pizza_metadata necesita normalización"
   ]
  },
  {
   "cell_type": "code",
   "execution_count": 220,
   "metadata": {},
   "outputs": [
    {
     "name": "stdout",
     "output_type": "stream",
     "text": [
      "0             1616 Chapala St, Ste 2\n",
      "1    87 Grasso Plaza Shopping Center\n",
      "2               5255 E Broadway Blvd\n",
      "3                        935 Race St\n",
      "4                      101 Walnut St\n",
      "Name: address, dtype: object\n",
      "0    Sir Pizza Xpress, 201 E Broad St, Smithville, ...\n",
      "1    Bucci's Greek & Italian Specialties, 8030 S Ho...\n",
      "2    Dynamite Pizza & BBQ, 59069 Gratiot Ave, New H...\n",
      "3    Three Star Pizza, 409 Cabot St #1, Beverly, MA...\n",
      "4    Hot Stuff Pizza, 1104 1st St E, Park Rapids, M...\n",
      "Name: address, dtype: object\n"
     ]
    }
   ],
   "source": [
    "print(business['address'].head(5))\n",
    "print(pizza_metadata['address'].head(5))"
   ]
  },
  {
   "cell_type": "code",
   "execution_count": 221,
   "metadata": {},
   "outputs": [
    {
     "data": {
      "text/plain": [
       "27"
      ]
     },
     "execution_count": 221,
     "metadata": {},
     "output_type": "execute_result"
    }
   ],
   "source": [
    "# Buscar valores NaN en 'address'\n",
    "pizza_metadata['address'].isna().sum()"
   ]
  },
  {
   "cell_type": "code",
   "execution_count": 222,
   "metadata": {},
   "outputs": [
    {
     "name": "stdout",
     "output_type": "stream",
     "text": [
      "name\n",
      "Galaxy Zone                                             1\n",
      "Che Buono Restaurant and Caterer                        1\n",
      "Archepoint™                                             1\n",
      "U.B.'s Pizza and Mediterranean Pies                     1\n",
      "Brothers Pizza                                          1\n",
      "The WoodShed Mobile Wood-Fired Pizza                    1\n",
      "Pizza sandrino                                          1\n",
      "Chrislees Submasters bar and grill                      1\n",
      "Slice of Heaven                                         1\n",
      "Old Town Pizza                                          1\n",
      "The Country Vineyard Italian Restaurant and Pizzeria    1\n",
      "Giovanni's Pizza Parma                                  1\n",
      "American Pizza                                          1\n",
      "Foothill Pizza                                          1\n",
      "New York Style Pizza & Gyros                            1\n",
      "Best Pizza Delivery Near Arlington, VA                  1\n",
      "Simple Simon's Pizza - Harrison, AR                     1\n",
      "Supremo's Pizza and Wings                               1\n",
      "Sal's Pizza Weirs Beach NH                              1\n",
      "T-Jo's Pizza & Sandwich Shop Holmen                     1\n",
      "Oregon Wood Fired Pizza                                 1\n",
      "Tiff's on Main                                          1\n",
      "The Pizza Wagon Catering Company ( Food Truck )         1\n",
      "Pasquale's Pizzeria and Restaurant at Wallkill          1\n",
      "WilmyWoodie Food Truck                                  1\n",
      "The Lunch Room                                          1\n",
      "Closed                                                  1\n",
      "Name: count, dtype: int64\n"
     ]
    }
   ],
   "source": [
    "print(pizza_metadata[pizza_metadata['address'].isna() == True]['name'].value_counts())"
   ]
  },
  {
   "cell_type": "code",
   "execution_count": 223,
   "metadata": {},
   "outputs": [
    {
     "data": {
      "text/plain": [
       "0"
      ]
     },
     "execution_count": 223,
     "metadata": {},
     "output_type": "execute_result"
    }
   ],
   "source": [
    "pizza_metadata = pizza_metadata.dropna(subset=['address'])\n",
    "pizza_metadata['address'].isna().sum()"
   ]
  },
  {
   "cell_type": "code",
   "execution_count": 224,
   "metadata": {},
   "outputs": [
    {
     "name": "stdout",
     "output_type": "stream",
     "text": [
      "0      201 E Broad St, Smithville, TN 37166\n",
      "1     8030 S Holly St, Centennial, CO 80122\n",
      "2    59069 Gratiot Ave, New Haven, MI 48048\n",
      "3        409 Cabot St #1, Beverly, MA 01915\n",
      "4      1104 1st St E, Park Rapids, MN 56470\n",
      "Name: old_address, dtype: object\n"
     ]
    }
   ],
   "source": [
    "# Normalizar columna 'address' y se cambia nombre a 'old_address'\n",
    "# Se extraer solo la parte de la dirección en pizza_metadata, eliminando el nombre del negocio\n",
    "pizza_metadata[\"old_address\"] = pizza_metadata[\"address\"].str.split(\",\", n=1).str[1].str.strip()\n",
    "\n",
    "print(pizza_metadata['old_address'].head(5))"
   ]
  },
  {
   "cell_type": "markdown",
   "metadata": {},
   "source": [
    "Nota: 'address' de pizza_metadata contienen otra información, tal como la ciudad y el estado"
   ]
  },
  {
   "cell_type": "markdown",
   "metadata": {},
   "source": [
    "El siguiente código separa los componentes de pizza_metadata['address'] en distintas columnas según corresponda"
   ]
  },
  {
   "cell_type": "code",
   "execution_count": 225,
   "metadata": {},
   "outputs": [
    {
     "name": "stdout",
     "output_type": "stream",
     "text": [
      "                                  old_address             address  \\\n",
      "0        201 E Broad St, Smithville, TN 37166      201 E Broad St   \n",
      "1       8030 S Holly St, Centennial, CO 80122     8030 S Holly St   \n",
      "2      59069 Gratiot Ave, New Haven, MI 48048   59069 Gratiot Ave   \n",
      "3          409 Cabot St #1, Beverly, MA 01915     409 Cabot St #1   \n",
      "4        1104 1st St E, Park Rapids, MN 56470       1104 1st St E   \n",
      "5      2725 Manitowoc Rd, Green Bay, WI 54311   2725 Manitowoc Rd   \n",
      "6       10637 N Tatum Blvd, Phoenix, AZ 85028  10637 N Tatum Blvd   \n",
      "7      790 Washington Ave, Brooklyn, NY 11238  790 Washington Ave   \n",
      "8         3909 Creek Rd, Youngstown, NY 14174       3909 Creek Rd   \n",
      "9  511 Ocean Blvd, St Simons Island, GA 31522      511 Ocean Blvd   \n",
      "\n",
      "               city state postal_code  \n",
      "0        Smithville    TN       37166  \n",
      "1        Centennial    CO       80122  \n",
      "2         New Haven    MI       48048  \n",
      "3           Beverly    MA       01915  \n",
      "4       Park Rapids    MN       56470  \n",
      "5         Green Bay    WI       54311  \n",
      "6           Phoenix    AZ       85028  \n",
      "7          Brooklyn    NY       11238  \n",
      "8        Youngstown    NY       14174  \n",
      "9  St Simons Island    GA       31522  \n"
     ]
    }
   ],
   "source": [
    "# Dividir la dirección en partes\n",
    "split_address = pizza_metadata[\"old_address\"].str.rsplit(\",\", n=2, expand=True)  # Divide desde el final\n",
    "\n",
    "# Asignar cada parte a nuevas columnas\n",
    "pizza_metadata[\"address\"] = split_address[0].str.strip()\n",
    "pizza_metadata[\"city\"] = split_address[1].str.strip()\n",
    "\n",
    "# Separar state y postal_code correctamente\n",
    "state_zip_split = split_address[2].str.strip().str.split(\" \", n=1, expand=True)\n",
    "pizza_metadata[\"state\"] = state_zip_split[0].str.strip()  # Estado (Ej: \"GA\")\n",
    "pizza_metadata[\"postal_code\"] = state_zip_split[1].str.strip()  # Código Postal (Ej: \"31522\")\n",
    "\n",
    "# Mostrar los primeros registros para verificar\n",
    "print(pizza_metadata[[\"old_address\", \"address\", \"city\", \"state\", \"postal_code\"]].head(10))\n"
   ]
  },
  {
   "cell_type": "code",
   "execution_count": 226,
   "metadata": {},
   "outputs": [
    {
     "name": "stdout",
     "output_type": "stream",
     "text": [
      "old_address: 0\n",
      "address: 0\n",
      "city: 1\n",
      "state: 102\n",
      "postal_code: 102\n"
     ]
    }
   ],
   "source": [
    "# Revisar cuantos valores NaN hay en las columnas anteriores\n",
    "for column in [\"old_address\", \"address\", \"city\", \"state\", \"postal_code\"]:\n",
    "    \n",
    "    print(f\"{column}:\", pizza_metadata[column].isna().sum())"
   ]
  },
  {
   "cell_type": "code",
   "execution_count": 227,
   "metadata": {},
   "outputs": [
    {
     "data": {
      "text/html": [
       "<div>\n",
       "<style scoped>\n",
       "    .dataframe tbody tr th:only-of-type {\n",
       "        vertical-align: middle;\n",
       "    }\n",
       "\n",
       "    .dataframe tbody tr th {\n",
       "        vertical-align: top;\n",
       "    }\n",
       "\n",
       "    .dataframe thead th {\n",
       "        text-align: right;\n",
       "    }\n",
       "</style>\n",
       "<table border=\"1\" class=\"dataframe\">\n",
       "  <thead>\n",
       "    <tr style=\"text-align: right;\">\n",
       "      <th></th>\n",
       "      <th>name</th>\n",
       "      <th>address</th>\n",
       "      <th>gmap_id</th>\n",
       "      <th>latitude_metadata</th>\n",
       "      <th>longitude_metadata</th>\n",
       "      <th>avg_rating</th>\n",
       "      <th>num_of_reviews</th>\n",
       "      <th>old_address</th>\n",
       "      <th>city</th>\n",
       "      <th>state</th>\n",
       "      <th>postal_code</th>\n",
       "    </tr>\n",
       "  </thead>\n",
       "  <tbody>\n",
       "    <tr>\n",
       "      <th>16593</th>\n",
       "      <td>Crossroads Pizza</td>\n",
       "      <td>North Carolina 28516</td>\n",
       "      <td>0x89a89095fc78b2b1:0x8c7433d35e612e7c</td>\n",
       "      <td>34.769659</td>\n",
       "      <td>-76.551205</td>\n",
       "      <td>4.4</td>\n",
       "      <td>108</td>\n",
       "      <td>North Carolina 28516</td>\n",
       "      <td>None</td>\n",
       "      <td>None</td>\n",
       "      <td>None</td>\n",
       "    </tr>\n",
       "  </tbody>\n",
       "</table>\n",
       "</div>"
      ],
      "text/plain": [
       "                   name               address  \\\n",
       "16593  Crossroads Pizza  North Carolina 28516   \n",
       "\n",
       "                                     gmap_id  latitude_metadata  \\\n",
       "16593  0x89a89095fc78b2b1:0x8c7433d35e612e7c          34.769659   \n",
       "\n",
       "       longitude_metadata  avg_rating  num_of_reviews           old_address  \\\n",
       "16593          -76.551205         4.4             108  North Carolina 28516   \n",
       "\n",
       "       city state postal_code  \n",
       "16593  None  None        None  "
      ]
     },
     "execution_count": 227,
     "metadata": {},
     "output_type": "execute_result"
    }
   ],
   "source": [
    "pizza_metadata[pizza_metadata['city'].isna() == True]"
   ]
  },
  {
   "cell_type": "code",
   "execution_count": 228,
   "metadata": {},
   "outputs": [],
   "source": [
    "pizza_metadata = pizza_metadata.dropna(subset=['city'])\n",
    "pizza_metadata = pizza_metadata.dropna(subset=['state'])"
   ]
  },
  {
   "cell_type": "code",
   "execution_count": 229,
   "metadata": {},
   "outputs": [
    {
     "data": {
      "text/plain": [
       "(23592, 11)"
      ]
     },
     "execution_count": 229,
     "metadata": {},
     "output_type": "execute_result"
    }
   ],
   "source": [
    "pizza_metadata.shape"
   ]
  },
  {
   "cell_type": "code",
   "execution_count": 230,
   "metadata": {},
   "outputs": [],
   "source": [
    "# # Dividir la dirección en partes\n",
    "# split_address = pizza_metadata[\"address\"].str.split(\",\", expand=True)\n",
    "\n",
    "# # Asignar cada parte a nuevas columnas\n",
    "# pizza_metadata[\"address\"] = split_address[0].str.strip()\n",
    "# pizza_metadata[\"city\"] = split_address[1].str.strip()\n",
    "# pizza_metadata[\"state\"] = split_address[2].str.split(\" \", expand=True)[0].str.strip()\n",
    "# pizza_metadata[\"postal_code\"] = split_address[2].str.split(\" \", expand=True)[1].str.strip()\n",
    "\n",
    "# # Mostrar los primeros registros para verificar\n",
    "# print(pizza_metadata[[\"address\", \"city\", \"state\", \"postal_code\"]].head(10))\n"
   ]
  },
  {
   "cell_type": "markdown",
   "metadata": {},
   "source": [
    "El siguiente código trata de unir ambos datasets mediante la columna 'address'"
   ]
  },
  {
   "cell_type": "code",
   "execution_count": 231,
   "metadata": {},
   "outputs": [],
   "source": [
    "# # Unir los datasets por dirección\n",
    "# relation_df = business.merge(\n",
    "#     pizza_metadata,\n",
    "#     left_on=\"address\",\n",
    "#     right_on=\"clean_address\",\n",
    "#     how=\"inner\"\n",
    "# )\n",
    "\n",
    "# # Seleccionar columnas relevantes\n",
    "# relation_df = relation_df[[\"name\", \"business_id\", \"gmap_id\", \"latitude\", \"longitude\"]]\n",
    "\n",
    "# # Mostrar las primeras filas\n",
    "# relation_df.head()"
   ]
  }
 ],
 "metadata": {
  "kernelspec": {
   "display_name": "Python 3",
   "language": "python",
   "name": "python3"
  },
  "language_info": {
   "codemirror_mode": {
    "name": "ipython",
    "version": 3
   },
   "file_extension": ".py",
   "mimetype": "text/x-python",
   "name": "python",
   "nbconvert_exporter": "python",
   "pygments_lexer": "ipython3",
   "version": "3.11.0"
  }
 },
 "nbformat": 4,
 "nbformat_minor": 2
}
